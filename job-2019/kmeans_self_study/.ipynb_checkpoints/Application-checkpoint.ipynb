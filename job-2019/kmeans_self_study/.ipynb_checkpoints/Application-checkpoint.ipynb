{
 "cells": [
  {
   "cell_type": "code",
   "execution_count": 6,
   "metadata": {},
   "outputs": [
    {
     "name": "stdout",
     "output_type": "stream",
     "text": [
      " 请输入文件的正确路径> hha\n",
      "except: File b'hha' does not exist\n",
      " 请输入文件的正确路径> jfewij\n",
      "except: File b'jfewij' does not exist\n",
      " 请输入文件的正确路径> fjew\n",
      "except: File b'fjew' does not exist\n",
      " 请输入文件的正确路径> k_means_data1.csv\n"
     ]
    },
    {
     "name": "stderr",
     "output_type": "stream",
     "text": [
      "100%|██████████| 290/290 [00:00<00:00, 66347.47it/s]"
     ]
    },
    {
     "name": "stdout",
     "output_type": "stream",
     "text": [
      "The total size of our vocabulary is: 10\n"
     ]
    },
    {
     "name": "stderr",
     "output_type": "stream",
     "text": [
      "\n",
      "100%|██████████| 10/10 [00:00<00:00, 12737.03it/s]"
     ]
    },
    {
     "name": "stdout",
     "output_type": "stream",
     "text": [
      "have pretrained-vectors in vocab is: 8\n",
      "do not have pretrained-vectors in vocab is : 2\n",
      "static embeddings shape is : (10, 300)\n"
     ]
    },
    {
     "name": "stderr",
     "output_type": "stream",
     "text": [
      "\n",
      "/Users/james/anaconda3/lib/python3.6/site-packages/sklearn/cluster/k_means_.py:971: ConvergenceWarning: Number of distinct clusters (8) found smaller than n_clusters (9). Possibly due to duplicate points in X.\n",
      "  return_n_iter=True)\n",
      "/Users/james/anaconda3/lib/python3.6/site-packages/sklearn/cluster/k_means_.py:971: ConvergenceWarning: Number of distinct clusters (8) found smaller than n_clusters (10). Possibly due to duplicate points in X.\n",
      "  return_n_iter=True)\n",
      "/Users/james/anaconda3/lib/python3.6/site-packages/sklearn/cluster/k_means_.py:971: ConvergenceWarning: Number of distinct clusters (8) found smaller than n_clusters (11). Possibly due to duplicate points in X.\n",
      "  return_n_iter=True)\n",
      "/Users/james/anaconda3/lib/python3.6/site-packages/sklearn/cluster/k_means_.py:971: ConvergenceWarning: Number of distinct clusters (8) found smaller than n_clusters (12). Possibly due to duplicate points in X.\n",
      "  return_n_iter=True)\n",
      "/Users/james/anaconda3/lib/python3.6/site-packages/sklearn/cluster/k_means_.py:971: ConvergenceWarning: Number of distinct clusters (8) found smaller than n_clusters (13). Possibly due to duplicate points in X.\n",
      "  return_n_iter=True)\n",
      "/Users/james/anaconda3/lib/python3.6/site-packages/sklearn/cluster/k_means_.py:971: ConvergenceWarning: Number of distinct clusters (8) found smaller than n_clusters (14). Possibly due to duplicate points in X.\n",
      "  return_n_iter=True)\n",
      "/Users/james/anaconda3/lib/python3.6/site-packages/sklearn/cluster/k_means_.py:971: ConvergenceWarning: Number of distinct clusters (8) found smaller than n_clusters (15). Possibly due to duplicate points in X.\n",
      "  return_n_iter=True)\n",
      "/Users/james/anaconda3/lib/python3.6/site-packages/sklearn/cluster/k_means_.py:971: ConvergenceWarning: Number of distinct clusters (8) found smaller than n_clusters (16). Possibly due to duplicate points in X.\n",
      "  return_n_iter=True)\n",
      "/Users/james/anaconda3/lib/python3.6/site-packages/sklearn/cluster/k_means_.py:971: ConvergenceWarning: Number of distinct clusters (8) found smaller than n_clusters (17). Possibly due to duplicate points in X.\n",
      "  return_n_iter=True)\n",
      "/Users/james/anaconda3/lib/python3.6/site-packages/sklearn/cluster/k_means_.py:971: ConvergenceWarning: Number of distinct clusters (8) found smaller than n_clusters (18). Possibly due to duplicate points in X.\n",
      "  return_n_iter=True)\n",
      "/Users/james/anaconda3/lib/python3.6/site-packages/sklearn/cluster/k_means_.py:971: ConvergenceWarning: Number of distinct clusters (8) found smaller than n_clusters (19). Possibly due to duplicate points in X.\n",
      "  return_n_iter=True)\n",
      "/Users/james/anaconda3/lib/python3.6/site-packages/sklearn/cluster/k_means_.py:971: ConvergenceWarning: Number of distinct clusters (8) found smaller than n_clusters (20). Possibly due to duplicate points in X.\n",
      "  return_n_iter=True)\n",
      "/Users/james/anaconda3/lib/python3.6/site-packages/sklearn/cluster/k_means_.py:971: ConvergenceWarning: Number of distinct clusters (8) found smaller than n_clusters (21). Possibly due to duplicate points in X.\n",
      "  return_n_iter=True)\n",
      "/Users/james/anaconda3/lib/python3.6/site-packages/sklearn/cluster/k_means_.py:971: ConvergenceWarning: Number of distinct clusters (8) found smaller than n_clusters (22). Possibly due to duplicate points in X.\n",
      "  return_n_iter=True)\n",
      "/Users/james/anaconda3/lib/python3.6/site-packages/sklearn/cluster/k_means_.py:971: ConvergenceWarning: Number of distinct clusters (8) found smaller than n_clusters (23). Possibly due to duplicate points in X.\n",
      "  return_n_iter=True)\n",
      "/Users/james/anaconda3/lib/python3.6/site-packages/sklearn/cluster/k_means_.py:971: ConvergenceWarning: Number of distinct clusters (8) found smaller than n_clusters (24). Possibly due to duplicate points in X.\n",
      "  return_n_iter=True)\n",
      "/Users/james/anaconda3/lib/python3.6/site-packages/sklearn/cluster/k_means_.py:971: ConvergenceWarning: Number of distinct clusters (8) found smaller than n_clusters (25). Possibly due to duplicate points in X.\n",
      "  return_n_iter=True)\n",
      "/Users/james/anaconda3/lib/python3.6/site-packages/sklearn/cluster/k_means_.py:971: ConvergenceWarning: Number of distinct clusters (8) found smaller than n_clusters (26). Possibly due to duplicate points in X.\n",
      "  return_n_iter=True)\n",
      "/Users/james/anaconda3/lib/python3.6/site-packages/sklearn/cluster/k_means_.py:971: ConvergenceWarning: Number of distinct clusters (8) found smaller than n_clusters (27). Possibly due to duplicate points in X.\n",
      "  return_n_iter=True)\n",
      "/Users/james/anaconda3/lib/python3.6/site-packages/sklearn/cluster/k_means_.py:971: ConvergenceWarning: Number of distinct clusters (8) found smaller than n_clusters (28). Possibly due to duplicate points in X.\n",
      "  return_n_iter=True)\n",
      "/Users/james/anaconda3/lib/python3.6/site-packages/sklearn/cluster/k_means_.py:971: ConvergenceWarning: Number of distinct clusters (8) found smaller than n_clusters (29). Possibly due to duplicate points in X.\n",
      "  return_n_iter=True)\n",
      "/Users/james/anaconda3/lib/python3.6/site-packages/sklearn/cluster/k_means_.py:971: ConvergenceWarning: Number of distinct clusters (8) found smaller than n_clusters (30). Possibly due to duplicate points in X.\n",
      "  return_n_iter=True)\n",
      "/Users/james/anaconda3/lib/python3.6/site-packages/sklearn/cluster/k_means_.py:971: ConvergenceWarning: Number of distinct clusters (8) found smaller than n_clusters (31). Possibly due to duplicate points in X.\n",
      "  return_n_iter=True)\n",
      "/Users/james/anaconda3/lib/python3.6/site-packages/sklearn/cluster/k_means_.py:971: ConvergenceWarning: Number of distinct clusters (8) found smaller than n_clusters (32). Possibly due to duplicate points in X.\n",
      "  return_n_iter=True)\n",
      "/Users/james/anaconda3/lib/python3.6/site-packages/sklearn/cluster/k_means_.py:971: ConvergenceWarning: Number of distinct clusters (8) found smaller than n_clusters (33). Possibly due to duplicate points in X.\n",
      "  return_n_iter=True)\n",
      "/Users/james/anaconda3/lib/python3.6/site-packages/sklearn/cluster/k_means_.py:971: ConvergenceWarning: Number of distinct clusters (8) found smaller than n_clusters (34). Possibly due to duplicate points in X.\n",
      "  return_n_iter=True)\n",
      "/Users/james/anaconda3/lib/python3.6/site-packages/sklearn/cluster/k_means_.py:971: ConvergenceWarning: Number of distinct clusters (8) found smaller than n_clusters (35). Possibly due to duplicate points in X.\n",
      "  return_n_iter=True)\n",
      "/Users/james/anaconda3/lib/python3.6/site-packages/sklearn/cluster/k_means_.py:971: ConvergenceWarning: Number of distinct clusters (8) found smaller than n_clusters (36). Possibly due to duplicate points in X.\n",
      "  return_n_iter=True)\n",
      "/Users/james/anaconda3/lib/python3.6/site-packages/sklearn/cluster/k_means_.py:971: ConvergenceWarning: Number of distinct clusters (8) found smaller than n_clusters (37). Possibly due to duplicate points in X.\n",
      "  return_n_iter=True)\n",
      "/Users/james/anaconda3/lib/python3.6/site-packages/sklearn/cluster/k_means_.py:971: ConvergenceWarning: Number of distinct clusters (8) found smaller than n_clusters (38). Possibly due to duplicate points in X.\n",
      "  return_n_iter=True)\n",
      "/Users/james/anaconda3/lib/python3.6/site-packages/sklearn/cluster/k_means_.py:971: ConvergenceWarning: Number of distinct clusters (8) found smaller than n_clusters (39). Possibly due to duplicate points in X.\n",
      "  return_n_iter=True)\n",
      "/Users/james/anaconda3/lib/python3.6/site-packages/sklearn/cluster/k_means_.py:971: ConvergenceWarning: Number of distinct clusters (8) found smaller than n_clusters (40). Possibly due to duplicate points in X.\n",
      "  return_n_iter=True)\n",
      "/Users/james/anaconda3/lib/python3.6/site-packages/sklearn/cluster/k_means_.py:971: ConvergenceWarning: Number of distinct clusters (8) found smaller than n_clusters (41). Possibly due to duplicate points in X.\n",
      "  return_n_iter=True)\n",
      "/Users/james/anaconda3/lib/python3.6/site-packages/sklearn/cluster/k_means_.py:971: ConvergenceWarning: Number of distinct clusters (8) found smaller than n_clusters (42). Possibly due to duplicate points in X.\n",
      "  return_n_iter=True)\n",
      "/Users/james/anaconda3/lib/python3.6/site-packages/sklearn/cluster/k_means_.py:971: ConvergenceWarning: Number of distinct clusters (8) found smaller than n_clusters (43). Possibly due to duplicate points in X.\n",
      "  return_n_iter=True)\n",
      "/Users/james/anaconda3/lib/python3.6/site-packages/sklearn/cluster/k_means_.py:971: ConvergenceWarning: Number of distinct clusters (8) found smaller than n_clusters (44). Possibly due to duplicate points in X.\n",
      "  return_n_iter=True)\n"
     ]
    },
    {
     "name": "stderr",
     "output_type": "stream",
     "text": [
      "/Users/james/anaconda3/lib/python3.6/site-packages/sklearn/cluster/k_means_.py:971: ConvergenceWarning: Number of distinct clusters (8) found smaller than n_clusters (45). Possibly due to duplicate points in X.\n",
      "  return_n_iter=True)\n",
      "/Users/james/anaconda3/lib/python3.6/site-packages/sklearn/cluster/k_means_.py:971: ConvergenceWarning: Number of distinct clusters (8) found smaller than n_clusters (46). Possibly due to duplicate points in X.\n",
      "  return_n_iter=True)\n",
      "/Users/james/anaconda3/lib/python3.6/site-packages/sklearn/cluster/k_means_.py:971: ConvergenceWarning: Number of distinct clusters (8) found smaller than n_clusters (47). Possibly due to duplicate points in X.\n",
      "  return_n_iter=True)\n",
      "/Users/james/anaconda3/lib/python3.6/site-packages/sklearn/cluster/k_means_.py:971: ConvergenceWarning: Number of distinct clusters (8) found smaller than n_clusters (48). Possibly due to duplicate points in X.\n",
      "  return_n_iter=True)\n",
      "/Users/james/anaconda3/lib/python3.6/site-packages/sklearn/cluster/k_means_.py:971: ConvergenceWarning: Number of distinct clusters (8) found smaller than n_clusters (49). Possibly due to duplicate points in X.\n",
      "  return_n_iter=True)\n",
      "/Users/james/anaconda3/lib/python3.6/site-packages/sklearn/cluster/k_means_.py:971: ConvergenceWarning: Number of distinct clusters (8) found smaller than n_clusters (50). Possibly due to duplicate points in X.\n",
      "  return_n_iter=True)\n",
      "/Users/james/anaconda3/lib/python3.6/site-packages/sklearn/cluster/k_means_.py:971: ConvergenceWarning: Number of distinct clusters (8) found smaller than n_clusters (51). Possibly due to duplicate points in X.\n",
      "  return_n_iter=True)\n",
      "/Users/james/anaconda3/lib/python3.6/site-packages/sklearn/cluster/k_means_.py:971: ConvergenceWarning: Number of distinct clusters (8) found smaller than n_clusters (52). Possibly due to duplicate points in X.\n",
      "  return_n_iter=True)\n",
      "/Users/james/anaconda3/lib/python3.6/site-packages/sklearn/cluster/k_means_.py:971: ConvergenceWarning: Number of distinct clusters (8) found smaller than n_clusters (53). Possibly due to duplicate points in X.\n",
      "  return_n_iter=True)\n",
      "/Users/james/anaconda3/lib/python3.6/site-packages/sklearn/cluster/k_means_.py:971: ConvergenceWarning: Number of distinct clusters (8) found smaller than n_clusters (54). Possibly due to duplicate points in X.\n",
      "  return_n_iter=True)\n",
      "/Users/james/anaconda3/lib/python3.6/site-packages/sklearn/cluster/k_means_.py:971: ConvergenceWarning: Number of distinct clusters (8) found smaller than n_clusters (55). Possibly due to duplicate points in X.\n",
      "  return_n_iter=True)\n",
      "/Users/james/anaconda3/lib/python3.6/site-packages/sklearn/cluster/k_means_.py:971: ConvergenceWarning: Number of distinct clusters (8) found smaller than n_clusters (56). Possibly due to duplicate points in X.\n",
      "  return_n_iter=True)\n",
      "/Users/james/anaconda3/lib/python3.6/site-packages/sklearn/cluster/k_means_.py:971: ConvergenceWarning: Number of distinct clusters (8) found smaller than n_clusters (57). Possibly due to duplicate points in X.\n",
      "  return_n_iter=True)\n",
      "/Users/james/anaconda3/lib/python3.6/site-packages/sklearn/cluster/k_means_.py:971: ConvergenceWarning: Number of distinct clusters (8) found smaller than n_clusters (58). Possibly due to duplicate points in X.\n",
      "  return_n_iter=True)\n",
      "/Users/james/anaconda3/lib/python3.6/site-packages/sklearn/cluster/k_means_.py:971: ConvergenceWarning: Number of distinct clusters (8) found smaller than n_clusters (59). Possibly due to duplicate points in X.\n",
      "  return_n_iter=True)\n",
      "/Users/james/anaconda3/lib/python3.6/site-packages/sklearn/cluster/k_means_.py:971: ConvergenceWarning: Number of distinct clusters (8) found smaller than n_clusters (60). Possibly due to duplicate points in X.\n",
      "  return_n_iter=True)\n",
      "/Users/james/anaconda3/lib/python3.6/site-packages/sklearn/cluster/k_means_.py:971: ConvergenceWarning: Number of distinct clusters (8) found smaller than n_clusters (61). Possibly due to duplicate points in X.\n",
      "  return_n_iter=True)\n",
      "/Users/james/anaconda3/lib/python3.6/site-packages/sklearn/cluster/k_means_.py:971: ConvergenceWarning: Number of distinct clusters (8) found smaller than n_clusters (62). Possibly due to duplicate points in X.\n",
      "  return_n_iter=True)\n",
      "/Users/james/anaconda3/lib/python3.6/site-packages/sklearn/cluster/k_means_.py:971: ConvergenceWarning: Number of distinct clusters (8) found smaller than n_clusters (63). Possibly due to duplicate points in X.\n",
      "  return_n_iter=True)\n",
      "/Users/james/anaconda3/lib/python3.6/site-packages/sklearn/cluster/k_means_.py:971: ConvergenceWarning: Number of distinct clusters (8) found smaller than n_clusters (64). Possibly due to duplicate points in X.\n",
      "  return_n_iter=True)\n",
      "/Users/james/anaconda3/lib/python3.6/site-packages/sklearn/cluster/k_means_.py:971: ConvergenceWarning: Number of distinct clusters (8) found smaller than n_clusters (65). Possibly due to duplicate points in X.\n",
      "  return_n_iter=True)\n",
      "/Users/james/anaconda3/lib/python3.6/site-packages/sklearn/cluster/k_means_.py:971: ConvergenceWarning: Number of distinct clusters (8) found smaller than n_clusters (66). Possibly due to duplicate points in X.\n",
      "  return_n_iter=True)\n",
      "/Users/james/anaconda3/lib/python3.6/site-packages/sklearn/cluster/k_means_.py:971: ConvergenceWarning: Number of distinct clusters (8) found smaller than n_clusters (67). Possibly due to duplicate points in X.\n",
      "  return_n_iter=True)\n",
      "/Users/james/anaconda3/lib/python3.6/site-packages/sklearn/cluster/k_means_.py:971: ConvergenceWarning: Number of distinct clusters (8) found smaller than n_clusters (68). Possibly due to duplicate points in X.\n",
      "  return_n_iter=True)\n",
      "/Users/james/anaconda3/lib/python3.6/site-packages/sklearn/cluster/k_means_.py:971: ConvergenceWarning: Number of distinct clusters (8) found smaller than n_clusters (69). Possibly due to duplicate points in X.\n",
      "  return_n_iter=True)\n",
      "/Users/james/anaconda3/lib/python3.6/site-packages/sklearn/cluster/k_means_.py:971: ConvergenceWarning: Number of distinct clusters (8) found smaller than n_clusters (70). Possibly due to duplicate points in X.\n",
      "  return_n_iter=True)\n",
      "/Users/james/anaconda3/lib/python3.6/site-packages/sklearn/cluster/k_means_.py:971: ConvergenceWarning: Number of distinct clusters (8) found smaller than n_clusters (71). Possibly due to duplicate points in X.\n",
      "  return_n_iter=True)\n",
      "/Users/james/anaconda3/lib/python3.6/site-packages/sklearn/cluster/k_means_.py:971: ConvergenceWarning: Number of distinct clusters (8) found smaller than n_clusters (72). Possibly due to duplicate points in X.\n",
      "  return_n_iter=True)\n",
      "/Users/james/anaconda3/lib/python3.6/site-packages/sklearn/cluster/k_means_.py:971: ConvergenceWarning: Number of distinct clusters (8) found smaller than n_clusters (73). Possibly due to duplicate points in X.\n",
      "  return_n_iter=True)\n",
      "/Users/james/anaconda3/lib/python3.6/site-packages/sklearn/cluster/k_means_.py:971: ConvergenceWarning: Number of distinct clusters (8) found smaller than n_clusters (74). Possibly due to duplicate points in X.\n",
      "  return_n_iter=True)\n",
      "/Users/james/anaconda3/lib/python3.6/site-packages/sklearn/cluster/k_means_.py:971: ConvergenceWarning: Number of distinct clusters (8) found smaller than n_clusters (75). Possibly due to duplicate points in X.\n",
      "  return_n_iter=True)\n",
      "/Users/james/anaconda3/lib/python3.6/site-packages/sklearn/cluster/k_means_.py:971: ConvergenceWarning: Number of distinct clusters (8) found smaller than n_clusters (76). Possibly due to duplicate points in X.\n",
      "  return_n_iter=True)\n",
      "/Users/james/anaconda3/lib/python3.6/site-packages/sklearn/cluster/k_means_.py:971: ConvergenceWarning: Number of distinct clusters (8) found smaller than n_clusters (77). Possibly due to duplicate points in X.\n",
      "  return_n_iter=True)\n",
      "/Users/james/anaconda3/lib/python3.6/site-packages/sklearn/cluster/k_means_.py:971: ConvergenceWarning: Number of distinct clusters (8) found smaller than n_clusters (78). Possibly due to duplicate points in X.\n",
      "  return_n_iter=True)\n",
      "/Users/james/anaconda3/lib/python3.6/site-packages/sklearn/cluster/k_means_.py:971: ConvergenceWarning: Number of distinct clusters (8) found smaller than n_clusters (79). Possibly due to duplicate points in X.\n",
      "  return_n_iter=True)\n",
      "/Users/james/anaconda3/lib/python3.6/site-packages/sklearn/cluster/k_means_.py:971: ConvergenceWarning: Number of distinct clusters (8) found smaller than n_clusters (80). Possibly due to duplicate points in X.\n",
      "  return_n_iter=True)\n"
     ]
    },
    {
     "name": "stderr",
     "output_type": "stream",
     "text": [
      "/Users/james/anaconda3/lib/python3.6/site-packages/sklearn/cluster/k_means_.py:971: ConvergenceWarning: Number of distinct clusters (8) found smaller than n_clusters (81). Possibly due to duplicate points in X.\n",
      "  return_n_iter=True)\n",
      "/Users/james/anaconda3/lib/python3.6/site-packages/sklearn/cluster/k_means_.py:971: ConvergenceWarning: Number of distinct clusters (8) found smaller than n_clusters (82). Possibly due to duplicate points in X.\n",
      "  return_n_iter=True)\n",
      "/Users/james/anaconda3/lib/python3.6/site-packages/sklearn/cluster/k_means_.py:971: ConvergenceWarning: Number of distinct clusters (8) found smaller than n_clusters (83). Possibly due to duplicate points in X.\n",
      "  return_n_iter=True)\n",
      "/Users/james/anaconda3/lib/python3.6/site-packages/sklearn/cluster/k_means_.py:971: ConvergenceWarning: Number of distinct clusters (8) found smaller than n_clusters (84). Possibly due to duplicate points in X.\n",
      "  return_n_iter=True)\n",
      "/Users/james/anaconda3/lib/python3.6/site-packages/sklearn/cluster/k_means_.py:971: ConvergenceWarning: Number of distinct clusters (8) found smaller than n_clusters (85). Possibly due to duplicate points in X.\n",
      "  return_n_iter=True)\n",
      "/Users/james/anaconda3/lib/python3.6/site-packages/sklearn/cluster/k_means_.py:971: ConvergenceWarning: Number of distinct clusters (8) found smaller than n_clusters (86). Possibly due to duplicate points in X.\n",
      "  return_n_iter=True)\n",
      "/Users/james/anaconda3/lib/python3.6/site-packages/sklearn/cluster/k_means_.py:971: ConvergenceWarning: Number of distinct clusters (8) found smaller than n_clusters (87). Possibly due to duplicate points in X.\n",
      "  return_n_iter=True)\n",
      "/Users/james/anaconda3/lib/python3.6/site-packages/sklearn/cluster/k_means_.py:971: ConvergenceWarning: Number of distinct clusters (8) found smaller than n_clusters (88). Possibly due to duplicate points in X.\n",
      "  return_n_iter=True)\n",
      "/Users/james/anaconda3/lib/python3.6/site-packages/sklearn/cluster/k_means_.py:971: ConvergenceWarning: Number of distinct clusters (8) found smaller than n_clusters (89). Possibly due to duplicate points in X.\n",
      "  return_n_iter=True)\n",
      "/Users/james/anaconda3/lib/python3.6/site-packages/sklearn/cluster/k_means_.py:971: ConvergenceWarning: Number of distinct clusters (8) found smaller than n_clusters (90). Possibly due to duplicate points in X.\n",
      "  return_n_iter=True)\n",
      "/Users/james/anaconda3/lib/python3.6/site-packages/sklearn/cluster/k_means_.py:971: ConvergenceWarning: Number of distinct clusters (8) found smaller than n_clusters (91). Possibly due to duplicate points in X.\n",
      "  return_n_iter=True)\n",
      "/Users/james/anaconda3/lib/python3.6/site-packages/sklearn/cluster/k_means_.py:971: ConvergenceWarning: Number of distinct clusters (8) found smaller than n_clusters (92). Possibly due to duplicate points in X.\n",
      "  return_n_iter=True)\n",
      "/Users/james/anaconda3/lib/python3.6/site-packages/sklearn/cluster/k_means_.py:971: ConvergenceWarning: Number of distinct clusters (8) found smaller than n_clusters (93). Possibly due to duplicate points in X.\n",
      "  return_n_iter=True)\n",
      "/Users/james/anaconda3/lib/python3.6/site-packages/sklearn/cluster/k_means_.py:971: ConvergenceWarning: Number of distinct clusters (8) found smaller than n_clusters (94). Possibly due to duplicate points in X.\n",
      "  return_n_iter=True)\n",
      "/Users/james/anaconda3/lib/python3.6/site-packages/sklearn/cluster/k_means_.py:971: ConvergenceWarning: Number of distinct clusters (8) found smaller than n_clusters (95). Possibly due to duplicate points in X.\n",
      "  return_n_iter=True)\n"
     ]
    },
    {
     "name": "stdout",
     "output_type": "stream",
     "text": [
      "1.0000000000000007\n",
      "1.0000000000000004\n",
      "1.0000000000000007\n",
      "1.0000000000000004\n",
      "1.0000000000000007\n",
      "1.0000000000000009\n",
      "0.9407802547889516\n",
      "finished\n",
      "输入文件的目录为:answer.xlsx\n"
     ]
    },
    {
     "data": {
      "image/png": "[encoded data removed]",
      "text/plain": [
       "<matplotlib.figure.Figure at 0x1a38d45e10>"
      ]
     },
     "metadata": {
      "needs_background": "light"
     },
     "output_type": "display_data"
    }
   ],
   "source": [
    "from complete_main import *\n",
    "def Input():\n",
    "    input_sentence = ''\n",
    "    while(1):\n",
    "        try:\n",
    "            # Get input sentence\n",
    "            input_sentence = input(' 请输入文件的正确路径> ')\n",
    "            # Check if it is quit case\n",
    "            if input_sentence == 'q' or input_sentence == 'quit': break\n",
    "            data_list= get_data(input_sentence)\n",
    "            return data_list\n",
    "        except Exception as e:\n",
    "            print('except:', e)   \n",
    "if __name__ == '__main__':\n",
    "    data = Input()\n",
    "     ##get k value\n",
    "    k,input_embedding=get_best_k(data)\n",
    "    #get result\n",
    "    get_result_by_k(k,input_embedding,data)\n",
    "    print(\"输入文件的目录为:answer.xlsx\")\n",
    "    \n",
    "    "
   ]
  },
  {
   "cell_type": "code",
   "execution_count": null,
   "metadata": {},
   "outputs": [],
   "source": []
  }
 ],
 "metadata": {
  "kernelspec": {
   "display_name": "Python 3",
   "language": "python",
   "name": "python3"
  },
  "language_info": {
   "codemirror_mode": {
    "name": "ipython",
    "version": 3
   },
   "file_extension": ".py",
   "mimetype": "text/x-python",
   "name": "python",
   "nbconvert_exporter": "python",
   "pygments_lexer": "ipython3",
   "version": "3.6.4"
  }
 },
 "nbformat": 4,
 "nbformat_minor": 2
}
