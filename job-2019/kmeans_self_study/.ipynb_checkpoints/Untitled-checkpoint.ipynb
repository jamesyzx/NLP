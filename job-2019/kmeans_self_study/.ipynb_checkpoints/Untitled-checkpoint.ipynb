{
 "cells": [
  {
   "cell_type": "code",
   "execution_count": 4,
   "metadata": {},
   "outputs": [
    {
     "name": "stderr",
     "output_type": "stream",
     "text": [
      " * Running on http://0.0.0.0:80/ (Press CTRL+C to quit)\n",
      "127.0.0.1 - - [15/Oct/2019 10:33:55] \"\u001b[37mGET /run HTTP/1.1\u001b[0m\" 200 -\n"
     ]
    },
    {
     "name": "stdout",
     "output_type": "stream",
     "text": [
      "None\n"
     ]
    },
    {
     "name": "stderr",
     "output_type": "stream",
     "text": [
      "127.0.0.1 - - [15/Oct/2019 10:34:01] \"\u001b[37mGET /run HTTP/1.1\u001b[0m\" 200 -\n"
     ]
    },
    {
     "name": "stdout",
     "output_type": "stream",
     "text": [
      "None\n"
     ]
    },
    {
     "name": "stderr",
     "output_type": "stream",
     "text": [
      "127.0.0.1 - - [15/Oct/2019 10:34:02] \"\u001b[37mGET / HTTP/1.1\u001b[0m\" 200 -\n",
      "127.0.0.1 - - [15/Oct/2019 10:34:06] \"\u001b[37mGET / HTTP/1.1\u001b[0m\" 200 -\n"
     ]
    },
    {
     "name": "stdout",
     "output_type": "stream",
     "text": [
      "/Users/james/NLP/job-2019/kmeans_self_study/data/k_means_data2.csv\n"
     ]
    },
    {
     "name": "stderr",
     "output_type": "stream",
     "text": [
      "100%|██████████| 980/980 [00:00<00:00, 15491.14it/s]"
     ]
    },
    {
     "name": "stdout",
     "output_type": "stream",
     "text": [
      "The total size of our vocabulary is: 928\n"
     ]
    },
    {
     "name": "stderr",
     "output_type": "stream",
     "text": [
      "\n"
     ]
    }
   ],
   "source": [
    "# encoding: utf-8\n",
    "from flask import Flask\n",
    "from flask import request\n",
    "from flask import render_template\n",
    "from flask import send_file\n",
    "from requests import put, get\n",
    "import time\n",
    "from concurrent.futures import ThreadPoolExecutor\n",
    "import json\n",
    "from complete_main import *\n",
    "\n",
    "# 构建一个线程池\n",
    "executor = ThreadPoolExecutor(1)\n",
    "# 创建一个flask对象,名字随意但一定要和下面的app对应\n",
    "app = Flask(__name__) \n",
    "\n",
    "def a_b_sum(a,b):\n",
    "    return a+b\n",
    "\n",
    "# 访问根路径\n",
    "@app.route('/')\n",
    "def main():\n",
    "    user = {'nickname': 'Miguel'} \n",
    "    return render_template(\"index.html\", user = user,tag=a_b_sum)\n",
    "\n",
    "@app.route('/run' ,methods={'POST',\"GET\"})\n",
    "def getdata():\n",
    "    inputdir=request.form.get(\"inputdir\")\n",
    "    outputdir=request.form.get(\"outputdir\")\n",
    "    print(inputdir)\n",
    "    try:\n",
    "        data=get_data_by_path(str(inputdir))\n",
    "    except Exception as e:\n",
    "        return \"file can't found!!!!\"\n",
    "    executor.submit(do_update(data))\n",
    "    return 'process is running'\n",
    "    \n",
    "def do_update(data):\n",
    "    time.sleep(3)\n",
    "    k,input_embedding=get_best_k(data)\n",
    "    #get result\n",
    "    get_result_by_k(k,input_embedding,data)    \n",
    "    #return render_template(\"run_success.html\",inputdir=inputdir,outputdir=\"输入文件的目录为:answer.xlsx\")\n",
    "\n",
    "# 执行py文件时，运行flask对象\n",
    "if __name__ == '__main__':\n",
    "    \n",
    "    app.run(host='0.0.0.0',port = 80)"
   ]
  },
  {
   "cell_type": "code",
   "execution_count": null,
   "metadata": {},
   "outputs": [],
   "source": []
  }
 ],
 "metadata": {
  "kernelspec": {
   "display_name": "Python 3",
   "language": "python",
   "name": "python3"
  },
  "language_info": {
   "codemirror_mode": {
    "name": "ipython",
    "version": 3
   },
   "file_extension": ".py",
   "mimetype": "text/x-python",
   "name": "python",
   "nbconvert_exporter": "python",
   "pygments_lexer": "ipython3",
   "version": "3.6.4"
  }
 },
 "nbformat": 4,
 "nbformat_minor": 2
}
