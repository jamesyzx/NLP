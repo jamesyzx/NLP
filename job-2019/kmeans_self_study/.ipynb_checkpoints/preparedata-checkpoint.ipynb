{
 "cells": [
  {
   "cell_type": "code",
   "execution_count": 6,
   "metadata": {},
   "outputs": [
    {
     "name": "stdout",
     "output_type": "stream",
     "text": [
      "dataset/politics.yml\n",
      "dataset/history.yml\n",
      "dataset/psychology.yml\n",
      "dataset/literature.yml\n",
      "dataset/money.yml\n",
      "dataset/trivia.yml\n",
      "dataset/gossip.yml\n",
      "dataset/humor.yml\n",
      "dataset/greetings.yml\n",
      "dataset/sports.yml\n",
      "dataset/movies.yml\n",
      "dataset/science.yml\n"
     ]
    }
   ],
   "source": [
    "### 读取一个文件夹里所有的txt，生成新的txt\n",
    "import os\n",
    "import re\n",
    "\n",
    "# 脏数据列表，如空格\n",
    "noise_word = ['\\n']\n",
    "def sentence_cleaner(sentence):\n",
    "    '''\n",
    "    清除sentence\n",
    "    :param sentence:\n",
    "    :return:\n",
    "    '''\n",
    "    for noise in noise_word:\n",
    "        sentence = re.sub(noise, '', sentence)\n",
    "    return sentence\n",
    "\n",
    "\n",
    "\n",
    "\n",
    "def compoundtxt(pathdir):\n",
    "#pathdir = \"dataset/\"\n",
    "    files= os.listdir(pathdir)\n",
    "\n",
    "    for file in files: #遍历文件夹\n",
    "        f=os.path.splitext(file)[1]#判断是否是固定形式的文件\n",
    "        if f == '.yml':\n",
    "            path=pathdir+file\n",
    "            print(path)\n",
    "            infile=open(path)\n",
    "            for line in infile.readlines():\n",
    "                with open('dataset/word.txt','a') as mom:\n",
    "                    mom.write(line)\n",
    "                mom.close()\n",
    "            infile.close()\n",
    "\n",
    "\n",
    "\n",
    "\n",
    "\n",
    "\n",
    "\n",
    "if __name__ == '__main__':\n",
    "    compoundtxt(\"dataset/\")\n",
    "         \n",
    "        "
   ]
  },
  {
   "cell_type": "code",
   "execution_count": 7,
   "metadata": {},
   "outputs": [
    {
     "name": "stdout",
     "output_type": "stream",
     "text": [
      "\n",
      "\n"
     ]
    }
   ],
   "source": [
    "import re\n",
    "\n",
    "# 脏数据列表\n",
    "noise_word = ['\\n']\n",
    "\n",
    "\n",
    "def sentence_cleaner(sentence):\n",
    "    '''\n",
    "    清除sentence\n",
    "    :param sentence:\n",
    "    :return:\n",
    "    '''\n",
    "    for noise in noise_word:\n",
    "        sentence = re.sub(noise, '', sentence)\n",
    "    return sentence\n",
    "\n",
    "\n",
    "for noise in noise_word:\n",
    "    print(noise)"
   ]
  },
  {
   "cell_type": "code",
   "execution_count": null,
   "metadata": {},
   "outputs": [],
   "source": []
  }
 ],
 "metadata": {
  "kernelspec": {
   "display_name": "Python 3",
   "language": "python",
   "name": "python3"
  },
  "language_info": {
   "codemirror_mode": {
    "name": "ipython",
    "version": 3
   },
   "file_extension": ".py",
   "mimetype": "text/x-python",
   "name": "python",
   "nbconvert_exporter": "python",
   "pygments_lexer": "ipython3",
   "version": "3.6.4"
  }
 },
 "nbformat": 4,
 "nbformat_minor": 2
}
