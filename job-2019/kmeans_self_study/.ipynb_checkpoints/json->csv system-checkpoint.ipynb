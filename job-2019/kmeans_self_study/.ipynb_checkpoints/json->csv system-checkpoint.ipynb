{
 "cells": [
  {
   "cell_type": "code",
   "execution_count": 8,
   "metadata": {},
   "outputs": [],
   "source": [
    "import re\n",
    "import json\n",
    "from pandas import DataFrame\n",
    "# 脏数据列表\n",
    "noise_word = ['\\n']\n",
    "\n",
    "\n",
    "def sentence_cleaner(sentence):\n",
    "    '''\n",
    "    清除sentence\n",
    "    :param sentence:\n",
    "    :return:\n",
    "    '''\n",
    "    for noise in noise_word:\n",
    "        sentence = re.sub(noise, '', sentence)\n",
    "    return sentence\n",
    "\n",
    "\n",
    "def load_conversation_pairs_xunfei(path):\n",
    "    file = open(path, \"rb\")\n",
    "    fileJson = json.load(file)\n",
    "    filecontent= fileJson['babyCorpus']\n",
    "    answer=[]\n",
    "    for i in filecontent:\n",
    "        answer.append(i['msg'])\n",
    "    file.close()\n",
    "    return answer\n",
    "\n",
    "\n",
    "\n",
    "\n",
    "if __name__ == '__main__':\n",
    "    answer=load_conversation_pairs_xunfei(\"/Users/james/Desktop/corpus.json\")\n",
    "    data={'sentence':answer}\n",
    "    df=DataFrame(data)\n",
    "    df.to_excel('data/k_means_data1.csv')"
   ]
  },
  {
   "cell_type": "code",
   "execution_count": null,
   "metadata": {},
   "outputs": [],
   "source": []
  }
 ],
 "metadata": {
  "kernelspec": {
   "display_name": "Python 3",
   "language": "python",
   "name": "python3"
  },
  "language_info": {
   "codemirror_mode": {
    "name": "ipython",
    "version": 3
   },
   "file_extension": ".py",
   "mimetype": "text/x-python",
   "name": "python",
   "nbconvert_exporter": "python",
   "pygments_lexer": "ipython3",
   "version": "3.6.4"
  }
 },
 "nbformat": 4,
 "nbformat_minor": 2
}
