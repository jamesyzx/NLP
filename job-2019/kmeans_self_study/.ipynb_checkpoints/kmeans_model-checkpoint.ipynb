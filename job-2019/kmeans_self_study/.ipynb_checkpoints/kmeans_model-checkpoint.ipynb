{
 "cells": [
  {
   "cell_type": "code",
   "execution_count": 5,
   "metadata": {},
   "outputs": [
    {
     "name": "stderr",
     "output_type": "stream",
     "text": [
      "/Users/james/anaconda3/lib/python3.6/importlib/_bootstrap.py:219: RuntimeWarning: numpy.ufunc size changed, may indicate binary incompatibility. Expected 216, got 192\n",
      "  return f(*args, **kwds)\n",
      "/Users/james/anaconda3/lib/python3.6/importlib/_bootstrap.py:219: RuntimeWarning: numpy.ufunc size changed, may indicate binary incompatibility. Expected 192 from C header, got 216 from PyObject\n",
      "  return f(*args, **kwds)\n",
      "/Users/james/anaconda3/lib/python3.6/importlib/_bootstrap.py:219: RuntimeWarning: numpy.ufunc size changed, may indicate binary incompatibility. Expected 216, got 192\n",
      "  return f(*args, **kwds)\n",
      "/Users/james/anaconda3/lib/python3.6/importlib/_bootstrap.py:219: RuntimeWarning: numpy.ufunc size changed, may indicate binary incompatibility. Expected 216, got 192\n",
      "  return f(*args, **kwds)\n",
      "/Users/james/anaconda3/lib/python3.6/importlib/_bootstrap.py:219: RuntimeWarning: numpy.ufunc size changed, may indicate binary incompatibility. Expected 192 from C header, got 216 from PyObject\n",
      "  return f(*args, **kwds)\n",
      "/Users/james/anaconda3/lib/python3.6/importlib/_bootstrap.py:219: RuntimeWarning: numpy.ufunc size changed, may indicate binary incompatibility. Expected 192 from C header, got 216 from PyObject\n",
      "  return f(*args, **kwds)\n"
     ]
    }
   ],
   "source": [
    "#model 聚类算法\n",
    "from sklearn.cluster import KMeans\n",
    "from sklearn import metrics\n",
    "import matplotlib.pyplot as plt\n",
    "#  构造聚类器\n",
    "def kmeans(n_clusters,input_data):\n",
    "    estimator = KMeans(n_clusters)\n",
    "    s =estimator.fit(input_data)\n",
    "     #获得每个句子的簇\n",
    "    return s.labels_,s.cluster_centers_\n",
    "                     \n",
    "                     \n",
    "#获得比较k值的方法，用calinski_harabaz分数，值越大，表示效果越好                     \n",
    "def calculate_calinski_harabaz_score(end,input_data):\n",
    "    score_list=[]\n",
    "    i_list=[]\n",
    "    for i in range(5,end,1):\n",
    "        clf = KMeans(n_clusters=i).fit(input_data)\n",
    "        a=metrics.calinski_harabaz_score(input_data, clf.labels_)\n",
    "        score_list.append(a)\n",
    "        i_list.append(i)\n",
    "    return score_list,i_list\n",
    "        \n",
    "    \n",
    "\n",
    "    \n",
    "def calculate_inertia_by_k(end, input_data):    \n",
    "    #迭代器，比较聚内平均距离\n",
    "    score_list=[]\n",
    "    i_list=[]\n",
    "    for i in range(5,end,5):\n",
    "        clf = KMeans(n_clusters=i).fit(input_data) \n",
    "        score_list.append(clf.inertia_)\n",
    "        i_list.append(i)\n",
    "    return score_list,i_list"
   ]
  },
  {
   "cell_type": "code",
   "execution_count": null,
   "metadata": {},
   "outputs": [],
   "source": []
  }
 ],
 "metadata": {
  "kernelspec": {
   "display_name": "Python 3",
   "language": "python",
   "name": "python3"
  },
  "language_info": {
   "codemirror_mode": {
    "name": "ipython",
    "version": 3
   },
   "file_extension": ".py",
   "mimetype": "text/x-python",
   "name": "python",
   "nbconvert_exporter": "python",
   "pygments_lexer": "ipython3",
   "version": "3.6.4"
  }
 },
 "nbformat": 4,
 "nbformat_minor": 2
}
