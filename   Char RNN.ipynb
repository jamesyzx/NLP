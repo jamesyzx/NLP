{
 "cells": [
  {
   "cell_type": "code",
   "execution_count": null,
   "metadata": {},
   "outputs": [],
   "source": [
    "#DEFINE THE INPUT DATA\n",
    "\n",
    "\n",
    "\n",
    "#DEFINE THE HYPERPARAMETER\n",
    "\n",
    "\n",
    "\n",
    "#DEFINE RNN CLASS\n",
    "\n",
    "\n",
    "#TEST THE COST FUNCTION\n",
    "\n",
    "#BUILD THE MODEL\n",
    "\n",
    "#TEST THE ACCURACY"
   ]
  }
 ],
 "metadata": {
  "kernelspec": {
   "display_name": "Python 3",
   "language": "python",
   "name": "python3"
  },
  "language_info": {
   "codemirror_mode": {
    "name": "ipython",
    "version": 3
   },
   "file_extension": ".py",
   "mimetype": "text/x-python",
   "name": "python",
   "nbconvert_exporter": "python",
   "pygments_lexer": "ipython3",
   "version": "3.6.4"
  }
 },
 "nbformat": 4,
 "nbformat_minor": 2
}
