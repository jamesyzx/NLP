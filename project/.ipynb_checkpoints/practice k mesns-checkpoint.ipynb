{
 "cells": [
  {
   "cell_type": "markdown",
   "metadata": {},
   "source": [
    "K-means聚类是一个聚类算法用来将\n",
    "n 个点分成 k 个集群。\n",
    "\n",
    "\n",
    "算法有3步：\n",
    "\n",
    "1.初始化– K 个初始质心会被随机生成\n",
    "\n",
    "2.分配 – K 集群通过点关联到最近的初始质心生成\n",
    "\n",
    "3.更新 –重新计算k个集群对应的质心"
   ]
  },
  {
   "cell_type": "code",
   "execution_count": 1,
   "metadata": {},
   "outputs": [
    {
     "name": "stderr",
     "output_type": "stream",
     "text": [
      "/Users/james/anaconda3/lib/python3.6/importlib/_bootstrap.py:219: RuntimeWarning: numpy.dtype size changed, may indicate binary incompatibility. Expected 96, got 88\n",
      "  return f(*args, **kwds)\n"
     ]
    },
    {
     "name": "stdout",
     "output_type": "stream",
     "text": [
      "Using matplotlib backend: MacOSX\n"
     ]
    }
   ],
   "source": [
    "import pandas as pd\n",
    "import numpy as np\n",
    "import matplotlib.pyplot as plt\n",
    "%matplotlib  "
   ]
  },
  {
   "cell_type": "code",
   "execution_count": 35,
   "metadata": {},
   "outputs": [],
   "source": [
    "#load data\n",
    "df = pd.DataFrame({\n",
    "    'x':[12,20,28,18,29,33,24,45,45,52,55,53,55,61],\n",
    "    'y':[39,36,30,52,54,46,55,59,63,70,66,63,58,23]\n",
    "})\n",
    "np.random.seed(200)\n",
    "colmap = {1:'r',2:'g',3:'b',4:'o'}\n"
   ]
  },
  {
   "cell_type": "code",
   "execution_count": 53,
   "metadata": {},
   "outputs": [],
   "source": [
    "k = 2\n",
    "\n",
    "centroids = {\n",
    "        i+1:[np.random.randint(0,80),np.random.randint(0,80)]\n",
    "        for i in range(k)\n",
    "    }"
   ]
  },
  {
   "cell_type": "code",
   "execution_count": 54,
   "metadata": {},
   "outputs": [
    {
     "data": {
      "image/png": "[encoded data removed]",
      "text/plain": [
       "<matplotlib.figure.Figure at 0x122af8b00>"
      ]
     },
     "metadata": {},
     "output_type": "display_data"
    }
   ],
   "source": [
    "fig = plt.figure(figsize=(5,5))\n",
    "plt.scatter(df['x'],df['y'],color = 'k')\n",
    "colmap = {1:'r',2:'g',3:'b',4:'o'}\n",
    "for i in centroids.keys():\n",
    "    plt.scatter(centroids[i][0],centroids[i][1],color = colmap[i])\n",
    "plt.xlim(0,80)\n",
    "plt.ylim(0,80)\n",
    "plt.show()"
   ]
  },
  {
   "cell_type": "code",
   "execution_count": 55,
   "metadata": {},
   "outputs": [],
   "source": [
    "def assignment(df,centroids):\n",
    "    for i in centroids.keys():\n",
    "        df['distance_from_{}'.format(i)]=(np.sqrt(\n",
    "                (df['x']-centroids[i][0])**2 + \n",
    "                (df['y']-centroids[i][1])**2))\n",
    "    \n",
    "    \n",
    "    \n",
    "    centroids_distance_cols = ['distance_from_{}'.format(i)for i in centroids.keys()]\n",
    "    df['closest']= df.loc[:,centroids_distance_cols].idxmin(axis=1)\n",
    "    df['closest']= df['closest'].map(lambda x:(x.lstrip('distance_from_')))\n",
    "    df['color']= df['closest'].map(lambda x:colmap[int(x)])\n",
    "    \n",
    "    return df\n"
   ]
  },
  {
   "cell_type": "code",
   "execution_count": 56,
   "metadata": {},
   "outputs": [
    {
     "data": {
      "text/plain": [
       "'r'"
      ]
     },
     "execution_count": 56,
     "metadata": {},
     "output_type": "execute_result"
    }
   ],
   "source": [
    "colmap[1]"
   ]
  },
  {
   "cell_type": "code",
   "execution_count": 57,
   "metadata": {
    "scrolled": true
   },
   "outputs": [
    {
     "name": "stdout",
     "output_type": "stream",
     "text": [
      "    x   y  distance_from_1 closest color  distance_from_2\n",
      "0  12  39        56.080300       1     r        56.727418\n",
      "1  20  36        48.373546       1     r        53.150729\n",
      "2  28  30        41.761226       1     r        53.338541\n",
      "3  18  52        50.990195       2     g        44.102154\n",
      "4  29  54        40.804412       2     g        34.058773\n"
     ]
    }
   ],
   "source": [
    "df = assignment(df,centroids)\n",
    "print(df.head())"
   ]
  },
  {
   "cell_type": "code",
   "execution_count": 58,
   "metadata": {},
   "outputs": [
    {
     "data": {
      "image/png": "[encoded data removed]",
      "text/plain": [
       "<matplotlib.figure.Figure at 0x122d9d278>"
      ]
     },
     "metadata": {},
     "output_type": "display_data"
    }
   ],
   "source": [
    "fig = plt.figure(figsize=(5,5))\n",
    "plt.scatter(df['x'],df['y'],color = df['color'],alpha=0.5,edgecolors='k')\n",
    "for i in centroids.keys():\n",
    "    plt.scatter(centroids[i][0],centroids[i][1],color= colmap[i])\n",
    "plt.xlim(0,80)\n",
    "plt.ylim(0,80)\n",
    "plt.show()"
   ]
  },
  {
   "cell_type": "code",
   "execution_count": 59,
   "metadata": {},
   "outputs": [],
   "source": [
    "import copy\n",
    "old_centroids = copy.deepcopy(centroids)"
   ]
  },
  {
   "cell_type": "code",
   "execution_count": 60,
   "metadata": {},
   "outputs": [],
   "source": [
    "#update stage\n",
    "\n",
    "\n",
    "def update(k):\n",
    "    for i in centroids.keys():\n",
    "        k[i][0] = np.mean(df[df['closest']==str(i)]['x'])\n",
    "        k[i][1] = np.mean(df[df['closest']==str(i)]['y'])\n",
    "    return k\n",
    "\n"
   ]
  },
  {
   "cell_type": "code",
   "execution_count": 61,
   "metadata": {},
   "outputs": [],
   "source": [
    "centroids = update(centroids)"
   ]
  },
  {
   "cell_type": "code",
   "execution_count": 62,
   "metadata": {},
   "outputs": [
    {
     "data": {
      "text/plain": [
       "{1: [30.8, 34.8], 2: [41.77777777777778, 60.0]}"
      ]
     },
     "execution_count": 62,
     "metadata": {},
     "output_type": "execute_result"
    }
   ],
   "source": [
    "centroids"
   ]
  },
  {
   "cell_type": "code",
   "execution_count": 63,
   "metadata": {},
   "outputs": [
    {
     "data": {
      "image/png": "[encoded data removed]",
      "text/plain": [
       "<matplotlib.figure.Figure at 0x122f0c7f0>"
      ]
     },
     "metadata": {},
     "output_type": "display_data"
    }
   ],
   "source": [
    "fig = plt.figure(figsize=(5,5))\n",
    "plt.scatter(df['x'],df['y'],color = df['color'],alpha=0.5,edgecolors='k')\n",
    "for i in centroids.keys():\n",
    "    plt.scatter(centroids[i][0],centroids[i][1],color= colmap[i])\n",
    "plt.xlim(0,80)\n",
    "plt.ylim(0,80)\n",
    "for i in old_centroids.keys():\n",
    "    old_x = old_centroids[i][0]\n",
    "    old_y = old_centroids[i][1]\n",
    "    dx =(centroids[i][0]- old_centroids[i][0])*0.75\n",
    "    dy = (centroids[i][1]-old_centroids[i][1])*0.75\n",
    "    plt.arrow(old_x,old_y,dx,dy,head_width =2, head_length =3, fc = colmap[i])\n",
    "plt.show()"
   ]
  },
  {
   "cell_type": "code",
   "execution_count": 64,
   "metadata": {},
   "outputs": [
    {
     "data": {
      "image/png": "[encoded data removed]",
      "text/plain": [
       "<matplotlib.figure.Figure at 0x122db40b8>"
      ]
     },
     "metadata": {},
     "output_type": "display_data"
    }
   ],
   "source": [
    "# repeat assignment stage\n",
    "\n",
    "df = assignment(df,centroids)\n",
    "\n",
    "fig = plt.figure(figsize=(5,5))\n",
    "plt.scatter(df['x'],df['y'],color = df['color'],alpha=0.5,edgecolors='k')\n",
    "for i in centroids.keys():\n",
    "    plt.scatter(centroids[i][0],centroids[i][1],color= colmap[i])\n",
    "plt.xlim(0,80)\n",
    "plt.ylim(0,80)\n",
    "plt.show()"
   ]
  },
  {
   "cell_type": "code",
   "execution_count": 65,
   "metadata": {},
   "outputs": [
    {
     "data": {
      "image/png": "[encoded data removed]",
      "text/plain": [
       "<matplotlib.figure.Figure at 0x122d9d0b8>"
      ]
     },
     "metadata": {},
     "output_type": "display_data"
    }
   ],
   "source": [
    "while True:\n",
    "    closest_centriods = df['closest'].copy(deep=True)\n",
    "    centroids = update(centroids)\n",
    "    df= assignment(df,centroids)\n",
    "    if closest_centriods.equals(df['closest']):\n",
    "        break\n",
    "fig = plt.figure(figsize=(5,5))\n",
    "plt.scatter(df['x'],df['y'],color = df['color'],alpha=0.5,edgecolors='k')\n",
    "for i in centroids.keys():\n",
    "    plt.scatter(centroids[i][0],centroids[i][1],color= colmap[i])\n",
    "plt.xlim(0,80)\n",
    "plt.ylim(0,80)\n",
    "plt.show()"
   ]
  },
  {
   "cell_type": "code",
   "execution_count": 66,
   "metadata": {
    "scrolled": true
   },
   "outputs": [
    {
     "data": {
      "text/plain": [
       "{1: [28.125, 41.875], 2: [50.833333333333336, 63.166666666666664]}"
      ]
     },
     "execution_count": 66,
     "metadata": {},
     "output_type": "execute_result"
    }
   ],
   "source": [
    "centroids"
   ]
  },
  {
   "cell_type": "code",
   "execution_count": 80,
   "metadata": {
    "scrolled": true
   },
   "outputs": [
    {
     "data": {
      "text/html": [
       "<div>\n",
       "<style scoped>\n",
       "    .dataframe tbody tr th:only-of-type {\n",
       "        vertical-align: middle;\n",
       "    }\n",
       "\n",
       "    .dataframe tbody tr th {\n",
       "        vertical-align: top;\n",
       "    }\n",
       "\n",
       "    .dataframe thead th {\n",
       "        text-align: right;\n",
       "    }\n",
       "</style>\n",
       "<table border=\"1\" class=\"dataframe\">\n",
       "  <thead>\n",
       "    <tr style=\"text-align: right;\">\n",
       "      <th></th>\n",
       "      <th>x</th>\n",
       "      <th>y</th>\n",
       "      <th>distance_from_1</th>\n",
       "      <th>closest</th>\n",
       "      <th>color</th>\n",
       "      <th>distance_from_2</th>\n",
       "    </tr>\n",
       "  </thead>\n",
       "  <tbody>\n",
       "    <tr>\n",
       "      <th>0</th>\n",
       "      <td>12</td>\n",
       "      <td>39</td>\n",
       "      <td>16.379293</td>\n",
       "      <td>1</td>\n",
       "      <td>r</td>\n",
       "      <td>45.738994</td>\n",
       "    </tr>\n",
       "    <tr>\n",
       "      <th>1</th>\n",
       "      <td>20</td>\n",
       "      <td>36</td>\n",
       "      <td>10.026527</td>\n",
       "      <td>1</td>\n",
       "      <td>r</td>\n",
       "      <td>41.094066</td>\n",
       "    </tr>\n",
       "    <tr>\n",
       "      <th>2</th>\n",
       "      <td>28</td>\n",
       "      <td>30</td>\n",
       "      <td>11.875658</td>\n",
       "      <td>1</td>\n",
       "      <td>r</td>\n",
       "      <td>40.266474</td>\n",
       "    </tr>\n",
       "    <tr>\n",
       "      <th>3</th>\n",
       "      <td>18</td>\n",
       "      <td>52</td>\n",
       "      <td>14.318912</td>\n",
       "      <td>1</td>\n",
       "      <td>r</td>\n",
       "      <td>34.680286</td>\n",
       "    </tr>\n",
       "    <tr>\n",
       "      <th>4</th>\n",
       "      <td>29</td>\n",
       "      <td>54</td>\n",
       "      <td>12.156531</td>\n",
       "      <td>1</td>\n",
       "      <td>r</td>\n",
       "      <td>23.679574</td>\n",
       "    </tr>\n",
       "    <tr>\n",
       "      <th>5</th>\n",
       "      <td>33</td>\n",
       "      <td>46</td>\n",
       "      <td>6.386020</td>\n",
       "      <td>1</td>\n",
       "      <td>r</td>\n",
       "      <td>24.753227</td>\n",
       "    </tr>\n",
       "    <tr>\n",
       "      <th>6</th>\n",
       "      <td>24</td>\n",
       "      <td>55</td>\n",
       "      <td>13.757952</td>\n",
       "      <td>1</td>\n",
       "      <td>r</td>\n",
       "      <td>28.048569</td>\n",
       "    </tr>\n",
       "    <tr>\n",
       "      <th>7</th>\n",
       "      <td>45</td>\n",
       "      <td>59</td>\n",
       "      <td>24.042280</td>\n",
       "      <td>2</td>\n",
       "      <td>g</td>\n",
       "      <td>7.168604</td>\n",
       "    </tr>\n",
       "    <tr>\n",
       "      <th>8</th>\n",
       "      <td>45</td>\n",
       "      <td>63</td>\n",
       "      <td>27.037590</td>\n",
       "      <td>2</td>\n",
       "      <td>g</td>\n",
       "      <td>5.835714</td>\n",
       "    </tr>\n",
       "    <tr>\n",
       "      <th>9</th>\n",
       "      <td>52</td>\n",
       "      <td>70</td>\n",
       "      <td>36.892157</td>\n",
       "      <td>2</td>\n",
       "      <td>g</td>\n",
       "      <td>6.932211</td>\n",
       "    </tr>\n",
       "    <tr>\n",
       "      <th>10</th>\n",
       "      <td>55</td>\n",
       "      <td>66</td>\n",
       "      <td>36.114834</td>\n",
       "      <td>2</td>\n",
       "      <td>g</td>\n",
       "      <td>5.038739</td>\n",
       "    </tr>\n",
       "    <tr>\n",
       "      <th>11</th>\n",
       "      <td>53</td>\n",
       "      <td>63</td>\n",
       "      <td>32.634817</td>\n",
       "      <td>2</td>\n",
       "      <td>g</td>\n",
       "      <td>2.173067</td>\n",
       "    </tr>\n",
       "    <tr>\n",
       "      <th>12</th>\n",
       "      <td>55</td>\n",
       "      <td>58</td>\n",
       "      <td>31.341366</td>\n",
       "      <td>2</td>\n",
       "      <td>g</td>\n",
       "      <td>6.637436</td>\n",
       "    </tr>\n",
       "    <tr>\n",
       "      <th>13</th>\n",
       "      <td>61</td>\n",
       "      <td>23</td>\n",
       "      <td>37.908195</td>\n",
       "      <td>1</td>\n",
       "      <td>r</td>\n",
       "      <td>41.433347</td>\n",
       "    </tr>\n",
       "  </tbody>\n",
       "</table>\n",
       "</div>"
      ],
      "text/plain": [
       "     x   y  distance_from_1 closest color  distance_from_2\n",
       "0   12  39        16.379293       1     r        45.738994\n",
       "1   20  36        10.026527       1     r        41.094066\n",
       "2   28  30        11.875658       1     r        40.266474\n",
       "3   18  52        14.318912       1     r        34.680286\n",
       "4   29  54        12.156531       1     r        23.679574\n",
       "5   33  46         6.386020       1     r        24.753227\n",
       "6   24  55        13.757952       1     r        28.048569\n",
       "7   45  59        24.042280       2     g         7.168604\n",
       "8   45  63        27.037590       2     g         5.835714\n",
       "9   52  70        36.892157       2     g         6.932211\n",
       "10  55  66        36.114834       2     g         5.038739\n",
       "11  53  63        32.634817       2     g         2.173067\n",
       "12  55  58        31.341366       2     g         6.637436\n",
       "13  61  23        37.908195       1     r        41.433347"
      ]
     },
     "execution_count": 80,
     "metadata": {},
     "output_type": "execute_result"
    }
   ],
   "source": [
    "df"
   ]
  },
  {
   "cell_type": "code",
   "execution_count": 100,
   "metadata": {},
   "outputs": [
    {
     "name": "stdout",
     "output_type": "stream",
     "text": [
      "0 1 True\n",
      "1 1 True\n",
      "2 1 True\n",
      "3 1 True\n",
      "4 1 True\n",
      "5 1 True\n",
      "6 1 True\n",
      "7 2 True\n",
      "8 2 True\n",
      "9 2 True\n",
      "10 2 True\n",
      "11 2 True\n",
      "12 2 True\n",
      "13 1 True\n"
     ]
    }
   ],
   "source": [
    "for s in range(14):\n",
    "    for i in range(3):\n",
    "        if df['closest'].iloc[s] == str(i):\n",
    "            if "
   ]
  },
  {
   "cell_type": "code",
   "execution_count": 107,
   "metadata": {},
   "outputs": [],
   "source": [
    "for i in centroids.keys():\n",
    "    \n",
    "    distance1 = np.sum(df[df['closest']==str(i)]['distance_from_1'])\n",
    "    distance2 = np.sum(df[df['closest']==str(i)]['distance_from_2'])"
   ]
  },
  {
   "cell_type": "code",
   "execution_count": 109,
   "metadata": {},
   "outputs": [
    {
     "data": {
      "text/plain": [
       "(33.78577184182569, 188.06304424136562)"
      ]
     },
     "execution_count": 109,
     "metadata": {},
     "output_type": "execute_result"
    }
   ],
   "source": [
    "distance2,distance1"
   ]
  },
  {
   "cell_type": "code",
   "execution_count": 89,
   "metadata": {
    "scrolled": true
   },
   "outputs": [
    {
     "name": "stdout",
     "output_type": "stream",
     "text": [
      "0     16.379293\n",
      "1     10.026527\n",
      "2     11.875658\n",
      "3     14.318912\n",
      "4     12.156531\n",
      "5      6.386020\n",
      "6     13.757952\n",
      "7     24.042280\n",
      "8     27.037590\n",
      "9     36.892157\n",
      "10    36.114834\n",
      "11    32.634817\n",
      "12    31.341366\n",
      "13    37.908195\n",
      "dtype: float64\n",
      "0     16.379293\n",
      "1     10.026527\n",
      "2     11.875658\n",
      "3     14.318912\n",
      "4     12.156531\n",
      "5      6.386020\n",
      "6     13.757952\n",
      "7     24.042280\n",
      "8     27.037590\n",
      "9     36.892157\n",
      "10    36.114834\n",
      "11    32.634817\n",
      "12    31.341366\n",
      "13    37.908195\n",
      "dtype: float64\n",
      "0     16.379293\n",
      "1     10.026527\n",
      "2     11.875658\n",
      "3     14.318912\n",
      "4     12.156531\n",
      "5      6.386020\n",
      "6     13.757952\n",
      "7     24.042280\n",
      "8     27.037590\n",
      "9     36.892157\n",
      "10    36.114834\n",
      "11    32.634817\n",
      "12    31.341366\n",
      "13    37.908195\n",
      "dtype: float64\n",
      "0     16.379293\n",
      "1     10.026527\n",
      "2     11.875658\n",
      "3     14.318912\n",
      "4     12.156531\n",
      "5      6.386020\n",
      "6     13.757952\n",
      "7     24.042280\n",
      "8     27.037590\n",
      "9     36.892157\n",
      "10    36.114834\n",
      "11    32.634817\n",
      "12    31.341366\n",
      "13    37.908195\n",
      "dtype: float64\n",
      "0     16.379293\n",
      "1     10.026527\n",
      "2     11.875658\n",
      "3     14.318912\n",
      "4     12.156531\n",
      "5      6.386020\n",
      "6     13.757952\n",
      "7     24.042280\n",
      "8     27.037590\n",
      "9     36.892157\n",
      "10    36.114834\n",
      "11    32.634817\n",
      "12    31.341366\n",
      "13    37.908195\n",
      "dtype: float64\n",
      "0     16.379293\n",
      "1     10.026527\n",
      "2     11.875658\n",
      "3     14.318912\n",
      "4     12.156531\n",
      "5      6.386020\n",
      "6     13.757952\n",
      "7     24.042280\n",
      "8     27.037590\n",
      "9     36.892157\n",
      "10    36.114834\n",
      "11    32.634817\n",
      "12    31.341366\n",
      "13    37.908195\n",
      "dtype: float64\n",
      "0     16.379293\n",
      "1     10.026527\n",
      "2     11.875658\n",
      "3     14.318912\n",
      "4     12.156531\n",
      "5      6.386020\n",
      "6     13.757952\n",
      "7     24.042280\n",
      "8     27.037590\n",
      "9     36.892157\n",
      "10    36.114834\n",
      "11    32.634817\n",
      "12    31.341366\n",
      "13    37.908195\n",
      "dtype: float64\n"
     ]
    }
   ],
   "source": [
    "for i in centroids.keys():\n",
    "    for s in range(13):\n",
    "        if df['closest'].iloc[s] == str(i):\n",
    "            print((np.sqrt(\n",
    "                (df['x']-centroids[i][0])**2 + \n",
    "                (df['y']-centroids[i][1])**2)))\n",
    "        else:\n",
    "            break\n",
    "       \n",
    "        \n",
    "    \n",
    "    "
   ]
  },
  {
   "cell_type": "code",
   "execution_count": 69,
   "metadata": {},
   "outputs": [
    {
     "data": {
      "text/plain": [
       "313.4803066669466"
      ]
     },
     "execution_count": 69,
     "metadata": {},
     "output_type": "execute_result"
    }
   ],
   "source": [
    "cost"
   ]
  },
  {
   "cell_type": "code",
   "execution_count": null,
   "metadata": {},
   "outputs": [],
   "source": [
    " print((np.sqrt(\n",
    "                (df['x']-centroids[i][0])**2 + \n",
    "                (df['y']-centroids[i][1])**2)))\n",
    "        print((np.sqrt(\n",
    "                (df['x']-centroids[i][0])**2 + \n",
    "                (df['y']-centroids[i][1])**2)))"
   ]
  }
 ],
 "metadata": {
  "kernelspec": {
   "display_name": "Python 3",
   "language": "python",
   "name": "python3"
  },
  "language_info": {
   "codemirror_mode": {
    "name": "ipython",
    "version": 3
   },
   "file_extension": ".py",
   "mimetype": "text/x-python",
   "name": "python",
   "nbconvert_exporter": "python",
   "pygments_lexer": "ipython3",
   "version": "3.6.4"
  }
 },
 "nbformat": 4,
 "nbformat_minor": 2
}
