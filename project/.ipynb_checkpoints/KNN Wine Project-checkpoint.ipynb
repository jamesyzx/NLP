{
 "cells": [
  {
   "cell_type": "markdown",
   "metadata": {},
   "source": [
    "### KNN Algorithm: Good or Bad Wine Classification\n",
    "#### I use the wine dataset, and the score of quality is more than 6 called Good Wine. \n",
    "#### This is a binary classification project\n",
    "#### Finally, the accuracy is 99.38%"
   ]
  },
  {
   "cell_type": "code",
   "execution_count": 9,
   "metadata": {},
   "outputs": [
    {
     "data": {
      "text/html": [
       "<div>\n",
       "<style scoped>\n",
       "    .dataframe tbody tr th:only-of-type {\n",
       "        vertical-align: middle;\n",
       "    }\n",
       "\n",
       "    .dataframe tbody tr th {\n",
       "        vertical-align: top;\n",
       "    }\n",
       "\n",
       "    .dataframe thead th {\n",
       "        text-align: right;\n",
       "    }\n",
       "</style>\n",
       "<table border=\"1\" class=\"dataframe\">\n",
       "  <thead>\n",
       "    <tr style=\"text-align: right;\">\n",
       "      <th></th>\n",
       "      <th>fixed acidity</th>\n",
       "      <th>volatile acidity</th>\n",
       "      <th>citric acid</th>\n",
       "      <th>residual sugar</th>\n",
       "      <th>chlorides</th>\n",
       "      <th>free sulfur dioxide</th>\n",
       "      <th>total sulfur dioxide</th>\n",
       "      <th>density</th>\n",
       "      <th>pH</th>\n",
       "      <th>sulphates</th>\n",
       "      <th>alcohol</th>\n",
       "      <th>quality</th>\n",
       "    </tr>\n",
       "  </thead>\n",
       "  <tbody>\n",
       "    <tr>\n",
       "      <th>0</th>\n",
       "      <td>7.4</td>\n",
       "      <td>0.70</td>\n",
       "      <td>0.00</td>\n",
       "      <td>1.9</td>\n",
       "      <td>0.076</td>\n",
       "      <td>11.0</td>\n",
       "      <td>34.0</td>\n",
       "      <td>0.9978</td>\n",
       "      <td>3.51</td>\n",
       "      <td>0.56</td>\n",
       "      <td>9.4</td>\n",
       "      <td>5</td>\n",
       "    </tr>\n",
       "    <tr>\n",
       "      <th>1</th>\n",
       "      <td>7.8</td>\n",
       "      <td>0.88</td>\n",
       "      <td>0.00</td>\n",
       "      <td>2.6</td>\n",
       "      <td>0.098</td>\n",
       "      <td>25.0</td>\n",
       "      <td>67.0</td>\n",
       "      <td>0.9968</td>\n",
       "      <td>3.20</td>\n",
       "      <td>0.68</td>\n",
       "      <td>9.8</td>\n",
       "      <td>5</td>\n",
       "    </tr>\n",
       "    <tr>\n",
       "      <th>2</th>\n",
       "      <td>7.8</td>\n",
       "      <td>0.76</td>\n",
       "      <td>0.04</td>\n",
       "      <td>2.3</td>\n",
       "      <td>0.092</td>\n",
       "      <td>15.0</td>\n",
       "      <td>54.0</td>\n",
       "      <td>0.9970</td>\n",
       "      <td>3.26</td>\n",
       "      <td>0.65</td>\n",
       "      <td>9.8</td>\n",
       "      <td>5</td>\n",
       "    </tr>\n",
       "    <tr>\n",
       "      <th>3</th>\n",
       "      <td>11.2</td>\n",
       "      <td>0.28</td>\n",
       "      <td>0.56</td>\n",
       "      <td>1.9</td>\n",
       "      <td>0.075</td>\n",
       "      <td>17.0</td>\n",
       "      <td>60.0</td>\n",
       "      <td>0.9980</td>\n",
       "      <td>3.16</td>\n",
       "      <td>0.58</td>\n",
       "      <td>9.8</td>\n",
       "      <td>6</td>\n",
       "    </tr>\n",
       "    <tr>\n",
       "      <th>4</th>\n",
       "      <td>7.4</td>\n",
       "      <td>0.70</td>\n",
       "      <td>0.00</td>\n",
       "      <td>1.9</td>\n",
       "      <td>0.076</td>\n",
       "      <td>11.0</td>\n",
       "      <td>34.0</td>\n",
       "      <td>0.9978</td>\n",
       "      <td>3.51</td>\n",
       "      <td>0.56</td>\n",
       "      <td>9.4</td>\n",
       "      <td>5</td>\n",
       "    </tr>\n",
       "  </tbody>\n",
       "</table>\n",
       "</div>"
      ],
      "text/plain": [
       "   fixed acidity  volatile acidity  citric acid  residual sugar  chlorides  \\\n",
       "0            7.4              0.70         0.00             1.9      0.076   \n",
       "1            7.8              0.88         0.00             2.6      0.098   \n",
       "2            7.8              0.76         0.04             2.3      0.092   \n",
       "3           11.2              0.28         0.56             1.9      0.075   \n",
       "4            7.4              0.70         0.00             1.9      0.076   \n",
       "\n",
       "   free sulfur dioxide  total sulfur dioxide  density    pH  sulphates  \\\n",
       "0                 11.0                  34.0   0.9978  3.51       0.56   \n",
       "1                 25.0                  67.0   0.9968  3.20       0.68   \n",
       "2                 15.0                  54.0   0.9970  3.26       0.65   \n",
       "3                 17.0                  60.0   0.9980  3.16       0.58   \n",
       "4                 11.0                  34.0   0.9978  3.51       0.56   \n",
       "\n",
       "   alcohol  quality  \n",
       "0      9.4        5  \n",
       "1      9.8        5  \n",
       "2      9.8        5  \n",
       "3      9.8        6  \n",
       "4      9.4        5  "
      ]
     },
     "execution_count": 9,
     "metadata": {},
     "output_type": "execute_result"
    }
   ],
   "source": [
    "import io\n",
    "import requests\n",
    "import pandas as pd\n",
    "import numpy as np\n",
    "%matplotlib inline\n",
    "import matplotlib.pyplot as plt\n",
    "\n",
    "#load the data\n",
    "data = pd.read_csv('winedata/winequality-red.csv')\n",
    "\n",
    "data.head()"
   ]
  },
  {
   "cell_type": "code",
   "execution_count": 10,
   "metadata": {},
   "outputs": [
    {
     "data": {
      "text/plain": [
       "fixed acidity           False\n",
       "volatile acidity        False\n",
       "citric acid             False\n",
       "residual sugar          False\n",
       "chlorides               False\n",
       "free sulfur dioxide     False\n",
       "total sulfur dioxide    False\n",
       "density                 False\n",
       "pH                      False\n",
       "sulphates               False\n",
       "alcohol                 False\n",
       "quality                 False\n",
       "dtype: bool"
      ]
     },
     "execution_count": 10,
     "metadata": {},
     "output_type": "execute_result"
    }
   ],
   "source": [
    "data.isnull().any()"
   ]
  },
  {
   "cell_type": "code",
   "execution_count": 11,
   "metadata": {},
   "outputs": [
    {
     "data": {
      "text/plain": [
       "(1599, 12)"
      ]
     },
     "execution_count": 11,
     "metadata": {},
     "output_type": "execute_result"
    }
   ],
   "source": [
    "data.shape"
   ]
  },
  {
   "cell_type": "code",
   "execution_count": 12,
   "metadata": {},
   "outputs": [
    {
     "data": {
      "text/html": [
       "<div>\n",
       "<style scoped>\n",
       "    .dataframe tbody tr th:only-of-type {\n",
       "        vertical-align: middle;\n",
       "    }\n",
       "\n",
       "    .dataframe tbody tr th {\n",
       "        vertical-align: top;\n",
       "    }\n",
       "\n",
       "    .dataframe thead th {\n",
       "        text-align: right;\n",
       "    }\n",
       "</style>\n",
       "<table border=\"1\" class=\"dataframe\">\n",
       "  <thead>\n",
       "    <tr style=\"text-align: right;\">\n",
       "      <th></th>\n",
       "      <th>volatile acidity</th>\n",
       "      <th>citric acid</th>\n",
       "      <th>residual sugar</th>\n",
       "      <th>chlorides</th>\n",
       "      <th>free sulfur dioxide</th>\n",
       "      <th>total sulfur dioxide</th>\n",
       "      <th>density</th>\n",
       "      <th>pH</th>\n",
       "      <th>sulphates</th>\n",
       "      <th>alcohol</th>\n",
       "      <th>quality</th>\n",
       "    </tr>\n",
       "  </thead>\n",
       "  <tbody>\n",
       "    <tr>\n",
       "      <th>0</th>\n",
       "      <td>0.117931</td>\n",
       "      <td>-0.270976</td>\n",
       "      <td>-0.043754</td>\n",
       "      <td>-0.019143</td>\n",
       "      <td>-0.068661</td>\n",
       "      <td>-0.044056</td>\n",
       "      <td>0.077336</td>\n",
       "      <td>0.156604</td>\n",
       "      <td>-0.058772</td>\n",
       "      <td>-0.157382</td>\n",
       "      <td>-0.127205</td>\n",
       "    </tr>\n",
       "    <tr>\n",
       "      <th>1</th>\n",
       "      <td>0.241219</td>\n",
       "      <td>-0.270976</td>\n",
       "      <td>0.004191</td>\n",
       "      <td>0.017585</td>\n",
       "      <td>0.128522</td>\n",
       "      <td>0.072552</td>\n",
       "      <td>0.003915</td>\n",
       "      <td>-0.087491</td>\n",
       "      <td>0.013085</td>\n",
       "      <td>-0.095844</td>\n",
       "      <td>-0.127205</td>\n",
       "    </tr>\n",
       "    <tr>\n",
       "      <th>2</th>\n",
       "      <td>0.159027</td>\n",
       "      <td>-0.230976</td>\n",
       "      <td>-0.016357</td>\n",
       "      <td>0.007568</td>\n",
       "      <td>-0.012323</td>\n",
       "      <td>0.026616</td>\n",
       "      <td>0.018599</td>\n",
       "      <td>-0.040247</td>\n",
       "      <td>-0.004880</td>\n",
       "      <td>-0.095844</td>\n",
       "      <td>-0.127205</td>\n",
       "    </tr>\n",
       "    <tr>\n",
       "      <th>3</th>\n",
       "      <td>-0.169740</td>\n",
       "      <td>0.289024</td>\n",
       "      <td>-0.043754</td>\n",
       "      <td>-0.020812</td>\n",
       "      <td>0.015846</td>\n",
       "      <td>0.047817</td>\n",
       "      <td>0.092021</td>\n",
       "      <td>-0.118987</td>\n",
       "      <td>-0.046796</td>\n",
       "      <td>-0.095844</td>\n",
       "      <td>0.072795</td>\n",
       "    </tr>\n",
       "    <tr>\n",
       "      <th>4</th>\n",
       "      <td>0.117931</td>\n",
       "      <td>-0.270976</td>\n",
       "      <td>-0.043754</td>\n",
       "      <td>-0.019143</td>\n",
       "      <td>-0.068661</td>\n",
       "      <td>-0.044056</td>\n",
       "      <td>0.077336</td>\n",
       "      <td>0.156604</td>\n",
       "      <td>-0.058772</td>\n",
       "      <td>-0.157382</td>\n",
       "      <td>-0.127205</td>\n",
       "    </tr>\n",
       "  </tbody>\n",
       "</table>\n",
       "</div>"
      ],
      "text/plain": [
       "   volatile acidity  citric acid  residual sugar  chlorides  \\\n",
       "0          0.117931    -0.270976       -0.043754  -0.019143   \n",
       "1          0.241219    -0.270976        0.004191   0.017585   \n",
       "2          0.159027    -0.230976       -0.016357   0.007568   \n",
       "3         -0.169740     0.289024       -0.043754  -0.020812   \n",
       "4          0.117931    -0.270976       -0.043754  -0.019143   \n",
       "\n",
       "   free sulfur dioxide  total sulfur dioxide   density        pH  sulphates  \\\n",
       "0            -0.068661             -0.044056  0.077336  0.156604  -0.058772   \n",
       "1             0.128522              0.072552  0.003915 -0.087491   0.013085   \n",
       "2            -0.012323              0.026616  0.018599 -0.040247  -0.004880   \n",
       "3             0.015846              0.047817  0.092021 -0.118987  -0.046796   \n",
       "4            -0.068661             -0.044056  0.077336  0.156604  -0.058772   \n",
       "\n",
       "    alcohol   quality  \n",
       "0 -0.157382 -0.127205  \n",
       "1 -0.095844 -0.127205  \n",
       "2 -0.095844 -0.127205  \n",
       "3 -0.095844  0.072795  \n",
       "4 -0.157382 -0.127205  "
      ]
     },
     "execution_count": 12,
     "metadata": {},
     "output_type": "execute_result"
    }
   ],
   "source": [
    "data[\"GoodWine\"] = data.quality.apply(lambda x: 1 if x >=6 else 0)\n",
    "#using normalization can improve the correct accuracy rate significantly.\n",
    "def normalize(df):\n",
    "    return (df - df.mean()) / (df.max() - df.min())\n",
    "#data normalization\n",
    "wine_normalized = data.iloc[:,1:12].apply(normalize)\n",
    "wine_normalized.head()"
   ]
  },
  {
   "cell_type": "code",
   "execution_count": 13,
   "metadata": {},
   "outputs": [],
   "source": [
    "X = wine_normalized\n",
    "#setting target\n",
    "y = data.GoodWine"
   ]
  },
  {
   "cell_type": "code",
   "execution_count": 14,
   "metadata": {},
   "outputs": [],
   "source": [
    "X_train, X_test, y_train, y_test = train_test_split(X, y, test_size= .2, random_state=0)"
   ]
  },
  {
   "cell_type": "code",
   "execution_count": 15,
   "metadata": {},
   "outputs": [
    {
     "data": {
      "text/plain": [
       "((1279, 11), (320, 11))"
      ]
     },
     "execution_count": 15,
     "metadata": {},
     "output_type": "execute_result"
    }
   ],
   "source": [
    "X_train.shape, X_test.shape"
   ]
  },
  {
   "cell_type": "code",
   "execution_count": 16,
   "metadata": {},
   "outputs": [
    {
     "name": "stdout",
     "output_type": "stream",
     "text": [
      "acc：99.38%\n"
     ]
    }
   ],
   "source": [
    "from numpy import *\n",
    "import os\n",
    "import math\n",
    "            \n",
    "def Euclidean(vec1, vec2):\n",
    "   # 将两个向量转化为array\n",
    "    npvec1, npvec2 = array(vec1),array(vec2)\n",
    "   # 计算每个维度上差值平方根之和\n",
    "    return math.sqrt(((npvec1-npvec2)**2).sum())\n",
    "def DisVector(InX,DataSet):\n",
    "    Dis = []    #记录距离\n",
    "    Count = 0\n",
    "    #计算待分类数据和训练集和中所有数据的距离\n",
    "    for i in DataSet:\n",
    "        #print(i)\n",
    "        Dis.insert(Count,Euclidean(InX,i))\n",
    "        Count = Count +1\n",
    "    return Dis\n",
    " \n",
    "def Classify(InX,DataSet,Labels,k):\n",
    "    Distance = DisVector(InX,DataSet)\n",
    "    classified =[]\n",
    "    Count = 0\n",
    "    # 初始化classified\n",
    "    for i in range(len(Distance)):\n",
    "        classified.append(0)\n",
    "    for i in range(k):#Distance和Labels列表长度一样\n",
    "        # 找到距离的最小值\n",
    "        count = Distance.index(min(Distance))\n",
    "        # 把最小值索引位置对应的+1\n",
    "        classified[count] =  classified[count] +1\n",
    "        #把Distance中的最小值移除，最小值变为次小值\n",
    "        Distance = Distance.remove(min(Distance))\n",
    "    #把字典classified的键值\n",
    "    return Labels[classified.index(max(classified))]\n",
    "\n",
    "pred = []\n",
    "for i in range(len(X_test)):\n",
    "    pred.append(Classify(X_test.values[i],X_train.values,y_train.values,1))\n",
    "    #print(Classify(X_test.values[i],X_train.values,y_train.values,1))\n",
    "score =1-abs((y_test.values-pred).sum()/(len(y_test.values)))\n",
    "print(\"acc：{}%\".format(round(score*100, 2)))\n"
   ]
  }
 ],
 "metadata": {
  "kernelspec": {
   "display_name": "Python 3",
   "language": "python",
   "name": "python3"
  },
  "language_info": {
   "codemirror_mode": {
    "name": "ipython",
    "version": 3
   },
   "file_extension": ".py",
   "mimetype": "text/x-python",
   "name": "python",
   "nbconvert_exporter": "python",
   "pygments_lexer": "ipython3",
   "version": "3.6.4"
  }
 },
 "nbformat": 4,
 "nbformat_minor": 2
}
