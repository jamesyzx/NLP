{
 "cells": [
  {
   "cell_type": "code",
   "execution_count": 2,
   "metadata": {},
   "outputs": [],
   "source": [
    "import pandas as pd"
   ]
  },
  {
   "cell_type": "code",
   "execution_count": 3,
   "metadata": {},
   "outputs": [],
   "source": [
    "train = pd.read_csv(\"./data/labeledTrainData.tsv\", header=0, \n",
    "                     delimiter=\"\\t\", quoting=3)\n",
    "\n",
    "test = pd.read_csv( \"./data/testData.tsv\", header=0, delimiter=\"\\t\", quoting=3 )\n",
    "unlabeled_train = pd.read_csv(\"./data/unlabeledTrainData.tsv\", header=0, \n",
    "                              delimiter=\"\\t\", quoting=3 )"
   ]
  },
  {
   "cell_type": "code",
   "execution_count": 4,
   "metadata": {},
   "outputs": [
    {
     "name": "stdout",
     "output_type": "stream",
     "text": [
      "Read 25000 labeled train reviews, 25000 labeled test reviews, and 50000 unlabeled reviews\n",
      "\n"
     ]
    }
   ],
   "source": [
    "# Verify the number of reviews that were read (100,000 in total)\n",
    "print(\"Read %d labeled train reviews, %d labeled test reviews, and %d unlabeled reviews\\n\" % (train[\"review\"].size, test[\"review\"].size, unlabeled_train[\"review\"].size ))"
   ]
  },
  {
   "cell_type": "code",
   "execution_count": 5,
   "metadata": {},
   "outputs": [
    {
     "data": {
      "text/html": [
       "<div>\n",
       "<style scoped>\n",
       "    .dataframe tbody tr th:only-of-type {\n",
       "        vertical-align: middle;\n",
       "    }\n",
       "\n",
       "    .dataframe tbody tr th {\n",
       "        vertical-align: top;\n",
       "    }\n",
       "\n",
       "    .dataframe thead th {\n",
       "        text-align: right;\n",
       "    }\n",
       "</style>\n",
       "<table border=\"1\" class=\"dataframe\">\n",
       "  <thead>\n",
       "    <tr style=\"text-align: right;\">\n",
       "      <th></th>\n",
       "      <th>id</th>\n",
       "      <th>sentiment</th>\n",
       "      <th>review</th>\n",
       "    </tr>\n",
       "  </thead>\n",
       "  <tbody>\n",
       "    <tr>\n",
       "      <th>0</th>\n",
       "      <td>\"5814_8\"</td>\n",
       "      <td>1</td>\n",
       "      <td>\"With all this stuff going down at the moment ...</td>\n",
       "    </tr>\n",
       "    <tr>\n",
       "      <th>1</th>\n",
       "      <td>\"2381_9\"</td>\n",
       "      <td>1</td>\n",
       "      <td>\"\\\"The Classic War of the Worlds\\\" by Timothy ...</td>\n",
       "    </tr>\n",
       "    <tr>\n",
       "      <th>2</th>\n",
       "      <td>\"7759_3\"</td>\n",
       "      <td>0</td>\n",
       "      <td>\"The film starts with a manager (Nicholas Bell...</td>\n",
       "    </tr>\n",
       "    <tr>\n",
       "      <th>3</th>\n",
       "      <td>\"3630_4\"</td>\n",
       "      <td>0</td>\n",
       "      <td>\"It must be assumed that those who praised thi...</td>\n",
       "    </tr>\n",
       "    <tr>\n",
       "      <th>4</th>\n",
       "      <td>\"9495_8\"</td>\n",
       "      <td>1</td>\n",
       "      <td>\"Superbly trashy and wondrously unpretentious ...</td>\n",
       "    </tr>\n",
       "  </tbody>\n",
       "</table>\n",
       "</div>"
      ],
      "text/plain": [
       "         id  sentiment                                             review\n",
       "0  \"5814_8\"          1  \"With all this stuff going down at the moment ...\n",
       "1  \"2381_9\"          1  \"\\\"The Classic War of the Worlds\\\" by Timothy ...\n",
       "2  \"7759_3\"          0  \"The film starts with a manager (Nicholas Bell...\n",
       "3  \"3630_4\"          0  \"It must be assumed that those who praised thi...\n",
       "4  \"9495_8\"          1  \"Superbly trashy and wondrously unpretentious ..."
      ]
     },
     "execution_count": 5,
     "metadata": {},
     "output_type": "execute_result"
    }
   ],
   "source": [
    "train.head()"
   ]
  },
  {
   "cell_type": "code",
   "execution_count": 6,
   "metadata": {},
   "outputs": [
    {
     "data": {
      "text/plain": [
       "'\"With all this stuff going down at the moment with MJ i\\'ve started listening to his music, watching the odd documentary here and there, watched The Wiz and watched Moonwalker again. Maybe i just want to get a certain insight into this guy who i thought was really cool in the eighties just to maybe make up my mind whether he is guilty or innocent. Moonwalker is part biography, part feature film which i remember going to see at the cinema when it was originally released. Some of it has subtle messages about MJ\\'s feeling towards the press and also the obvious message of drugs are bad m\\'kay.<br /><br />Visually impressive but of course this is all about Michael Jackson so unless you remotely like MJ in anyway then you are going to hate this and find it boring. Some may call MJ an egotist for consenting to the making of this movie BUT MJ and most of his fans would say that he made it for the fans which if true is really nice of him.<br /><br />The actual feature film bit when it finally starts is only on for 20 minutes or so excluding the Smooth Criminal sequence and Joe Pesci is convincing as a psychopathic all powerful drug lord. Why he wants MJ dead so bad is beyond me. Because MJ overheard his plans? Nah, Joe Pesci\\'s character ranted that he wanted people to know it is he who is supplying drugs etc so i dunno, maybe he just hates MJ\\'s music.<br /><br />Lots of cool things in this like MJ turning into a car and a robot and the whole Speed Demon sequence. Also, the director must have had the patience of a saint when it came to filming the kiddy Bad sequence as usually directors hate working with one kid let alone a whole bunch of them performing a complex dance scene.<br /><br />Bottom line, this movie is for people who like MJ on one level or another (which i think is most people). If not, then stay away. It does try and give off a wholesome message and ironically MJ\\'s bestest buddy in this movie is a girl! Michael Jackson is truly one of the most talented people ever to grace this planet but is he guilty? Well, with all the attention i\\'ve gave this subject....hmmm well i don\\'t know because people can be different behind closed doors, i know this for a fact. He is either an extremely nice but stupid guy or one of the most sickest liars. I hope he is not the latter.\"'"
      ]
     },
     "execution_count": 6,
     "metadata": {},
     "output_type": "execute_result"
    }
   ],
   "source": [
    "train['review'][0]"
   ]
  },
  {
   "cell_type": "markdown",
   "metadata": {},
   "source": [
    "接下来对数据进行清洗，和Part 1差不多，不过有些不一样的地方。首先，训练word2vec的时候，最好不要去除stop words，因为word2vec算法中，更多的词汇能产生更高质量的词向量，所以我们提供一个可选项。另外，最好不要去除数字："
   ]
  },
  {
   "cell_type": "code",
   "execution_count": 7,
   "metadata": {},
   "outputs": [],
   "source": [
    "from bs4 import BeautifulSoup\n",
    "import re\n",
    "from nltk.corpus import stopwords\n",
    "\n",
    "def review_to_wordlist(review, remove_stopwords=False):\n",
    "    # Function to convert a document to a sequence of words,\n",
    "    # optionally removing stop words.  Returns a list of words.\n",
    "    \n",
    "    # 1. Remove HTML\n",
    "    review_text = BeautifulSoup(review, 'lxml').get_text()\n",
    "      \n",
    "    # 2. Remove non-letters\n",
    "    review_text = re.sub(\"[^a-zA-Z]\",\" \", review_text)\n",
    "    \n",
    "    # 3. Convert words to lower case and split them\n",
    "    words = review_text.lower().split()\n",
    "\n",
    "    # 4. Optionally remove stop words (false by default)\n",
    "    if remove_stopwords:\n",
    "        stops = set(stopwords.words(\"english\"))\n",
    "        words = [w for w in words if not w in stops]\n",
    "    \n",
    "    # 5. Return a list of words\n",
    "    return(words)"
   ]
  },
  {
   "cell_type": "markdown",
   "metadata": {},
   "source": [
    "现在，我们想要规定好输入的格式。输入Word2vec的是单个句子，一个句子是一个list，由词组成。换句话说，输入格式是a list of lists。\n",
    "想要把段落分割为句子并不是一件直观的事情。英语句子的结尾可以是\"?\", \"!\", \"\"\", or \".\", 而空格和大小写也靠不住。所以，我们将使用NLTK中的punkt标记生成器来进行句子分割。我们先得下载NLTK，然后用nltk.download()来下载相关的训练文件，来训练punkt。"
   ]
  },
  {
   "cell_type": "code",
   "execution_count": 10,
   "metadata": {},
   "outputs": [
    {
     "name": "stdout",
     "output_type": "stream",
     "text": [
      "showing info https://raw.githubusercontent.com/nltk/nltk_data/gh-pages/index.xml\n"
     ]
    },
    {
     "data": {
      "text/plain": [
       "True"
      ]
     },
     "execution_count": 10,
     "metadata": {},
     "output_type": "execute_result"
    }
   ],
   "source": [
    "# Download the punkt tokenizer for sentence splitting\n",
    "import nltk.data\n",
    "#nltk.download()   \n"
   ]
  },
  {
   "cell_type": "code",
   "execution_count": 11,
   "metadata": {},
   "outputs": [],
   "source": [
    "# Load the punkt tokenizer\n",
    "tokenizer = nltk.data.load('tokenizers/punkt/english.pickle')\n",
    "\n",
    "# Define a function to split a review into parsed sentences\n",
    "def review_to_sentences( review, tokenizer, remove_stopwords=False ):\n",
    "    # Function to split a review into parsed sentences. Returns a \n",
    "    # list of sentences, where each sentence is a list of words\n",
    "    \n",
    "    # 1. Use the NLTK tokenizer to split the paragraph into sentences\n",
    "    raw_sentences = tokenizer.tokenize(review.strip())\n",
    "    \n",
    "    # 2. Loop over each sentence\n",
    "    sentences = []\n",
    "    for raw_sentence in raw_sentences:\n",
    "        # If a sentence is empty, skip it\n",
    "        if len(raw_sentence) > 0:\n",
    "            # Otherwise, call review_to_wordlist to get a list of words\n",
    "            sentences.append( review_to_wordlist( raw_sentence, remove_stopwords ))\n",
    "\n",
    "    # Return the list of sentences (each sentence is a list of words,\n",
    "    # so this returns a list of lists\n",
    "    return sentences"
   ]
  },
  {
   "cell_type": "code",
   "execution_count": 12,
   "metadata": {},
   "outputs": [],
   "source": [
    "# tokenizer只负责将paragraph分割为多个sentence\n",
    "# 对于每个sentence，review_to_wordlist负责对一个sentence进行清洗\n",
    "s1 = review_to_sentences(train['review'][0], tokenizer)\n",
    "# 输出第一个sentence的list"
   ]
  },
  {
   "cell_type": "code",
   "execution_count": 14,
   "metadata": {},
   "outputs": [
    {
     "data": {
      "text/plain": [
       "['maybe',\n",
       " 'i',\n",
       " 'just',\n",
       " 'want',\n",
       " 'to',\n",
       " 'get',\n",
       " 'a',\n",
       " 'certain',\n",
       " 'insight',\n",
       " 'into',\n",
       " 'this',\n",
       " 'guy',\n",
       " 'who',\n",
       " 'i',\n",
       " 'thought',\n",
       " 'was',\n",
       " 'really',\n",
       " 'cool',\n",
       " 'in',\n",
       " 'the',\n",
       " 'eighties',\n",
       " 'just',\n",
       " 'to',\n",
       " 'maybe',\n",
       " 'make',\n",
       " 'up',\n",
       " 'my',\n",
       " 'mind',\n",
       " 'whether',\n",
       " 'he',\n",
       " 'is',\n",
       " 'guilty',\n",
       " 'or',\n",
       " 'innocent']"
      ]
     },
     "execution_count": 14,
     "metadata": {},
     "output_type": "execute_result"
    }
   ],
   "source": [
    "s1[1]"
   ]
  },
  {
   "cell_type": "markdown",
   "metadata": {},
   "source": [
    "把这个函数用来处理数据上，准备给word2vec的输入"
   ]
  },
  {
   "cell_type": "code",
   "execution_count": 15,
   "metadata": {},
   "outputs": [
    {
     "name": "stdout",
     "output_type": "stream",
     "text": [
      "Parsing sentences from training set\n"
     ]
    },
    {
     "name": "stderr",
     "output_type": "stream",
     "text": [
      "/Users/james/anaconda3/lib/python3.6/site-packages/bs4/__init__.py:219: UserWarning: \"b'.'\" looks like a filename, not markup. You should probably open this file and pass the filehandle into Beautiful Soup.\n",
      "  ' Beautiful Soup.' % markup)\n",
      "/Users/james/anaconda3/lib/python3.6/site-packages/bs4/__init__.py:282: UserWarning: \"http://www.happierabroad.com\"\" looks like a URL. Beautiful Soup is not an HTTP client. You should probably use an HTTP client like requests to get the document behind the URL, and feed that document to Beautiful Soup.\n",
      "  ' that document to Beautiful Soup.' % decoded_markup\n"
     ]
    },
    {
     "name": "stdout",
     "output_type": "stream",
     "text": [
      "Parsing sentences from unlabeled set\n"
     ]
    },
    {
     "name": "stderr",
     "output_type": "stream",
     "text": [
      "/Users/james/anaconda3/lib/python3.6/site-packages/bs4/__init__.py:282: UserWarning: \"http://www.archive.org/details/LovefromaStranger\"\" looks like a URL. Beautiful Soup is not an HTTP client. You should probably use an HTTP client like requests to get the document behind the URL, and feed that document to Beautiful Soup.\n",
      "  ' that document to Beautiful Soup.' % decoded_markup\n",
      "/Users/james/anaconda3/lib/python3.6/site-packages/bs4/__init__.py:282: UserWarning: \"http://www.loosechangeguide.com/LooseChangeGuide.html\"\" looks like a URL. Beautiful Soup is not an HTTP client. You should probably use an HTTP client like requests to get the document behind the URL, and feed that document to Beautiful Soup.\n",
      "  ' that document to Beautiful Soup.' % decoded_markup\n",
      "/Users/james/anaconda3/lib/python3.6/site-packages/bs4/__init__.py:282: UserWarning: \"http://www.msnbc.msn.com/id/4972055/site/newsweek/\"\" looks like a URL. Beautiful Soup is not an HTTP client. You should probably use an HTTP client like requests to get the document behind the URL, and feed that document to Beautiful Soup.\n",
      "  ' that document to Beautiful Soup.' % decoded_markup\n",
      "/Users/james/anaconda3/lib/python3.6/site-packages/bs4/__init__.py:219: UserWarning: \"b'..'\" looks like a filename, not markup. You should probably open this file and pass the filehandle into Beautiful Soup.\n",
      "  ' Beautiful Soup.' % markup)\n",
      "/Users/james/anaconda3/lib/python3.6/site-packages/bs4/__init__.py:282: UserWarning: \"http://www.youtube.com/watch?v=a0KSqelmgN8\"\" looks like a URL. Beautiful Soup is not an HTTP client. You should probably use an HTTP client like requests to get the document behind the URL, and feed that document to Beautiful Soup.\n",
      "  ' that document to Beautiful Soup.' % decoded_markup\n",
      "/Users/james/anaconda3/lib/python3.6/site-packages/bs4/__init__.py:282: UserWarning: \"http://jake-weird.blogspot.com/2007/08/beneath.html\"\" looks like a URL. Beautiful Soup is not an HTTP client. You should probably use an HTTP client like requests to get the document behind the URL, and feed that document to Beautiful Soup.\n",
      "  ' that document to Beautiful Soup.' % decoded_markup\n"
     ]
    }
   ],
   "source": [
    "sentences = []  # Initialize an empty list of sentences\n",
    "\n",
    "print(\"Parsing sentences from training set\")\n",
    "for review in train[\"review\"]:\n",
    "    sentences += review_to_sentences(review, tokenizer)\n",
    "\n",
    "print(\"Parsing sentences from unlabeled set\")\n",
    "for review in unlabeled_train[\"review\"]:\n",
    "    sentences += review_to_sentences(review, tokenizer)"
   ]
  },
  {
   "cell_type": "code",
   "execution_count": 16,
   "metadata": {},
   "outputs": [
    {
     "data": {
      "text/plain": [
       "795538"
      ]
     },
     "execution_count": 16,
     "metadata": {},
     "output_type": "execute_result"
    }
   ],
   "source": [
    "# Check how many sentences we have in total - should be around 850,000+\n",
    "len(sentences)"
   ]
  },
  {
   "cell_type": "code",
   "execution_count": 17,
   "metadata": {},
   "outputs": [
    {
     "name": "stdout",
     "output_type": "stream",
     "text": [
      "['with', 'all', 'this', 'stuff', 'going', 'down', 'at', 'the', 'moment', 'with', 'mj', 'i', 've', 'started', 'listening', 'to', 'his', 'music', 'watching', 'the', 'odd', 'documentary', 'here', 'and', 'there', 'watched', 'the', 'wiz', 'and', 'watched', 'moonwalker', 'again']\n",
      "['maybe', 'i', 'just', 'want', 'to', 'get', 'a', 'certain', 'insight', 'into', 'this', 'guy', 'who', 'i', 'thought', 'was', 'really', 'cool', 'in', 'the', 'eighties', 'just', 'to', 'maybe', 'make', 'up', 'my', 'mind', 'whether', 'he', 'is', 'guilty', 'or', 'innocent']\n"
     ]
    }
   ],
   "source": [
    "print(sentences[0])\n",
    "\n",
    "print(sentences[1])"
   ]
  },
  {
   "cell_type": "markdown",
   "metadata": {},
   "source": [
    "#### 训练和保存模型\n",
    "###### 在训练模型的时候，有几个参数会影响运行时间和生成的模型效果：\n",
    "###### Architecture: Architecture options are skip-gram (default) or continuous bag of words. We found that skip-gram was very slightly slower but produced better results.\n",
    "###### Training algorithm: Hierarchical softmax (default) or negative sampling. For us, the default worked well.\n",
    "###### Downsampling of frequent words: The Google documentation recommends values between .00001 and .001. For us, values closer 0.001 seemed to improve the accuracy of the final model.\n",
    "###### Word vector dimensionality: More features result in longer runtimes, and often, but not always, result in better models. Reasonable values can be in the tens to hundreds; we used 300.\n",
    "###### Context / window size: How many words of context should the training algorithm take into account? 10 seems to work well for hierarchical softmax (more is better, up to a point).\n",
    "###### Worker threads: Number of parallel processes to run. This is computer-specific, but between 4 and 6 should work on most systems.\n",
    "###### Minimum word count: This helps limit the size of the vocabulary to meaningful words. Any word that does not occur at least this many times across all documents is ignored. Reasonable values could be between 10 and 100. In this case, since each movie occurs 30 times, we set the minimum word count to 40, to avoid attaching too much importance to individual movie titles. This resulted in an overall vocabulary size of around 15,000 words. Higher values also help limit run time.\n",
    "###### 设定参数并不容易，但一旦设定好，训练模型就简单多了："
   ]
  },
  {
   "cell_type": "code",
   "execution_count": 18,
   "metadata": {
    "collapsed": true
   },
   "outputs": [
    {
     "name": "stderr",
     "output_type": "stream",
     "text": [
      "2019-04-03 11:05:43,899 : INFO : 'pattern' package not found; tag filters are not available for English\n",
      "2019-04-03 11:05:43,916 : INFO : collecting all words and their counts\n",
      "2019-04-03 11:05:43,917 : INFO : PROGRESS: at sentence #0, processed 0 words, keeping 0 word types\n",
      "2019-04-03 11:05:43,996 : INFO : PROGRESS: at sentence #10000, processed 225803 words, keeping 17776 word types\n",
      "2019-04-03 11:05:44,066 : INFO : PROGRESS: at sentence #20000, processed 451892 words, keeping 24948 word types\n"
     ]
    },
    {
     "name": "stdout",
     "output_type": "stream",
     "text": [
      "Training model...\n"
     ]
    },
    {
     "name": "stderr",
     "output_type": "stream",
     "text": [
      "2019-04-03 11:05:44,140 : INFO : PROGRESS: at sentence #30000, processed 671315 words, keeping 30034 word types\n",
      "2019-04-03 11:05:44,226 : INFO : PROGRESS: at sentence #40000, processed 897815 words, keeping 34348 word types\n",
      "2019-04-03 11:05:44,298 : INFO : PROGRESS: at sentence #50000, processed 1116963 words, keeping 37761 word types\n",
      "2019-04-03 11:05:44,379 : INFO : PROGRESS: at sentence #60000, processed 1338404 words, keeping 40723 word types\n",
      "2019-04-03 11:05:44,467 : INFO : PROGRESS: at sentence #70000, processed 1561580 words, keeping 43333 word types\n",
      "2019-04-03 11:05:44,547 : INFO : PROGRESS: at sentence #80000, processed 1780887 words, keeping 45714 word types\n",
      "2019-04-03 11:05:44,637 : INFO : PROGRESS: at sentence #90000, processed 2004996 words, keeping 48135 word types\n",
      "2019-04-03 11:05:44,714 : INFO : PROGRESS: at sentence #100000, processed 2226966 words, keeping 50207 word types\n",
      "2019-04-03 11:05:44,781 : INFO : PROGRESS: at sentence #110000, processed 2446580 words, keeping 52081 word types\n",
      "2019-04-03 11:05:44,850 : INFO : PROGRESS: at sentence #120000, processed 2668775 words, keeping 54119 word types\n",
      "2019-04-03 11:05:44,930 : INFO : PROGRESS: at sentence #130000, processed 2894303 words, keeping 55847 word types\n",
      "2019-04-03 11:05:44,995 : INFO : PROGRESS: at sentence #140000, processed 3107005 words, keeping 57346 word types\n",
      "2019-04-03 11:05:45,065 : INFO : PROGRESS: at sentence #150000, processed 3332627 words, keeping 59055 word types\n",
      "2019-04-03 11:05:45,145 : INFO : PROGRESS: at sentence #160000, processed 3555315 words, keeping 60617 word types\n",
      "2019-04-03 11:05:45,248 : INFO : PROGRESS: at sentence #170000, processed 3778655 words, keeping 62077 word types\n",
      "2019-04-03 11:05:45,328 : INFO : PROGRESS: at sentence #180000, processed 3999236 words, keeping 63496 word types\n",
      "2019-04-03 11:05:45,395 : INFO : PROGRESS: at sentence #190000, processed 4224449 words, keeping 64794 word types\n",
      "2019-04-03 11:05:45,462 : INFO : PROGRESS: at sentence #200000, processed 4448603 words, keeping 66087 word types\n",
      "2019-04-03 11:05:45,526 : INFO : PROGRESS: at sentence #210000, processed 4669967 words, keeping 67390 word types\n",
      "2019-04-03 11:05:45,594 : INFO : PROGRESS: at sentence #220000, processed 4894968 words, keeping 68697 word types\n",
      "2019-04-03 11:05:45,668 : INFO : PROGRESS: at sentence #230000, processed 5117545 words, keeping 69958 word types\n",
      "2019-04-03 11:05:45,738 : INFO : PROGRESS: at sentence #240000, processed 5345050 words, keeping 71167 word types\n",
      "2019-04-03 11:05:45,817 : INFO : PROGRESS: at sentence #250000, processed 5559165 words, keeping 72351 word types\n",
      "2019-04-03 11:05:45,881 : INFO : PROGRESS: at sentence #260000, processed 5779146 words, keeping 73478 word types\n",
      "2019-04-03 11:05:45,949 : INFO : PROGRESS: at sentence #270000, processed 6000435 words, keeping 74767 word types\n",
      "2019-04-03 11:05:46,036 : INFO : PROGRESS: at sentence #280000, processed 6226314 words, keeping 76369 word types\n",
      "2019-04-03 11:05:46,127 : INFO : PROGRESS: at sentence #290000, processed 6449474 words, keeping 77839 word types\n",
      "2019-04-03 11:05:46,206 : INFO : PROGRESS: at sentence #300000, processed 6674077 words, keeping 79171 word types\n",
      "2019-04-03 11:05:46,281 : INFO : PROGRESS: at sentence #310000, processed 6899391 words, keeping 80480 word types\n",
      "2019-04-03 11:05:46,351 : INFO : PROGRESS: at sentence #320000, processed 7124278 words, keeping 81808 word types\n",
      "2019-04-03 11:05:46,429 : INFO : PROGRESS: at sentence #330000, processed 7346021 words, keeping 83030 word types\n",
      "2019-04-03 11:05:46,508 : INFO : PROGRESS: at sentence #340000, processed 7575533 words, keeping 84280 word types\n",
      "2019-04-03 11:05:46,574 : INFO : PROGRESS: at sentence #350000, processed 7798803 words, keeping 85425 word types\n",
      "2019-04-03 11:05:46,638 : INFO : PROGRESS: at sentence #360000, processed 8019427 words, keeping 86596 word types\n",
      "2019-04-03 11:05:46,745 : INFO : PROGRESS: at sentence #370000, processed 8246619 words, keeping 87708 word types\n",
      "2019-04-03 11:05:46,829 : INFO : PROGRESS: at sentence #380000, processed 8471766 words, keeping 88878 word types\n",
      "2019-04-03 11:05:46,892 : INFO : PROGRESS: at sentence #390000, processed 8701497 words, keeping 89907 word types\n",
      "2019-04-03 11:05:46,956 : INFO : PROGRESS: at sentence #400000, processed 8924446 words, keeping 90916 word types\n",
      "2019-04-03 11:05:47,023 : INFO : PROGRESS: at sentence #410000, processed 9145796 words, keeping 91880 word types\n",
      "2019-04-03 11:05:47,102 : INFO : PROGRESS: at sentence #420000, processed 9366876 words, keeping 92912 word types\n",
      "2019-04-03 11:05:47,196 : INFO : PROGRESS: at sentence #430000, processed 9594413 words, keeping 93932 word types\n",
      "2019-04-03 11:05:47,278 : INFO : PROGRESS: at sentence #440000, processed 9821166 words, keeping 94906 word types\n",
      "2019-04-03 11:05:47,345 : INFO : PROGRESS: at sentence #450000, processed 10044928 words, keeping 96036 word types\n",
      "2019-04-03 11:05:47,413 : INFO : PROGRESS: at sentence #460000, processed 10277688 words, keeping 97088 word types\n",
      "2019-04-03 11:05:47,506 : INFO : PROGRESS: at sentence #470000, processed 10505613 words, keeping 97933 word types\n",
      "2019-04-03 11:05:47,573 : INFO : PROGRESS: at sentence #480000, processed 10725997 words, keeping 98862 word types\n",
      "2019-04-03 11:05:47,636 : INFO : PROGRESS: at sentence #490000, processed 10952741 words, keeping 99871 word types\n",
      "2019-04-03 11:05:47,707 : INFO : PROGRESS: at sentence #500000, processed 11174397 words, keeping 100765 word types\n",
      "2019-04-03 11:05:47,780 : INFO : PROGRESS: at sentence #510000, processed 11399672 words, keeping 101699 word types\n",
      "2019-04-03 11:05:47,855 : INFO : PROGRESS: at sentence #520000, processed 11623020 words, keeping 102598 word types\n",
      "2019-04-03 11:05:47,933 : INFO : PROGRESS: at sentence #530000, processed 11847418 words, keeping 103400 word types\n",
      "2019-04-03 11:05:48,018 : INFO : PROGRESS: at sentence #540000, processed 12072033 words, keeping 104265 word types\n",
      "2019-04-03 11:05:48,102 : INFO : PROGRESS: at sentence #550000, processed 12297571 words, keeping 105133 word types\n",
      "2019-04-03 11:05:48,230 : INFO : PROGRESS: at sentence #560000, processed 12518861 words, keeping 105997 word types\n",
      "2019-04-03 11:05:48,318 : INFO : PROGRESS: at sentence #570000, processed 12747916 words, keeping 106787 word types\n",
      "2019-04-03 11:05:48,390 : INFO : PROGRESS: at sentence #580000, processed 12969412 words, keeping 107665 word types\n",
      "2019-04-03 11:05:48,463 : INFO : PROGRESS: at sentence #590000, processed 13194937 words, keeping 108501 word types\n",
      "2019-04-03 11:05:48,536 : INFO : PROGRESS: at sentence #600000, processed 13417135 words, keeping 109218 word types\n",
      "2019-04-03 11:05:48,601 : INFO : PROGRESS: at sentence #610000, processed 13638158 words, keeping 110092 word types\n",
      "2019-04-03 11:05:48,699 : INFO : PROGRESS: at sentence #620000, processed 13864483 words, keeping 110837 word types\n",
      "2019-04-03 11:05:48,779 : INFO : PROGRESS: at sentence #630000, processed 14088769 words, keeping 111610 word types\n",
      "2019-04-03 11:05:48,847 : INFO : PROGRESS: at sentence #640000, processed 14309552 words, keeping 112416 word types\n",
      "2019-04-03 11:05:48,925 : INFO : PROGRESS: at sentence #650000, processed 14535308 words, keeping 113196 word types\n",
      "2019-04-03 11:05:49,010 : INFO : PROGRESS: at sentence #660000, processed 14758098 words, keeping 113945 word types\n",
      "2019-04-03 11:05:49,083 : INFO : PROGRESS: at sentence #670000, processed 14981482 words, keeping 114643 word types\n",
      "2019-04-03 11:05:49,159 : INFO : PROGRESS: at sentence #680000, processed 15206314 words, keeping 115354 word types\n",
      "2019-04-03 11:05:49,279 : INFO : PROGRESS: at sentence #690000, processed 15428507 words, keeping 116131 word types\n",
      "2019-04-03 11:05:49,398 : INFO : PROGRESS: at sentence #700000, processed 15657213 words, keeping 116943 word types\n",
      "2019-04-03 11:05:49,504 : INFO : PROGRESS: at sentence #710000, processed 15880202 words, keeping 117596 word types\n",
      "2019-04-03 11:05:49,622 : INFO : PROGRESS: at sentence #720000, processed 16105489 words, keeping 118221 word types\n",
      "2019-04-03 11:05:49,717 : INFO : PROGRESS: at sentence #730000, processed 16331870 words, keeping 118954 word types\n",
      "2019-04-03 11:05:49,802 : INFO : PROGRESS: at sentence #740000, processed 16552903 words, keeping 119668 word types\n"
     ]
    },
    {
     "name": "stderr",
     "output_type": "stream",
     "text": [
      "2019-04-03 11:05:49,893 : INFO : PROGRESS: at sentence #750000, processed 16771230 words, keeping 120295 word types\n",
      "2019-04-03 11:05:49,978 : INFO : PROGRESS: at sentence #760000, processed 16990622 words, keeping 120930 word types\n",
      "2019-04-03 11:05:50,070 : INFO : PROGRESS: at sentence #770000, processed 17217759 words, keeping 121703 word types\n",
      "2019-04-03 11:05:50,165 : INFO : PROGRESS: at sentence #780000, processed 17447905 words, keeping 122402 word types\n",
      "2019-04-03 11:05:50,252 : INFO : PROGRESS: at sentence #790000, processed 17674981 words, keeping 123066 word types\n",
      "2019-04-03 11:05:50,303 : INFO : collected 123504 word types from a corpus of 17798082 raw words and 795538 sentences\n",
      "2019-04-03 11:05:50,304 : INFO : Loading a fresh vocabulary\n",
      "2019-04-03 11:05:50,394 : INFO : effective_min_count=40 retains 16490 unique words (13% of original 123504, drops 107014)\n",
      "2019-04-03 11:05:50,395 : INFO : effective_min_count=40 leaves 17238940 word corpus (96% of original 17798082, drops 559142)\n",
      "2019-04-03 11:05:50,461 : INFO : deleting the raw counts dictionary of 123504 items\n",
      "2019-04-03 11:05:50,468 : INFO : sample=0.001 downsamples 48 most-common words\n",
      "2019-04-03 11:05:50,469 : INFO : downsampling leaves estimated 12749658 word corpus (74.0% of prior 17238940)\n",
      "2019-04-03 11:05:50,535 : INFO : estimated required memory for 16490 words and 300 dimensions: 47821000 bytes\n",
      "2019-04-03 11:05:50,536 : INFO : resetting layer weights\n",
      "2019-04-03 11:05:50,818 : INFO : training model with 4 workers on 16490 vocabulary and 300 features, using sg=0 hs=0 sample=0.001 negative=5 window=10\n",
      "2019-04-03 11:05:51,842 : INFO : EPOCH 1 - PROGRESS: at 4.54% examples, 573455 words/s, in_qsize 7, out_qsize 0\n",
      "2019-04-03 11:05:52,879 : INFO : EPOCH 1 - PROGRESS: at 7.54% examples, 467735 words/s, in_qsize 7, out_qsize 0\n",
      "2019-04-03 11:05:53,888 : INFO : EPOCH 1 - PROGRESS: at 12.12% examples, 503014 words/s, in_qsize 7, out_qsize 0\n",
      "2019-04-03 11:05:54,895 : INFO : EPOCH 1 - PROGRESS: at 16.61% examples, 517528 words/s, in_qsize 7, out_qsize 0\n",
      "2019-04-03 11:05:55,906 : INFO : EPOCH 1 - PROGRESS: at 20.45% examples, 510159 words/s, in_qsize 7, out_qsize 0\n",
      "2019-04-03 11:05:56,914 : INFO : EPOCH 1 - PROGRESS: at 25.00% examples, 520821 words/s, in_qsize 7, out_qsize 0\n",
      "2019-04-03 11:05:57,920 : INFO : EPOCH 1 - PROGRESS: at 29.20% examples, 522512 words/s, in_qsize 8, out_qsize 0\n",
      "2019-04-03 11:05:58,926 : INFO : EPOCH 1 - PROGRESS: at 34.10% examples, 533519 words/s, in_qsize 7, out_qsize 0\n",
      "2019-04-03 11:05:59,936 : INFO : EPOCH 1 - PROGRESS: at 38.91% examples, 541848 words/s, in_qsize 8, out_qsize 0\n",
      "2019-04-03 11:06:00,947 : INFO : EPOCH 1 - PROGRESS: at 43.75% examples, 549227 words/s, in_qsize 8, out_qsize 0\n",
      "2019-04-03 11:06:01,947 : INFO : EPOCH 1 - PROGRESS: at 48.49% examples, 554477 words/s, in_qsize 8, out_qsize 0\n",
      "2019-04-03 11:06:02,990 : INFO : EPOCH 1 - PROGRESS: at 52.32% examples, 546915 words/s, in_qsize 8, out_qsize 1\n",
      "2019-04-03 11:06:03,997 : INFO : EPOCH 1 - PROGRESS: at 56.93% examples, 550175 words/s, in_qsize 8, out_qsize 0\n",
      "2019-04-03 11:06:05,005 : INFO : EPOCH 1 - PROGRESS: at 62.03% examples, 557463 words/s, in_qsize 7, out_qsize 0\n",
      "2019-04-03 11:06:06,011 : INFO : EPOCH 1 - PROGRESS: at 66.95% examples, 561997 words/s, in_qsize 7, out_qsize 1\n",
      "2019-04-03 11:06:07,012 : INFO : EPOCH 1 - PROGRESS: at 70.77% examples, 557337 words/s, in_qsize 7, out_qsize 1\n",
      "2019-04-03 11:06:08,013 : INFO : EPOCH 1 - PROGRESS: at 74.46% examples, 552332 words/s, in_qsize 7, out_qsize 0\n",
      "2019-04-03 11:06:09,028 : INFO : EPOCH 1 - PROGRESS: at 78.37% examples, 549044 words/s, in_qsize 8, out_qsize 1\n",
      "2019-04-03 11:06:10,031 : INFO : EPOCH 1 - PROGRESS: at 83.05% examples, 551306 words/s, in_qsize 7, out_qsize 0\n",
      "2019-04-03 11:06:11,038 : INFO : EPOCH 1 - PROGRESS: at 87.96% examples, 554996 words/s, in_qsize 8, out_qsize 1\n",
      "2019-04-03 11:06:12,057 : INFO : EPOCH 1 - PROGRESS: at 93.01% examples, 558660 words/s, in_qsize 7, out_qsize 0\n",
      "2019-04-03 11:06:13,061 : INFO : EPOCH 1 - PROGRESS: at 97.89% examples, 561431 words/s, in_qsize 7, out_qsize 0\n",
      "2019-04-03 11:06:13,451 : INFO : worker thread finished; awaiting finish of 3 more threads\n",
      "2019-04-03 11:06:13,472 : INFO : worker thread finished; awaiting finish of 2 more threads\n",
      "2019-04-03 11:06:13,475 : INFO : worker thread finished; awaiting finish of 1 more threads\n",
      "2019-04-03 11:06:13,484 : INFO : worker thread finished; awaiting finish of 0 more threads\n",
      "2019-04-03 11:06:13,485 : INFO : EPOCH - 1 : training on 17798082 raw words (12751239 effective words) took 22.7s, 562911 effective words/s\n",
      "2019-04-03 11:06:14,496 : INFO : EPOCH 2 - PROGRESS: at 4.75% examples, 606926 words/s, in_qsize 7, out_qsize 0\n",
      "2019-04-03 11:06:15,511 : INFO : EPOCH 2 - PROGRESS: at 9.81% examples, 616827 words/s, in_qsize 7, out_qsize 0\n",
      "2019-04-03 11:06:16,513 : INFO : EPOCH 2 - PROGRESS: at 14.67% examples, 615980 words/s, in_qsize 8, out_qsize 0\n",
      "2019-04-03 11:06:17,521 : INFO : EPOCH 2 - PROGRESS: at 18.52% examples, 582554 words/s, in_qsize 7, out_qsize 0\n",
      "2019-04-03 11:06:18,542 : INFO : EPOCH 2 - PROGRESS: at 22.32% examples, 559729 words/s, in_qsize 7, out_qsize 0\n",
      "2019-04-03 11:06:19,557 : INFO : EPOCH 2 - PROGRESS: at 26.18% examples, 547493 words/s, in_qsize 7, out_qsize 0\n",
      "2019-04-03 11:06:20,563 : INFO : EPOCH 2 - PROGRESS: at 30.32% examples, 544366 words/s, in_qsize 8, out_qsize 0\n",
      "2019-04-03 11:06:21,570 : INFO : EPOCH 2 - PROGRESS: at 34.94% examples, 548077 words/s, in_qsize 7, out_qsize 0\n",
      "2019-04-03 11:06:22,572 : INFO : EPOCH 2 - PROGRESS: at 38.96% examples, 544369 words/s, in_qsize 7, out_qsize 0\n",
      "2019-04-03 11:06:23,584 : INFO : EPOCH 2 - PROGRESS: at 43.46% examples, 547145 words/s, in_qsize 7, out_qsize 0\n",
      "2019-04-03 11:06:24,595 : INFO : EPOCH 2 - PROGRESS: at 48.33% examples, 553287 words/s, in_qsize 7, out_qsize 0\n",
      "2019-04-03 11:06:25,599 : INFO : EPOCH 2 - PROGRESS: at 53.16% examples, 558247 words/s, in_qsize 8, out_qsize 0\n",
      "2019-04-03 11:06:26,604 : INFO : EPOCH 2 - PROGRESS: at 57.96% examples, 562812 words/s, in_qsize 8, out_qsize 0\n",
      "2019-04-03 11:06:27,617 : INFO : EPOCH 2 - PROGRESS: at 62.88% examples, 567010 words/s, in_qsize 7, out_qsize 1\n",
      "2019-04-03 11:06:28,623 : INFO : EPOCH 2 - PROGRESS: at 67.86% examples, 571401 words/s, in_qsize 7, out_qsize 0\n",
      "2019-04-03 11:06:29,627 : INFO : EPOCH 2 - PROGRESS: at 72.78% examples, 574866 words/s, in_qsize 7, out_qsize 0\n",
      "2019-04-03 11:06:30,650 : INFO : EPOCH 2 - PROGRESS: at 77.66% examples, 576906 words/s, in_qsize 8, out_qsize 0\n",
      "2019-04-03 11:06:31,654 : INFO : EPOCH 2 - PROGRESS: at 82.56% examples, 579261 words/s, in_qsize 8, out_qsize 0\n",
      "2019-04-03 11:06:32,660 : INFO : EPOCH 2 - PROGRESS: at 87.48% examples, 581718 words/s, in_qsize 8, out_qsize 0\n",
      "2019-04-03 11:06:33,664 : INFO : EPOCH 2 - PROGRESS: at 92.39% examples, 583953 words/s, in_qsize 7, out_qsize 0\n",
      "2019-04-03 11:06:34,679 : INFO : EPOCH 2 - PROGRESS: at 96.86% examples, 582613 words/s, in_qsize 7, out_qsize 0\n",
      "2019-04-03 11:06:35,300 : INFO : worker thread finished; awaiting finish of 3 more threads\n",
      "2019-04-03 11:06:35,309 : INFO : worker thread finished; awaiting finish of 2 more threads\n",
      "2019-04-03 11:06:35,329 : INFO : worker thread finished; awaiting finish of 1 more threads\n",
      "2019-04-03 11:06:35,336 : INFO : worker thread finished; awaiting finish of 0 more threads\n",
      "2019-04-03 11:06:35,338 : INFO : EPOCH - 2 : training on 17798082 raw words (12749663 effective words) took 21.8s, 583699 effective words/s\n",
      "2019-04-03 11:06:36,354 : INFO : EPOCH 3 - PROGRESS: at 4.70% examples, 599858 words/s, in_qsize 7, out_qsize 0\n",
      "2019-04-03 11:06:37,377 : INFO : EPOCH 3 - PROGRESS: at 8.61% examples, 539909 words/s, in_qsize 6, out_qsize 1\n",
      "2019-04-03 11:06:38,398 : INFO : EPOCH 3 - PROGRESS: at 12.57% examples, 523584 words/s, in_qsize 7, out_qsize 0\n",
      "2019-04-03 11:06:39,405 : INFO : EPOCH 3 - PROGRESS: at 16.50% examples, 515266 words/s, in_qsize 7, out_qsize 0\n",
      "2019-04-03 11:06:40,412 : INFO : EPOCH 3 - PROGRESS: at 20.68% examples, 517296 words/s, in_qsize 7, out_qsize 1\n",
      "2019-04-03 11:06:41,420 : INFO : EPOCH 3 - PROGRESS: at 25.57% examples, 533970 words/s, in_qsize 7, out_qsize 0\n",
      "2019-04-03 11:06:42,421 : INFO : EPOCH 3 - PROGRESS: at 30.26% examples, 543153 words/s, in_qsize 8, out_qsize 1\n"
     ]
    },
    {
     "name": "stderr",
     "output_type": "stream",
     "text": [
      "2019-04-03 11:06:43,441 : INFO : EPOCH 3 - PROGRESS: at 34.99% examples, 547918 words/s, in_qsize 7, out_qsize 0\n",
      "2019-04-03 11:06:44,451 : INFO : EPOCH 3 - PROGRESS: at 39.64% examples, 552438 words/s, in_qsize 7, out_qsize 0\n",
      "2019-04-03 11:06:45,455 : INFO : EPOCH 3 - PROGRESS: at 44.15% examples, 554916 words/s, in_qsize 7, out_qsize 0\n",
      "2019-04-03 11:06:46,465 : INFO : EPOCH 3 - PROGRESS: at 49.04% examples, 561076 words/s, in_qsize 8, out_qsize 0\n",
      "2019-04-03 11:06:47,468 : INFO : EPOCH 3 - PROGRESS: at 53.77% examples, 564173 words/s, in_qsize 7, out_qsize 0\n",
      "2019-04-03 11:06:48,479 : INFO : EPOCH 3 - PROGRESS: at 58.51% examples, 567532 words/s, in_qsize 6, out_qsize 1\n",
      "2019-04-03 11:06:49,484 : INFO : EPOCH 3 - PROGRESS: at 63.05% examples, 568198 words/s, in_qsize 7, out_qsize 0\n",
      "2019-04-03 11:06:50,486 : INFO : EPOCH 3 - PROGRESS: at 67.63% examples, 569315 words/s, in_qsize 7, out_qsize 1\n",
      "2019-04-03 11:06:51,493 : INFO : EPOCH 3 - PROGRESS: at 71.54% examples, 564841 words/s, in_qsize 7, out_qsize 0\n",
      "2019-04-03 11:06:52,515 : INFO : EPOCH 3 - PROGRESS: at 75.65% examples, 561638 words/s, in_qsize 7, out_qsize 0\n",
      "2019-04-03 11:06:53,527 : INFO : EPOCH 3 - PROGRESS: at 79.80% examples, 559479 words/s, in_qsize 7, out_qsize 0\n",
      "2019-04-03 11:06:54,539 : INFO : EPOCH 3 - PROGRESS: at 84.62% examples, 562007 words/s, in_qsize 7, out_qsize 0\n",
      "2019-04-03 11:06:55,547 : INFO : EPOCH 3 - PROGRESS: at 89.58% examples, 565456 words/s, in_qsize 7, out_qsize 0\n",
      "2019-04-03 11:06:56,554 : INFO : EPOCH 3 - PROGRESS: at 94.54% examples, 568275 words/s, in_qsize 7, out_qsize 0\n",
      "2019-04-03 11:06:57,558 : INFO : EPOCH 3 - PROGRESS: at 99.38% examples, 570628 words/s, in_qsize 7, out_qsize 0\n",
      "2019-04-03 11:06:57,647 : INFO : worker thread finished; awaiting finish of 3 more threads\n",
      "2019-04-03 11:06:57,657 : INFO : worker thread finished; awaiting finish of 2 more threads\n",
      "2019-04-03 11:06:57,672 : INFO : worker thread finished; awaiting finish of 1 more threads\n",
      "2019-04-03 11:06:57,674 : INFO : worker thread finished; awaiting finish of 0 more threads\n",
      "2019-04-03 11:06:57,675 : INFO : EPOCH - 3 : training on 17798082 raw words (12749071 effective words) took 22.3s, 571124 effective words/s\n",
      "2019-04-03 11:06:58,698 : INFO : EPOCH 4 - PROGRESS: at 4.92% examples, 620510 words/s, in_qsize 6, out_qsize 1\n",
      "2019-04-03 11:06:59,707 : INFO : EPOCH 4 - PROGRESS: at 9.98% examples, 625304 words/s, in_qsize 7, out_qsize 0\n",
      "2019-04-03 11:07:00,714 : INFO : EPOCH 4 - PROGRESS: at 14.56% examples, 608812 words/s, in_qsize 7, out_qsize 0\n",
      "2019-04-03 11:07:01,719 : INFO : EPOCH 4 - PROGRESS: at 18.13% examples, 568827 words/s, in_qsize 8, out_qsize 0\n",
      "2019-04-03 11:07:02,722 : INFO : EPOCH 4 - PROGRESS: at 20.78% examples, 522276 words/s, in_qsize 7, out_qsize 0\n",
      "2019-04-03 11:07:03,723 : INFO : EPOCH 4 - PROGRESS: at 24.27% examples, 509180 words/s, in_qsize 8, out_qsize 0\n",
      "2019-04-03 11:07:04,736 : INFO : EPOCH 4 - PROGRESS: at 28.59% examples, 513952 words/s, in_qsize 7, out_qsize 0\n",
      "2019-04-03 11:07:05,738 : INFO : EPOCH 4 - PROGRESS: at 33.66% examples, 528919 words/s, in_qsize 7, out_qsize 0\n",
      "2019-04-03 11:07:06,741 : INFO : EPOCH 4 - PROGRESS: at 38.51% examples, 538999 words/s, in_qsize 8, out_qsize 0\n",
      "2019-04-03 11:07:07,747 : INFO : EPOCH 4 - PROGRESS: at 43.30% examples, 546235 words/s, in_qsize 7, out_qsize 0\n",
      "2019-04-03 11:07:08,752 : INFO : EPOCH 4 - PROGRESS: at 48.06% examples, 551542 words/s, in_qsize 8, out_qsize 0\n",
      "2019-04-03 11:07:09,796 : INFO : EPOCH 4 - PROGRESS: at 52.37% examples, 549513 words/s, in_qsize 7, out_qsize 0\n",
      "2019-04-03 11:07:10,814 : INFO : EPOCH 4 - PROGRESS: at 56.82% examples, 550442 words/s, in_qsize 7, out_qsize 0\n",
      "2019-04-03 11:07:11,824 : INFO : EPOCH 4 - PROGRESS: at 61.87% examples, 557158 words/s, in_qsize 7, out_qsize 0\n",
      "2019-04-03 11:07:12,826 : INFO : EPOCH 4 - PROGRESS: at 66.85% examples, 562344 words/s, in_qsize 7, out_qsize 0\n",
      "2019-04-03 11:07:13,836 : INFO : EPOCH 4 - PROGRESS: at 71.59% examples, 564814 words/s, in_qsize 8, out_qsize 0\n",
      "2019-04-03 11:07:14,846 : INFO : EPOCH 4 - PROGRESS: at 76.49% examples, 567826 words/s, in_qsize 7, out_qsize 0\n",
      "2019-04-03 11:07:15,854 : INFO : EPOCH 4 - PROGRESS: at 81.43% examples, 570941 words/s, in_qsize 7, out_qsize 0\n",
      "2019-04-03 11:07:16,871 : INFO : EPOCH 4 - PROGRESS: at 85.46% examples, 567525 words/s, in_qsize 8, out_qsize 0\n",
      "2019-04-03 11:07:17,873 : INFO : EPOCH 4 - PROGRESS: at 89.37% examples, 564129 words/s, in_qsize 7, out_qsize 0\n",
      "2019-04-03 11:07:18,881 : INFO : EPOCH 4 - PROGRESS: at 93.80% examples, 563986 words/s, in_qsize 8, out_qsize 0\n",
      "2019-04-03 11:07:19,890 : INFO : EPOCH 4 - PROGRESS: at 98.77% examples, 567049 words/s, in_qsize 7, out_qsize 0\n",
      "2019-04-03 11:07:20,100 : INFO : worker thread finished; awaiting finish of 3 more threads\n",
      "2019-04-03 11:07:20,109 : INFO : worker thread finished; awaiting finish of 2 more threads\n",
      "2019-04-03 11:07:20,121 : INFO : worker thread finished; awaiting finish of 1 more threads\n",
      "2019-04-03 11:07:20,131 : INFO : worker thread finished; awaiting finish of 0 more threads\n",
      "2019-04-03 11:07:20,134 : INFO : EPOCH - 4 : training on 17798082 raw words (12747826 effective words) took 22.4s, 567854 effective words/s\n",
      "2019-04-03 11:07:21,155 : INFO : EPOCH 5 - PROGRESS: at 4.87% examples, 618066 words/s, in_qsize 7, out_qsize 0\n",
      "2019-04-03 11:07:22,171 : INFO : EPOCH 5 - PROGRESS: at 10.03% examples, 629274 words/s, in_qsize 7, out_qsize 0\n",
      "2019-04-03 11:07:23,184 : INFO : EPOCH 5 - PROGRESS: at 15.01% examples, 626851 words/s, in_qsize 7, out_qsize 0\n",
      "2019-04-03 11:07:24,189 : INFO : EPOCH 5 - PROGRESS: at 20.05% examples, 628430 words/s, in_qsize 8, out_qsize 0\n",
      "2019-04-03 11:07:25,194 : INFO : EPOCH 5 - PROGRESS: at 25.05% examples, 629436 words/s, in_qsize 7, out_qsize 0\n",
      "2019-04-03 11:07:26,204 : INFO : EPOCH 5 - PROGRESS: at 30.09% examples, 630632 words/s, in_qsize 7, out_qsize 0\n",
      "2019-04-03 11:07:27,209 : INFO : EPOCH 5 - PROGRESS: at 35.27% examples, 632971 words/s, in_qsize 7, out_qsize 0\n",
      "2019-04-03 11:07:28,213 : INFO : EPOCH 5 - PROGRESS: at 40.24% examples, 633094 words/s, in_qsize 7, out_qsize 0\n",
      "2019-04-03 11:07:29,218 : INFO : EPOCH 5 - PROGRESS: at 45.18% examples, 632295 words/s, in_qsize 7, out_qsize 0\n",
      "2019-04-03 11:07:30,219 : INFO : EPOCH 5 - PROGRESS: at 50.16% examples, 633325 words/s, in_qsize 7, out_qsize 0\n",
      "2019-04-03 11:07:31,223 : INFO : EPOCH 5 - PROGRESS: at 55.15% examples, 633416 words/s, in_qsize 8, out_qsize 0\n",
      "2019-04-03 11:07:32,246 : INFO : EPOCH 5 - PROGRESS: at 60.12% examples, 633010 words/s, in_qsize 7, out_qsize 0\n",
      "2019-04-03 11:07:33,249 : INFO : EPOCH 5 - PROGRESS: at 65.06% examples, 632575 words/s, in_qsize 7, out_qsize 0\n",
      "2019-04-03 11:07:34,251 : INFO : EPOCH 5 - PROGRESS: at 69.94% examples, 631746 words/s, in_qsize 8, out_qsize 0\n",
      "2019-04-03 11:07:35,255 : INFO : EPOCH 5 - PROGRESS: at 74.96% examples, 632412 words/s, in_qsize 7, out_qsize 0\n",
      "2019-04-03 11:07:36,274 : INFO : EPOCH 5 - PROGRESS: at 79.97% examples, 631873 words/s, in_qsize 7, out_qsize 0\n",
      "2019-04-03 11:07:37,278 : INFO : EPOCH 5 - PROGRESS: at 84.94% examples, 631975 words/s, in_qsize 7, out_qsize 0\n",
      "2019-04-03 11:07:38,302 : INFO : EPOCH 5 - PROGRESS: at 89.21% examples, 626248 words/s, in_qsize 7, out_qsize 0\n",
      "2019-04-03 11:07:39,306 : INFO : EPOCH 5 - PROGRESS: at 93.17% examples, 619968 words/s, in_qsize 6, out_qsize 1\n",
      "2019-04-03 11:07:40,307 : INFO : EPOCH 5 - PROGRESS: at 97.35% examples, 615426 words/s, in_qsize 8, out_qsize 0\n",
      "2019-04-03 11:07:40,810 : INFO : worker thread finished; awaiting finish of 3 more threads\n",
      "2019-04-03 11:07:40,825 : INFO : worker thread finished; awaiting finish of 2 more threads\n",
      "2019-04-03 11:07:40,832 : INFO : worker thread finished; awaiting finish of 1 more threads\n",
      "2019-04-03 11:07:40,846 : INFO : worker thread finished; awaiting finish of 0 more threads\n",
      "2019-04-03 11:07:40,847 : INFO : EPOCH - 5 : training on 17798082 raw words (12749499 effective words) took 20.7s, 615948 effective words/s\n",
      "2019-04-03 11:07:40,848 : INFO : training on a 88990410 raw words (63747298 effective words) took 110.0s, 579385 effective words/s\n",
      "2019-04-03 11:07:40,849 : INFO : precomputing L2-norms of word weight vectors\n",
      "2019-04-03 11:07:40,876 : INFO : saving Word2Vec object under model/300features_40minwords_10context, separately None\n"
     ]
    },
    {
     "name": "stderr",
     "output_type": "stream",
     "text": [
      "2019-04-03 11:07:40,877 : INFO : not storing attribute vectors_norm\n",
      "2019-04-03 11:07:40,878 : INFO : not storing attribute cum_table\n"
     ]
    },
    {
     "ename": "FileNotFoundError",
     "evalue": "[Errno 2] No such file or directory: 'model/300features_40minwords_10context'",
     "output_type": "error",
     "traceback": [
      "\u001b[0;31m---------------------------------------------------------------------------\u001b[0m",
      "\u001b[0;31mTypeError\u001b[0m                                 Traceback (most recent call last)",
      "\u001b[0;32m~/anaconda3/lib/python3.6/site-packages/gensim/utils.py\u001b[0m in \u001b[0;36msave\u001b[0;34m(self, fname_or_handle, separately, sep_limit, ignore, pickle_protocol)\u001b[0m\n\u001b[1;32m    691\u001b[0m         \u001b[0;32mtry\u001b[0m\u001b[0;34m:\u001b[0m\u001b[0;34m\u001b[0m\u001b[0m\n\u001b[0;32m--> 692\u001b[0;31m             \u001b[0m_pickle\u001b[0m\u001b[0;34m.\u001b[0m\u001b[0mdump\u001b[0m\u001b[0;34m(\u001b[0m\u001b[0mself\u001b[0m\u001b[0;34m,\u001b[0m \u001b[0mfname_or_handle\u001b[0m\u001b[0;34m,\u001b[0m \u001b[0mprotocol\u001b[0m\u001b[0;34m=\u001b[0m\u001b[0mpickle_protocol\u001b[0m\u001b[0;34m)\u001b[0m\u001b[0;34m\u001b[0m\u001b[0m\n\u001b[0m\u001b[1;32m    693\u001b[0m             \u001b[0mlogger\u001b[0m\u001b[0;34m.\u001b[0m\u001b[0minfo\u001b[0m\u001b[0;34m(\u001b[0m\u001b[0;34m\"saved %s object\"\u001b[0m\u001b[0;34m,\u001b[0m \u001b[0mself\u001b[0m\u001b[0;34m.\u001b[0m\u001b[0m__class__\u001b[0m\u001b[0;34m.\u001b[0m\u001b[0m__name__\u001b[0m\u001b[0;34m)\u001b[0m\u001b[0;34m\u001b[0m\u001b[0m\n",
      "\u001b[0;31mTypeError\u001b[0m: file must have a 'write' attribute",
      "\nDuring handling of the above exception, another exception occurred:\n",
      "\u001b[0;31mFileNotFoundError\u001b[0m                         Traceback (most recent call last)",
      "\u001b[0;32m<ipython-input-18-cf743ee8cdaa>\u001b[0m in \u001b[0;36m<module>\u001b[0;34m()\u001b[0m\n\u001b[1;32m     25\u001b[0m \u001b[0;31m# save the model for later use. You can load it later using Word2Vec.load()\u001b[0m\u001b[0;34m\u001b[0m\u001b[0;34m\u001b[0m\u001b[0m\n\u001b[1;32m     26\u001b[0m \u001b[0mmodel_name\u001b[0m \u001b[0;34m=\u001b[0m \u001b[0;34m\"model/300features_40minwords_10context\"\u001b[0m\u001b[0;34m\u001b[0m\u001b[0m\n\u001b[0;32m---> 27\u001b[0;31m \u001b[0mmodel\u001b[0m\u001b[0;34m.\u001b[0m\u001b[0msave\u001b[0m\u001b[0;34m(\u001b[0m\u001b[0mmodel_name\u001b[0m\u001b[0;34m)\u001b[0m\u001b[0;34m\u001b[0m\u001b[0m\n\u001b[0m",
      "\u001b[0;32m~/anaconda3/lib/python3.6/site-packages/gensim/models/word2vec.py\u001b[0m in \u001b[0;36msave\u001b[0;34m(self, *args, **kwargs)\u001b[0m\n\u001b[1;32m   1266\u001b[0m         \u001b[0;31m# don't bother storing the cached normalized vectors, recalculable table\u001b[0m\u001b[0;34m\u001b[0m\u001b[0;34m\u001b[0m\u001b[0m\n\u001b[1;32m   1267\u001b[0m         \u001b[0mkwargs\u001b[0m\u001b[0;34m[\u001b[0m\u001b[0;34m'ignore'\u001b[0m\u001b[0;34m]\u001b[0m \u001b[0;34m=\u001b[0m \u001b[0mkwargs\u001b[0m\u001b[0;34m.\u001b[0m\u001b[0mget\u001b[0m\u001b[0;34m(\u001b[0m\u001b[0;34m'ignore'\u001b[0m\u001b[0;34m,\u001b[0m \u001b[0;34m[\u001b[0m\u001b[0;34m'vectors_norm'\u001b[0m\u001b[0;34m,\u001b[0m \u001b[0;34m'cum_table'\u001b[0m\u001b[0;34m]\u001b[0m\u001b[0;34m)\u001b[0m\u001b[0;34m\u001b[0m\u001b[0m\n\u001b[0;32m-> 1268\u001b[0;31m         \u001b[0msuper\u001b[0m\u001b[0;34m(\u001b[0m\u001b[0mWord2Vec\u001b[0m\u001b[0;34m,\u001b[0m \u001b[0mself\u001b[0m\u001b[0;34m)\u001b[0m\u001b[0;34m.\u001b[0m\u001b[0msave\u001b[0m\u001b[0;34m(\u001b[0m\u001b[0;34m*\u001b[0m\u001b[0margs\u001b[0m\u001b[0;34m,\u001b[0m \u001b[0;34m**\u001b[0m\u001b[0mkwargs\u001b[0m\u001b[0;34m)\u001b[0m\u001b[0;34m\u001b[0m\u001b[0m\n\u001b[0m\u001b[1;32m   1269\u001b[0m \u001b[0;34m\u001b[0m\u001b[0m\n\u001b[1;32m   1270\u001b[0m     \u001b[0;32mdef\u001b[0m \u001b[0mget_latest_training_loss\u001b[0m\u001b[0;34m(\u001b[0m\u001b[0mself\u001b[0m\u001b[0;34m)\u001b[0m\u001b[0;34m:\u001b[0m\u001b[0;34m\u001b[0m\u001b[0m\n",
      "\u001b[0;32m~/anaconda3/lib/python3.6/site-packages/gensim/models/base_any2vec.py\u001b[0m in \u001b[0;36msave\u001b[0;34m(self, fname_or_handle, **kwargs)\u001b[0m\n\u001b[1;32m    619\u001b[0m \u001b[0;34m\u001b[0m\u001b[0m\n\u001b[1;32m    620\u001b[0m         \"\"\"\n\u001b[0;32m--> 621\u001b[0;31m         \u001b[0msuper\u001b[0m\u001b[0;34m(\u001b[0m\u001b[0mBaseAny2VecModel\u001b[0m\u001b[0;34m,\u001b[0m \u001b[0mself\u001b[0m\u001b[0;34m)\u001b[0m\u001b[0;34m.\u001b[0m\u001b[0msave\u001b[0m\u001b[0;34m(\u001b[0m\u001b[0mfname_or_handle\u001b[0m\u001b[0;34m,\u001b[0m \u001b[0;34m**\u001b[0m\u001b[0mkwargs\u001b[0m\u001b[0;34m)\u001b[0m\u001b[0;34m\u001b[0m\u001b[0m\n\u001b[0m\u001b[1;32m    622\u001b[0m \u001b[0;34m\u001b[0m\u001b[0m\n\u001b[1;32m    623\u001b[0m \u001b[0;34m\u001b[0m\u001b[0m\n",
      "\u001b[0;32m~/anaconda3/lib/python3.6/site-packages/gensim/utils.py\u001b[0m in \u001b[0;36msave\u001b[0;34m(self, fname_or_handle, separately, sep_limit, ignore, pickle_protocol)\u001b[0m\n\u001b[1;32m    693\u001b[0m             \u001b[0mlogger\u001b[0m\u001b[0;34m.\u001b[0m\u001b[0minfo\u001b[0m\u001b[0;34m(\u001b[0m\u001b[0;34m\"saved %s object\"\u001b[0m\u001b[0;34m,\u001b[0m \u001b[0mself\u001b[0m\u001b[0;34m.\u001b[0m\u001b[0m__class__\u001b[0m\u001b[0;34m.\u001b[0m\u001b[0m__name__\u001b[0m\u001b[0;34m)\u001b[0m\u001b[0;34m\u001b[0m\u001b[0m\n\u001b[1;32m    694\u001b[0m         \u001b[0;32mexcept\u001b[0m \u001b[0mTypeError\u001b[0m\u001b[0;34m:\u001b[0m  \u001b[0;31m# `fname_or_handle` does not have write attribute\u001b[0m\u001b[0;34m\u001b[0m\u001b[0m\n\u001b[0;32m--> 695\u001b[0;31m             \u001b[0mself\u001b[0m\u001b[0;34m.\u001b[0m\u001b[0m_smart_save\u001b[0m\u001b[0;34m(\u001b[0m\u001b[0mfname_or_handle\u001b[0m\u001b[0;34m,\u001b[0m \u001b[0mseparately\u001b[0m\u001b[0;34m,\u001b[0m \u001b[0msep_limit\u001b[0m\u001b[0;34m,\u001b[0m \u001b[0mignore\u001b[0m\u001b[0;34m,\u001b[0m \u001b[0mpickle_protocol\u001b[0m\u001b[0;34m=\u001b[0m\u001b[0mpickle_protocol\u001b[0m\u001b[0;34m)\u001b[0m\u001b[0;34m\u001b[0m\u001b[0m\n\u001b[0m\u001b[1;32m    696\u001b[0m \u001b[0;34m\u001b[0m\u001b[0m\n\u001b[1;32m    697\u001b[0m \u001b[0;34m\u001b[0m\u001b[0m\n",
      "\u001b[0;32m~/anaconda3/lib/python3.6/site-packages/gensim/utils.py\u001b[0m in \u001b[0;36m_smart_save\u001b[0;34m(self, fname, separately, sep_limit, ignore, pickle_protocol)\u001b[0m\n\u001b[1;32m    547\u001b[0m                                        compress, subname)\n\u001b[1;32m    548\u001b[0m         \u001b[0;32mtry\u001b[0m\u001b[0;34m:\u001b[0m\u001b[0;34m\u001b[0m\u001b[0m\n\u001b[0;32m--> 549\u001b[0;31m             \u001b[0mpickle\u001b[0m\u001b[0;34m(\u001b[0m\u001b[0mself\u001b[0m\u001b[0;34m,\u001b[0m \u001b[0mfname\u001b[0m\u001b[0;34m,\u001b[0m \u001b[0mprotocol\u001b[0m\u001b[0;34m=\u001b[0m\u001b[0mpickle_protocol\u001b[0m\u001b[0;34m)\u001b[0m\u001b[0;34m\u001b[0m\u001b[0m\n\u001b[0m\u001b[1;32m    550\u001b[0m         \u001b[0;32mfinally\u001b[0m\u001b[0;34m:\u001b[0m\u001b[0;34m\u001b[0m\u001b[0m\n\u001b[1;32m    551\u001b[0m             \u001b[0;31m# restore attribs handled specially\u001b[0m\u001b[0;34m\u001b[0m\u001b[0;34m\u001b[0m\u001b[0m\n",
      "\u001b[0;32m~/anaconda3/lib/python3.6/site-packages/gensim/utils.py\u001b[0m in \u001b[0;36mpickle\u001b[0;34m(obj, fname, protocol)\u001b[0m\n\u001b[1;32m   1361\u001b[0m \u001b[0;34m\u001b[0m\u001b[0m\n\u001b[1;32m   1362\u001b[0m     \"\"\"\n\u001b[0;32m-> 1363\u001b[0;31m     \u001b[0;32mwith\u001b[0m \u001b[0msmart_open\u001b[0m\u001b[0;34m(\u001b[0m\u001b[0mfname\u001b[0m\u001b[0;34m,\u001b[0m \u001b[0;34m'wb'\u001b[0m\u001b[0;34m)\u001b[0m \u001b[0;32mas\u001b[0m \u001b[0mfout\u001b[0m\u001b[0;34m:\u001b[0m  \u001b[0;31m# 'b' for binary, needed on Windows\u001b[0m\u001b[0;34m\u001b[0m\u001b[0m\n\u001b[0m\u001b[1;32m   1364\u001b[0m         \u001b[0m_pickle\u001b[0m\u001b[0;34m.\u001b[0m\u001b[0mdump\u001b[0m\u001b[0;34m(\u001b[0m\u001b[0mobj\u001b[0m\u001b[0;34m,\u001b[0m \u001b[0mfout\u001b[0m\u001b[0;34m,\u001b[0m \u001b[0mprotocol\u001b[0m\u001b[0;34m=\u001b[0m\u001b[0mprotocol\u001b[0m\u001b[0;34m)\u001b[0m\u001b[0;34m\u001b[0m\u001b[0m\n\u001b[1;32m   1365\u001b[0m \u001b[0;34m\u001b[0m\u001b[0m\n",
      "\u001b[0;32m~/anaconda3/lib/python3.6/site-packages/smart_open/smart_open_lib.py\u001b[0m in \u001b[0;36msmart_open\u001b[0;34m(uri, mode, **kw)\u001b[0m\n\u001b[1;32m    179\u001b[0m         \u001b[0;32mraise\u001b[0m \u001b[0mTypeError\u001b[0m\u001b[0;34m(\u001b[0m\u001b[0;34m'mode should be a string'\u001b[0m\u001b[0;34m)\u001b[0m\u001b[0;34m\u001b[0m\u001b[0m\n\u001b[1;32m    180\u001b[0m \u001b[0;34m\u001b[0m\u001b[0m\n\u001b[0;32m--> 181\u001b[0;31m     \u001b[0mfobj\u001b[0m \u001b[0;34m=\u001b[0m \u001b[0m_shortcut_open\u001b[0m\u001b[0;34m(\u001b[0m\u001b[0muri\u001b[0m\u001b[0;34m,\u001b[0m \u001b[0mmode\u001b[0m\u001b[0;34m,\u001b[0m \u001b[0;34m**\u001b[0m\u001b[0mkw\u001b[0m\u001b[0;34m)\u001b[0m\u001b[0;34m\u001b[0m\u001b[0m\n\u001b[0m\u001b[1;32m    182\u001b[0m     \u001b[0;32mif\u001b[0m \u001b[0mfobj\u001b[0m \u001b[0;32mis\u001b[0m \u001b[0;32mnot\u001b[0m \u001b[0;32mNone\u001b[0m\u001b[0;34m:\u001b[0m\u001b[0;34m\u001b[0m\u001b[0m\n\u001b[1;32m    183\u001b[0m         \u001b[0;32mreturn\u001b[0m \u001b[0mfobj\u001b[0m\u001b[0;34m\u001b[0m\u001b[0m\n",
      "\u001b[0;32m~/anaconda3/lib/python3.6/site-packages/smart_open/smart_open_lib.py\u001b[0m in \u001b[0;36m_shortcut_open\u001b[0;34m(uri, mode, **kw)\u001b[0m\n\u001b[1;32m    299\u001b[0m     \u001b[0;31m#\u001b[0m\u001b[0;34m\u001b[0m\u001b[0;34m\u001b[0m\u001b[0m\n\u001b[1;32m    300\u001b[0m     \u001b[0;32mif\u001b[0m \u001b[0msix\u001b[0m\u001b[0;34m.\u001b[0m\u001b[0mPY3\u001b[0m\u001b[0;34m:\u001b[0m\u001b[0;34m\u001b[0m\u001b[0m\n\u001b[0;32m--> 301\u001b[0;31m         \u001b[0;32mreturn\u001b[0m \u001b[0mopen\u001b[0m\u001b[0;34m(\u001b[0m\u001b[0mparsed_uri\u001b[0m\u001b[0;34m.\u001b[0m\u001b[0muri_path\u001b[0m\u001b[0;34m,\u001b[0m \u001b[0mmode\u001b[0m\u001b[0;34m,\u001b[0m \u001b[0mbuffering\u001b[0m\u001b[0;34m=\u001b[0m\u001b[0mbuffering\u001b[0m\u001b[0;34m,\u001b[0m \u001b[0;34m**\u001b[0m\u001b[0mopen_kwargs\u001b[0m\u001b[0;34m)\u001b[0m\u001b[0;34m\u001b[0m\u001b[0m\n\u001b[0m\u001b[1;32m    302\u001b[0m     \u001b[0;32melif\u001b[0m \u001b[0;32mnot\u001b[0m \u001b[0mopen_kwargs\u001b[0m\u001b[0;34m:\u001b[0m\u001b[0;34m\u001b[0m\u001b[0m\n\u001b[1;32m    303\u001b[0m         \u001b[0;32mreturn\u001b[0m \u001b[0mopen\u001b[0m\u001b[0;34m(\u001b[0m\u001b[0mparsed_uri\u001b[0m\u001b[0;34m.\u001b[0m\u001b[0muri_path\u001b[0m\u001b[0;34m,\u001b[0m \u001b[0mmode\u001b[0m\u001b[0;34m,\u001b[0m \u001b[0mbuffering\u001b[0m\u001b[0;34m=\u001b[0m\u001b[0mbuffering\u001b[0m\u001b[0;34m)\u001b[0m\u001b[0;34m\u001b[0m\u001b[0m\n",
      "\u001b[0;31mFileNotFoundError\u001b[0m: [Errno 2] No such file or directory: 'model/300features_40minwords_10context'"
     ]
    }
   ],
   "source": [
    "# Import the built-in logging module and configure it \n",
    "# so that Word2Vec creates nice output messages\n",
    "import logging\n",
    "logging.basicConfig(format='%(asctime)s : %(levelname)s : %(message)s', level=logging.INFO)\n",
    "\n",
    "# Set values for various parameters\n",
    "num_features = 300    # Word vector dimensionality                      \n",
    "min_word_count = 40   # Minimum word count                        \n",
    "num_workers = 4       # Number of threads to run in parallel\n",
    "context = 10          # Context window size                                                                                    \n",
    "downsampling = 1e-3   # Downsample setting for frequent words\n",
    "\n",
    "# Initialize and train the model (this will take some time)\n",
    "from gensim.models import word2vec\n",
    "print(\"Training model...\")\n",
    "model = word2vec.Word2Vec(sentences, workers=num_workers, \n",
    "            size=num_features, min_count = min_word_count, \n",
    "            window = context, sample = downsampling)\n",
    "\n",
    "# If you don't plan to train the model any further, calling \n",
    "# init_sims will make the model much more memory-efficient.\n",
    "model.init_sims(replace=True)\n",
    "\n",
    "# It can be helpful to create a meaningful model name and \n",
    "# save the model for later use. You can load it later using Word2Vec.load()\n",
    "model_name = \"model/300features_40minwords_10context\"\n",
    "model.save(model_name)"
   ]
  },
  {
   "cell_type": "markdown",
   "metadata": {},
   "source": [
    "### 探索模型结果\n",
    "训练结束后，查看一下75000个评论的训练结果吧。doesnt_match函数会推断在一个集合里，哪一个单词与其他单词最不相似："
   ]
  },
  {
   "cell_type": "code",
   "execution_count": 19,
   "metadata": {},
   "outputs": [
    {
     "name": "stderr",
     "output_type": "stream",
     "text": [
      "/Users/james/anaconda3/lib/python3.6/site-packages/ipykernel_launcher.py:1: DeprecationWarning: Call to deprecated `doesnt_match` (Method will be removed in 4.0.0, use self.wv.doesnt_match() instead).\n",
      "  \"\"\"Entry point for launching an IPython kernel.\n",
      "/Users/james/anaconda3/lib/python3.6/site-packages/gensim/models/keyedvectors.py:858: FutureWarning: arrays to stack must be passed as a \"sequence\" type such as list or tuple. Support for non-sequence iterables such as generators is deprecated as of NumPy 1.16 and will raise an error in the future.\n",
      "  vectors = vstack(self.word_vec(word, use_norm=True) for word in used_words).astype(REAL)\n"
     ]
    },
    {
     "data": {
      "text/plain": [
       "'kitchen'"
      ]
     },
     "execution_count": 19,
     "metadata": {},
     "output_type": "execute_result"
    }
   ],
   "source": [
    "model.doesnt_match('man woman child kitchen'.split())"
   ]
  },
  {
   "cell_type": "code",
   "execution_count": 20,
   "metadata": {},
   "outputs": [
    {
     "name": "stderr",
     "output_type": "stream",
     "text": [
      "/Users/james/anaconda3/lib/python3.6/site-packages/ipykernel_launcher.py:1: DeprecationWarning: Call to deprecated `doesnt_match` (Method will be removed in 4.0.0, use self.wv.doesnt_match() instead).\n",
      "  \"\"\"Entry point for launching an IPython kernel.\n",
      "/Users/james/anaconda3/lib/python3.6/site-packages/gensim/models/keyedvectors.py:858: FutureWarning: arrays to stack must be passed as a \"sequence\" type such as list or tuple. Support for non-sequence iterables such as generators is deprecated as of NumPy 1.16 and will raise an error in the future.\n",
      "  vectors = vstack(self.word_vec(word, use_norm=True) for word in used_words).astype(REAL)\n"
     ]
    },
    {
     "data": {
      "text/plain": [
       "'berlin'"
      ]
     },
     "execution_count": 20,
     "metadata": {},
     "output_type": "execute_result"
    }
   ],
   "source": [
    "model.doesnt_match('france england germany berlin'.split())"
   ]
  },
  {
   "cell_type": "code",
   "execution_count": 21,
   "metadata": {},
   "outputs": [
    {
     "name": "stderr",
     "output_type": "stream",
     "text": [
      "/Users/james/anaconda3/lib/python3.6/site-packages/ipykernel_launcher.py:1: DeprecationWarning: Call to deprecated `doesnt_match` (Method will be removed in 4.0.0, use self.wv.doesnt_match() instead).\n",
      "  \"\"\"Entry point for launching an IPython kernel.\n",
      "/Users/james/anaconda3/lib/python3.6/site-packages/gensim/models/keyedvectors.py:858: FutureWarning: arrays to stack must be passed as a \"sequence\" type such as list or tuple. Support for non-sequence iterables such as generators is deprecated as of NumPy 1.16 and will raise an error in the future.\n",
      "  vectors = vstack(self.word_vec(word, use_norm=True) for word in used_words).astype(REAL)\n"
     ]
    },
    {
     "data": {
      "text/plain": [
       "'paris'"
      ]
     },
     "execution_count": 21,
     "metadata": {},
     "output_type": "execute_result"
    }
   ],
   "source": [
    "model.doesnt_match('paris berlin london austria'.split())"
   ]
  },
  {
   "cell_type": "code",
   "execution_count": 22,
   "metadata": {},
   "outputs": [
    {
     "name": "stderr",
     "output_type": "stream",
     "text": [
      "/Users/james/anaconda3/lib/python3.6/site-packages/ipykernel_launcher.py:1: DeprecationWarning: Call to deprecated `most_similar` (Method will be removed in 4.0.0, use self.wv.most_similar() instead).\n",
      "  \"\"\"Entry point for launching an IPython kernel.\n"
     ]
    },
    {
     "data": {
      "text/plain": [
       "[('woman', 0.6312069892883301),\n",
       " ('lady', 0.6071215271949768),\n",
       " ('lad', 0.6062389016151428),\n",
       " ('guy', 0.5259661674499512),\n",
       " ('soldier', 0.5251173377037048),\n",
       " ('monk', 0.5240025520324707),\n",
       " ('men', 0.5216838121414185),\n",
       " ('businessman', 0.516812801361084),\n",
       " ('person', 0.5152419805526733),\n",
       " ('chap', 0.5070861577987671)]"
      ]
     },
     "execution_count": 22,
     "metadata": {},
     "output_type": "execute_result"
    }
   ],
   "source": [
    "model.most_similar('man')"
   ]
  },
  {
   "cell_type": "code",
   "execution_count": 23,
   "metadata": {},
   "outputs": [
    {
     "name": "stderr",
     "output_type": "stream",
     "text": [
      "/Users/james/anaconda3/lib/python3.6/site-packages/ipykernel_launcher.py:1: DeprecationWarning: Call to deprecated `most_similar` (Method will be removed in 4.0.0, use self.wv.most_similar() instead).\n",
      "  \"\"\"Entry point for launching an IPython kernel.\n"
     ]
    },
    {
     "data": {
      "text/plain": [
       "[('princess', 0.6636403799057007),\n",
       " ('bride', 0.6179916858673096),\n",
       " ('dame', 0.6162452101707458),\n",
       " ('victoria', 0.6026084423065186),\n",
       " ('duchess', 0.5881589651107788),\n",
       " ('showgirl', 0.5862511396408081),\n",
       " ('stepmother', 0.5838395357131958),\n",
       " ('goddess', 0.5795204639434814),\n",
       " ('latifah', 0.5751671195030212),\n",
       " ('belle', 0.5746701955795288)]"
      ]
     },
     "execution_count": 23,
     "metadata": {},
     "output_type": "execute_result"
    }
   ],
   "source": [
    "model.most_similar('queen')"
   ]
  },
  {
   "cell_type": "code",
   "execution_count": null,
   "metadata": {},
   "outputs": [],
   "source": []
  }
 ],
 "metadata": {
  "kernelspec": {
   "display_name": "Python 3",
   "language": "python",
   "name": "python3"
  },
  "language_info": {
   "codemirror_mode": {
    "name": "ipython",
    "version": 3
   },
   "file_extension": ".py",
   "mimetype": "text/x-python",
   "name": "python",
   "nbconvert_exporter": "python",
   "pygments_lexer": "ipython3",
   "version": "3.6.4"
  }
 },
 "nbformat": 4,
 "nbformat_minor": 2
}
