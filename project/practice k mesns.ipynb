{
 "cells": [
  {
   "cell_type": "markdown",
   "metadata": {},
   "source": [
    "K-means聚类是一个聚类算法用来将\n",
    "n 个点分成 k 个集群。\n",
    "\n",
    "\n",
    "算法有3步：\n",
    "\n",
    "1.初始化– K 个初始质心会被随机生成\n",
    "\n",
    "2.分配 – K 集群通过点关联到最近的初始质心生成\n",
    "\n",
    "3.更新 –重新计算k个集群对应的质心"
   ]
  },
  {
   "cell_type": "code",
   "execution_count": 1,
   "metadata": {},
   "outputs": [
    {
     "name": "stderr",
     "output_type": "stream",
     "text": [
      "/Users/james/anaconda3/lib/python3.6/importlib/_bootstrap.py:219: RuntimeWarning: numpy.dtype size changed, may indicate binary incompatibility. Expected 96, got 88\n",
      "  return f(*args, **kwds)\n"
     ]
    },
    {
     "name": "stdout",
     "output_type": "stream",
     "text": [
      "Using matplotlib backend: MacOSX\n"
     ]
    }
   ],
   "source": [
    "import pandas as pd\n",
    "import numpy as np\n",
    "import matplotlib.pyplot as plt\n",
    "%matplotlib  "
   ]
  },
  {
   "cell_type": "code",
   "execution_count": 2,
   "metadata": {},
   "outputs": [],
   "source": [
    "#load data\n",
    "df = pd.DataFrame({\n",
    "    'x':[12,20,28,18,29,33,24,45,45,52,55,53,55,61],\n",
    "    'y':[39,36,30,52,54,46,55,59,63,70,66,63,58,23]\n",
    "})\n",
    "np.random.seed(200)\n",
    "colmap = {1:'r',2:'g',3:'b',4:'c',}\n"
   ]
  },
  {
   "cell_type": "code",
   "execution_count": 13,
   "metadata": {},
   "outputs": [],
   "source": [
    "k = 2\n",
    "\n",
    "centroids = {\n",
    "        i+1:[np.random.randint(0,80),np.random.randint(0,80)]\n",
    "        for i in range(k)\n",
    "    }"
   ]
  },
  {
   "cell_type": "code",
   "execution_count": 14,
   "metadata": {},
   "outputs": [
    {
     "data": {
      "image/png": "[encoded data removed]",
      "text/plain": [
       "<matplotlib.figure.Figure at 0x126d1dd30>"
      ]
     },
     "metadata": {},
     "output_type": "display_data"
    }
   ],
   "source": [
    "fig = plt.figure(figsize=(5,5))\n",
    "plt.scatter(df['x'],df['y'],color = 'k')\n",
    "colmap = {1:'r',2:'g',3:'b',4:'c'}\n",
    "for i in centroids.keys():\n",
    "    plt.scatter(centroids[i][0],centroids[i][1],color = colmap[i])\n",
    "plt.xlim(0,80)\n",
    "plt.ylim(0,80)\n",
    "plt.show()"
   ]
  },
  {
   "cell_type": "code",
   "execution_count": 15,
   "metadata": {},
   "outputs": [],
   "source": [
    "def assignment(df,centroids):\n",
    "    for i in centroids.keys():\n",
    "        df['{}'.format(i)]=(np.sqrt(\n",
    "                (df['x']-centroids[i][0])**2 + \n",
    "                (df['y']-centroids[i][1])**2))\n",
    "    \n",
    "    \n",
    "    \n",
    "    centroids_distance_cols = ['{}'.format(i)for i in centroids.keys()]\n",
    "    df['closest']= df.loc[:,centroids_distance_cols].idxmin(axis=1)\n",
    "    df['closest']= df['closest'].map(lambda x:(x.lstrip('')))\n",
    "    df['color']= df['closest'].map(lambda x:colmap[int(x)])\n",
    "    \n",
    "    return df\n"
   ]
  },
  {
   "cell_type": "code",
   "execution_count": 16,
   "metadata": {},
   "outputs": [
    {
     "data": {
      "text/plain": [
       "'r'"
      ]
     },
     "execution_count": 16,
     "metadata": {},
     "output_type": "execute_result"
    }
   ],
   "source": [
    "colmap[1]"
   ]
  },
  {
   "cell_type": "code",
   "execution_count": 17,
   "metadata": {
    "scrolled": true
   },
   "outputs": [
    {
     "name": "stdout",
     "output_type": "stream",
     "text": [
      "    x   y          1          2          3          4 closest color\n",
      "0  12  39  53.000000   6.708204  56.727418  71.512237       2     g\n",
      "1  20  36  44.654227  15.231546  53.150729  62.968246       2     g\n",
      "2  28  30  34.669872  25.059928  53.338541  53.450912       2     g\n",
      "3  18  52  56.586217  15.620499  44.102154  71.867934       2     g\n",
      "4  29  54  51.312766  25.942244  34.058773  64.031242       2     g\n"
     ]
    }
   ],
   "source": [
    "df = assignment(df,centroids)\n",
    "print(df.head())"
   ]
  },
  {
   "cell_type": "code",
   "execution_count": 18,
   "metadata": {},
   "outputs": [
    {
     "data": {
      "image/png": "[encoded data removed]",
      "text/plain": [
       "<matplotlib.figure.Figure at 0x126d6b710>"
      ]
     },
     "metadata": {},
     "output_type": "display_data"
    }
   ],
   "source": [
    "fig = plt.figure(figsize=(5,5))\n",
    "plt.scatter(df['x'],df['y'],color = df['color'],alpha=0.5,edgecolors='k')\n",
    "for i in centroids.keys():\n",
    "    plt.scatter(centroids[i][0],centroids[i][1],color= colmap[i])\n",
    "plt.xlim(0,80)\n",
    "plt.ylim(0,80)\n",
    "plt.show()"
   ]
  },
  {
   "cell_type": "code",
   "execution_count": 19,
   "metadata": {},
   "outputs": [],
   "source": [
    "import copy\n",
    "old_centroids = copy.deepcopy(centroids)"
   ]
  },
  {
   "cell_type": "code",
   "execution_count": 20,
   "metadata": {},
   "outputs": [],
   "source": [
    "#update stage\n",
    "\n",
    "\n",
    "def update(k):\n",
    "    for i in centroids.keys():\n",
    "        k[i][0] = np.mean(df[df['closest']==str(i)]['x'])\n",
    "        k[i][1] = np.mean(df[df['closest']==str(i)]['y'])\n",
    "    return k\n",
    "\n"
   ]
  },
  {
   "cell_type": "code",
   "execution_count": 21,
   "metadata": {},
   "outputs": [],
   "source": [
    "centroids = update(centroids)"
   ]
  },
  {
   "cell_type": "code",
   "execution_count": 22,
   "metadata": {},
   "outputs": [
    {
     "data": {
      "text/plain": [
       "{1: [58.0, 40.5], 2: [34.5, 52.75]}"
      ]
     },
     "execution_count": 22,
     "metadata": {},
     "output_type": "execute_result"
    }
   ],
   "source": [
    "centroids"
   ]
  },
  {
   "cell_type": "code",
   "execution_count": 23,
   "metadata": {},
   "outputs": [
    {
     "data": {
      "image/png": "[encoded data removed]",
      "text/plain": [
       "<matplotlib.figure.Figure at 0x126e40630>"
      ]
     },
     "metadata": {},
     "output_type": "display_data"
    }
   ],
   "source": [
    "fig = plt.figure(figsize=(5,5))\n",
    "plt.scatter(df['x'],df['y'],color = df['color'],alpha=0.5,edgecolors='k')\n",
    "for i in centroids.keys():\n",
    "    plt.scatter(centroids[i][0],centroids[i][1],color= colmap[i])\n",
    "plt.xlim(0,80)\n",
    "plt.ylim(0,80)\n",
    "for i in old_centroids.keys():\n",
    "    old_x = old_centroids[i][0]\n",
    "    old_y = old_centroids[i][1]\n",
    "    dx =(centroids[i][0]- old_centroids[i][0])*0.75\n",
    "    dy = (centroids[i][1]-old_centroids[i][1])*0.75\n",
    "    plt.arrow(old_x,old_y,dx,dy,head_width =2, head_length =3, fc = colmap[i])\n",
    "plt.show()"
   ]
  },
  {
   "cell_type": "code",
   "execution_count": 24,
   "metadata": {},
   "outputs": [
    {
     "data": {
      "image/png": "[encoded data removed]",
      "text/plain": [
       "<matplotlib.figure.Figure at 0x126fa8a58>"
      ]
     },
     "metadata": {},
     "output_type": "display_data"
    }
   ],
   "source": [
    "# repeat assignment stage\n",
    "\n",
    "df = assignment(df,centroids)\n",
    "\n",
    "fig = plt.figure(figsize=(5,5))\n",
    "plt.scatter(df['x'],df['y'],color = df['color'],alpha=0.5,edgecolors='k')\n",
    "for i in centroids.keys():\n",
    "    plt.scatter(centroids[i][0],centroids[i][1],color= colmap[i])\n",
    "plt.xlim(0,80)\n",
    "plt.ylim(0,80)\n",
    "plt.show()"
   ]
  },
  {
   "cell_type": "code",
   "execution_count": 25,
   "metadata": {},
   "outputs": [
    {
     "data": {
      "image/png": "[encoded data removed]",
      "text/plain": [
       "<matplotlib.figure.Figure at 0x126ffc0b8>"
      ]
     },
     "metadata": {},
     "output_type": "display_data"
    }
   ],
   "source": [
    "while True:\n",
    "    closest_centriods = df['closest'].copy(deep=True)\n",
    "    centroids = update(centroids)\n",
    "    df= assignment(df,centroids)\n",
    "    if closest_centriods.equals(df['closest']):\n",
    "        break\n",
    "fig = plt.figure(figsize=(5,5))\n",
    "plt.scatter(df['x'],df['y'],color = df['color'],alpha=0.5,edgecolors='k')\n",
    "for i in centroids.keys():\n",
    "    plt.scatter(centroids[i][0],centroids[i][1],color= colmap[i])\n",
    "plt.xlim(0,80)\n",
    "plt.ylim(0,80)\n",
    "plt.show()"
   ]
  },
  {
   "cell_type": "code",
   "execution_count": 26,
   "metadata": {
    "scrolled": true
   },
   "outputs": [
    {
     "data": {
      "text/plain": [
       "{1: [58.0, 40.5], 2: [34.5, 52.75]}"
      ]
     },
     "execution_count": 26,
     "metadata": {},
     "output_type": "execute_result"
    }
   ],
   "source": [
    "centroids"
   ]
  },
  {
   "cell_type": "code",
   "execution_count": 27,
   "metadata": {
    "scrolled": true
   },
   "outputs": [
    {
     "data": {
      "text/html": [
       "<div>\n",
       "<style scoped>\n",
       "    .dataframe tbody tr th:only-of-type {\n",
       "        vertical-align: middle;\n",
       "    }\n",
       "\n",
       "    .dataframe tbody tr th {\n",
       "        vertical-align: top;\n",
       "    }\n",
       "\n",
       "    .dataframe thead th {\n",
       "        text-align: right;\n",
       "    }\n",
       "</style>\n",
       "<table border=\"1\" class=\"dataframe\">\n",
       "  <thead>\n",
       "    <tr style=\"text-align: right;\">\n",
       "      <th></th>\n",
       "      <th>x</th>\n",
       "      <th>y</th>\n",
       "      <th>1</th>\n",
       "      <th>2</th>\n",
       "      <th>3</th>\n",
       "      <th>4</th>\n",
       "      <th>closest</th>\n",
       "      <th>color</th>\n",
       "    </tr>\n",
       "  </thead>\n",
       "  <tbody>\n",
       "    <tr>\n",
       "      <th>0</th>\n",
       "      <td>12</td>\n",
       "      <td>39</td>\n",
       "      <td>46.024450</td>\n",
       "      <td>26.368779</td>\n",
       "      <td>56.727418</td>\n",
       "      <td>71.512237</td>\n",
       "      <td>2</td>\n",
       "      <td>g</td>\n",
       "    </tr>\n",
       "    <tr>\n",
       "      <th>1</th>\n",
       "      <td>20</td>\n",
       "      <td>36</td>\n",
       "      <td>38.265520</td>\n",
       "      <td>22.154289</td>\n",
       "      <td>53.150729</td>\n",
       "      <td>62.968246</td>\n",
       "      <td>2</td>\n",
       "      <td>g</td>\n",
       "    </tr>\n",
       "    <tr>\n",
       "      <th>2</th>\n",
       "      <td>28</td>\n",
       "      <td>30</td>\n",
       "      <td>31.784430</td>\n",
       "      <td>23.660357</td>\n",
       "      <td>53.338541</td>\n",
       "      <td>53.450912</td>\n",
       "      <td>2</td>\n",
       "      <td>g</td>\n",
       "    </tr>\n",
       "    <tr>\n",
       "      <th>3</th>\n",
       "      <td>18</td>\n",
       "      <td>52</td>\n",
       "      <td>41.620308</td>\n",
       "      <td>16.517037</td>\n",
       "      <td>44.102154</td>\n",
       "      <td>71.867934</td>\n",
       "      <td>2</td>\n",
       "      <td>g</td>\n",
       "    </tr>\n",
       "    <tr>\n",
       "      <th>4</th>\n",
       "      <td>29</td>\n",
       "      <td>54</td>\n",
       "      <td>31.988279</td>\n",
       "      <td>5.640257</td>\n",
       "      <td>34.058773</td>\n",
       "      <td>64.031242</td>\n",
       "      <td>2</td>\n",
       "      <td>g</td>\n",
       "    </tr>\n",
       "    <tr>\n",
       "      <th>5</th>\n",
       "      <td>33</td>\n",
       "      <td>46</td>\n",
       "      <td>25.597851</td>\n",
       "      <td>6.914658</td>\n",
       "      <td>37.202150</td>\n",
       "      <td>56.035703</td>\n",
       "      <td>2</td>\n",
       "      <td>g</td>\n",
       "    </tr>\n",
       "    <tr>\n",
       "      <th>6</th>\n",
       "      <td>24</td>\n",
       "      <td>55</td>\n",
       "      <td>36.962819</td>\n",
       "      <td>10.738366</td>\n",
       "      <td>37.443290</td>\n",
       "      <td>68.600292</td>\n",
       "      <td>2</td>\n",
       "      <td>g</td>\n",
       "    </tr>\n",
       "    <tr>\n",
       "      <th>7</th>\n",
       "      <td>45</td>\n",
       "      <td>59</td>\n",
       "      <td>22.610838</td>\n",
       "      <td>12.219349</td>\n",
       "      <td>19.723083</td>\n",
       "      <td>56.400355</td>\n",
       "      <td>2</td>\n",
       "      <td>g</td>\n",
       "    </tr>\n",
       "    <tr>\n",
       "      <th>8</th>\n",
       "      <td>45</td>\n",
       "      <td>63</td>\n",
       "      <td>25.985573</td>\n",
       "      <td>14.673531</td>\n",
       "      <td>16.401219</td>\n",
       "      <td>59.640590</td>\n",
       "      <td>2</td>\n",
       "      <td>g</td>\n",
       "    </tr>\n",
       "    <tr>\n",
       "      <th>9</th>\n",
       "      <td>52</td>\n",
       "      <td>70</td>\n",
       "      <td>30.103986</td>\n",
       "      <td>24.572597</td>\n",
       "      <td>6.708204</td>\n",
       "      <td>62.169124</td>\n",
       "      <td>2</td>\n",
       "      <td>g</td>\n",
       "    </tr>\n",
       "    <tr>\n",
       "      <th>10</th>\n",
       "      <td>55</td>\n",
       "      <td>66</td>\n",
       "      <td>25.675864</td>\n",
       "      <td>24.409271</td>\n",
       "      <td>10.000000</td>\n",
       "      <td>57.271284</td>\n",
       "      <td>2</td>\n",
       "      <td>g</td>\n",
       "    </tr>\n",
       "    <tr>\n",
       "      <th>11</th>\n",
       "      <td>53</td>\n",
       "      <td>63</td>\n",
       "      <td>23.048861</td>\n",
       "      <td>21.149764</td>\n",
       "      <td>13.152946</td>\n",
       "      <td>55.470713</td>\n",
       "      <td>2</td>\n",
       "      <td>g</td>\n",
       "    </tr>\n",
       "    <tr>\n",
       "      <th>12</th>\n",
       "      <td>55</td>\n",
       "      <td>58</td>\n",
       "      <td>17.755281</td>\n",
       "      <td>21.161581</td>\n",
       "      <td>18.000000</td>\n",
       "      <td>50.119856</td>\n",
       "      <td>1</td>\n",
       "      <td>r</td>\n",
       "    </tr>\n",
       "    <tr>\n",
       "      <th>13</th>\n",
       "      <td>61</td>\n",
       "      <td>23</td>\n",
       "      <td>17.755281</td>\n",
       "      <td>39.841091</td>\n",
       "      <td>53.338541</td>\n",
       "      <td>20.124612</td>\n",
       "      <td>1</td>\n",
       "      <td>r</td>\n",
       "    </tr>\n",
       "  </tbody>\n",
       "</table>\n",
       "</div>"
      ],
      "text/plain": [
       "     x   y          1          2          3          4 closest color\n",
       "0   12  39  46.024450  26.368779  56.727418  71.512237       2     g\n",
       "1   20  36  38.265520  22.154289  53.150729  62.968246       2     g\n",
       "2   28  30  31.784430  23.660357  53.338541  53.450912       2     g\n",
       "3   18  52  41.620308  16.517037  44.102154  71.867934       2     g\n",
       "4   29  54  31.988279   5.640257  34.058773  64.031242       2     g\n",
       "5   33  46  25.597851   6.914658  37.202150  56.035703       2     g\n",
       "6   24  55  36.962819  10.738366  37.443290  68.600292       2     g\n",
       "7   45  59  22.610838  12.219349  19.723083  56.400355       2     g\n",
       "8   45  63  25.985573  14.673531  16.401219  59.640590       2     g\n",
       "9   52  70  30.103986  24.572597   6.708204  62.169124       2     g\n",
       "10  55  66  25.675864  24.409271  10.000000  57.271284       2     g\n",
       "11  53  63  23.048861  21.149764  13.152946  55.470713       2     g\n",
       "12  55  58  17.755281  21.161581  18.000000  50.119856       1     r\n",
       "13  61  23  17.755281  39.841091  53.338541  20.124612       1     r"
      ]
     },
     "execution_count": 27,
     "metadata": {},
     "output_type": "execute_result"
    }
   ],
   "source": [
    "df"
   ]
  },
  {
   "cell_type": "code",
   "execution_count": 28,
   "metadata": {
    "scrolled": true
   },
   "outputs": [
    {
     "name": "stdout",
     "output_type": "stream",
     "text": [
      "35.510561809129406\n",
      "209.01825333504706\n",
      "0.0\n"
     ]
    }
   ],
   "source": [
    "for i in range(1,4):\n",
    "    print((df[df['closest']==str(i)][str(i)]).sum())\n"
   ]
  },
  {
   "cell_type": "code",
   "execution_count": 29,
   "metadata": {},
   "outputs": [],
   "source": [
    "def centroidsdistance(k,centroids):\n",
    "    cost = 0\n",
    "    if k == 1:\n",
    "        print(\"cost\")\n",
    "        return cost\n",
    "    if k == 2:\n",
    "        cost = (np.sqrt((centroids[1][0]-centroids[2][0])**2 + (centroids[1][1]-centroids[2][1])**2))\n",
    "    if k >= 3:\n",
    "        \n",
    "        for i in range(1,k):\n",
    "            for j in range(i+1,k):\n",
    "                cost = cost + (np.sqrt((centroids[i][0]-centroids[j][0])**2 + (centroids[i][1]-centroids[j][1])**2))\n",
    "    return cost"
   ]
  },
  {
   "cell_type": "code",
   "execution_count": 30,
   "metadata": {},
   "outputs": [
    {
     "data": {
      "text/plain": [
       "26.501179219046083"
      ]
     },
     "execution_count": 30,
     "metadata": {},
     "output_type": "execute_result"
    }
   ],
   "source": [
    "centroidsdistance(2,centroids)"
   ]
  },
  {
   "cell_type": "code",
   "execution_count": null,
   "metadata": {},
   "outputs": [],
   "source": []
  }
 ],
 "metadata": {
  "kernelspec": {
   "display_name": "Python 3",
   "language": "python",
   "name": "python3"
  },
  "language_info": {
   "codemirror_mode": {
    "name": "ipython",
    "version": 3
   },
   "file_extension": ".py",
   "mimetype": "text/x-python",
   "name": "python",
   "nbconvert_exporter": "python",
   "pygments_lexer": "ipython3",
   "version": "3.6.4"
  }
 },
 "nbformat": 4,
 "nbformat_minor": 2
}
