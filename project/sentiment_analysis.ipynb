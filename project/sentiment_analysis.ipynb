{
 "cells": [
  {
   "cell_type": "markdown",
   "metadata": {},
   "source": [
    "<br>\n",
    "<font size=8>Sentiment Analysis</font>\n",
    "<br><br>\n",
    "本篇文章主要用神经网络中三种最基本的神经网络dnn、rnn以及cnn构建情感分类模型，并比较和分析不同模型的优劣。具体而言本文分为四个部分:\n",
    "\n",
    "- 数据处理\n",
    "- DNN模型\n",
    "- RNN模型\n",
    "- CNN模型"
   ]
  },
  {
   "cell_type": "code",
   "execution_count": 2,
   "metadata": {},
   "outputs": [],
   "source": [
    "import warnings\n",
    "warnings.filterwarnings(\"ignore\")\n",
    "\n",
    "import numpy as np\n",
    "import pandas as pd\n",
    "import matplotlib.pyplot as plt\n",
    "import os\n",
    "import tensorflow as tf\n",
    "from collections import Counter\n",
    "import tqdm\n",
    "\n",
    "%matplotlib inline"
   ]
  },
  {
   "cell_type": "code",
   "execution_count": 3,
   "metadata": {},
   "outputs": [
    {
     "data": {
      "text/plain": [
       "'1.9.0'"
      ]
     },
     "execution_count": 3,
     "metadata": {},
     "output_type": "execute_result"
    }
   ],
   "source": [
    "tf.__version__"
   ]
  },
  {
   "cell_type": "markdown",
   "metadata": {},
   "source": [
    "# 数据处理"
   ]
  },
  {
   "cell_type": "markdown",
   "metadata": {},
   "source": [
    "## 数据加载"
   ]
  },
  {
   "cell_type": "code",
   "execution_count": 4,
   "metadata": {},
   "outputs": [
    {
     "data": {
      "text/plain": [
       "['neg.txt', 'pos.txt']"
      ]
     },
     "execution_count": 4,
     "metadata": {},
     "output_type": "execute_result"
    }
   ],
   "source": [
    "os.listdir(\"./data\")"
   ]
  },
  {
   "cell_type": "code",
   "execution_count": 5,
   "metadata": {},
   "outputs": [],
   "source": [
    "# 加载正负评论数据\n",
    "# pos数据\n",
    "with open(\"data/pos.txt\", \"r\") as f:\n",
    "    pos_text = f.read()\n",
    "\n",
    "# neg数据\n",
    "with open(\"data/neg.txt\", \"r\") as f:\n",
    "    neg_text = f.read()"
   ]
  },
  {
   "cell_type": "code",
   "execution_count": 69,
   "metadata": {},
   "outputs": [
    {
     "data": {
      "text/plain": [
       "str"
      ]
     },
     "execution_count": 69,
     "metadata": {},
     "output_type": "execute_result"
    }
   ],
   "source": [
    "type(pos_text)"
   ]
  },
  {
   "cell_type": "markdown",
   "metadata": {},
   "source": [
    "## 描述性统计"
   ]
  },
  {
   "cell_type": "code",
   "execution_count": 6,
   "metadata": {},
   "outputs": [
    {
     "name": "stdout",
     "output_type": "stream",
     "text": [
      "-------------------- POSITIVE TEXT --------------------\n",
      "Total positive sentences: 5331\n",
      "The average length of positive sentences: 21.0921027949728\n",
      "The max length of positive sentences: 59\n",
      "The min length of positive sentences: 2\n",
      "Most common words in positive sentences: \n",
      "[('.', 6972), (',', 5268), ('the', 5051), ('a', 3830), ('and', 3548), ('of', 3311), ('to', 1969), ('is', 1707), ('in', 1338), ('that', 1262), ('it', 1100), ('with', 883), ('as', 879), ('film', 822), ('but', 782), ('an', 754), ('its', 699), ('for', 673), ('this', 666), (\"it's\", 564), ('movie', 510), ('you', 494), ('on', 424), ('be', 419), ('by', 380), ('has', 379), ('not', 367), ('one', 366), ('at', 366), ('about', 363), ('from', 349), ('are', 348), ('his', 344), ('\"', 330), ('--', 319), ('more', 311), ('all', 289), ('than', 282), ('like', 281), ('if', 264), ('have', 259), ('story', 256), ('who', 247), ('most', 240), ('what', 225), ('into', 213), ('so', 209), ('will', 199), ('good', 198), ('comedy', 192), ('or', 189), ('i', 181), ('funny', 181), ('even', 180), ('out', 178), ('their', 175), ('best', 166), ('can', 166), ('some', 164), ('way', 164), ('time', 158), ('us', 156), ('much', 154), ('up', 154), ('make', 151), ('love', 149), ('just', 148), ('makes', 144), ('life', 144), ('characters', 144), ('may', 141), ('work', 139), ('performances', 138), ('your', 135), ('very', 135), ('little', 129), ('enough', 127), ('while', 123), ('her', 123), ('no', 120), ('still', 120), ('director', 119), ('look', 119), ('there', 118), ('well', 117), ('both', 114), ('fun', 113), ('movies', 111), ('drama', 111), ('new', 110), ('never', 110), ('those', 109), ('films', 109), ('we', 108), ('when', 107), ('great', 105), ('(', 104), (')', 104), ('which', 104), ('only', 103)]\n",
      "\n",
      "-------------------- NEGATIVE TEXT --------------------\n",
      "Total negative sentences: 5331\n",
      "The average length of negative sentences: 20.93884824610767\n",
      "The max length of negative sentences: 56\n",
      "The min length of negative sentences: 1\n",
      "Most common words in negative sentences: \n",
      "[('.', 7038), ('the', 5045), (',', 4769), ('a', 3451), ('of', 2750), ('and', 2647), ('to', 2264), ('is', 1660), ('in', 1290), ('that', 1208), ('it', 1181), ('as', 922), ('but', 855), ('this', 774), ('for', 763), ('movie', 758), ('with', 677), ('its', 636), ('film', 623), ('an', 567), (\"it's\", 555), ('be', 520), ('on', 471), ('like', 439), ('not', 436), ('more', 416), ('by', 415), ('you', 398), ('than', 382), ('about', 370), ('too', 365), ('have', 364), ('one', 361), ('are', 360), ('all', 352), ('so', 346), ('at', 339), ('or', 330), ('has', 330), ('\"', 325), ('from', 324), ('--', 310), ('just', 290), ('i', 285), ('his', 284), ('if', 273), ('no', 267), ('much', 232), ('up', 222), ('story', 220), ('out', 220), ('bad', 206), ('only', 205), ('into', 204), ('even', 202), ('what', 188), ('who', 185), ('time', 181), ('good', 179), ('will', 175), ('little', 173), ('can', 171), ('some', 170), ('been', 169), ('characters', 169), ('?', 167), ('most', 162), ('comedy', 161), ('when', 155), (\"doesn't\", 153), ('never', 152), ('would', 148), ('was', 143), ('enough', 140), ('which', 137), (\"there's\", 137), ('he', 137), ('there', 132), ('way', 132), ('very', 130), ('really', 130), ('your', 129), ('any', 128), ('make', 127), (':', 124), (')', 124), ('they', 123), ('(', 122), ('nothing', 121), ('plot', 120), ('their', 117), (\"isn't\", 116), ('should', 116), ('could', 115), ('every', 114), ('something', 113), ('director', 112), ('made', 109), ('we', 109), ('through', 108)]\n"
     ]
    }
   ],
   "source": [
    "# 积极文本统计\n",
    "print(\"-\" * 20 + \" POSITIVE TEXT \" + \"-\" * 20)\n",
    "# 分句\n",
    "pos_sentences = pos_text.lower().split(\"\\n\")\n",
    "print(\"Total positive sentences: {}\".format(len(pos_sentences)))\n",
    "print(\"The average length of positive sentences: {}\".format(np.mean([len(sentence.split()) for sentence in pos_sentences])))\n",
    "print(\"The max length of positive sentences: {}\".format(np.max([len(sentence.split()) for sentence in pos_sentences])))\n",
    "print(\"The min length of positive sentences: {}\".format(np.min([len(sentence.split()) for sentence in pos_sentences])))\n",
    "# 统计高频词\n",
    "c = Counter(pos_text.split()).most_common(100)\n",
    "print(\"Most common words in positive sentences: \\n{}\".format(c))\n",
    "\n",
    "# 校级文本统计\n",
    "print()\n",
    "print(\"-\" * 20 + \" NEGATIVE TEXT \" + \"-\" * 20)\n",
    "# 分句\n",
    "neg_sentences = neg_text.lower().split(\"\\n\")\n",
    "print(\"Total negative sentences: {}\".format(len(neg_sentences)))\n",
    "print(\"The average length of negative sentences: {}\".format(np.mean([len(sentence.split()) for sentence in neg_sentences])))\n",
    "print(\"The max length of negative sentences: {}\".format(np.max([len(sentence.split()) for sentence in neg_sentences])))\n",
    "print(\"The min length of negative sentences: {}\".format(np.min([len(sentence.split()) for sentence in neg_sentences])))\n",
    "# 统计高频词\n",
    "c = Counter(neg_text.split()).most_common(100)\n",
    "print(\"Most common words in negative sentences: \\n{}\".format(c))"
   ]
  },
  {
   "cell_type": "markdown",
   "metadata": {},
   "source": [
    "## 数据预处理\n",
    "\n",
    "- 构造词典Vocabulary\n",
    "- 构造映射表\n",
    "- 转换单词为tokens"
   ]
  },
  {
   "cell_type": "code",
   "execution_count": 7,
   "metadata": {},
   "outputs": [],
   "source": [
    "# 句子最大长度\n",
    "SENTENCE_LIMIT_SIZE = 20"
   ]
  },
  {
   "cell_type": "markdown",
   "metadata": {},
   "source": [
    "### 构造词典\n",
    "\n",
    "我们要基于整个语料来构造我们的词典，由于文本中包含许多干扰词汇，例如仅出现过1次的这类单词。对于这类极其低频词汇，我们可以对其进行去除，一方面能加快模型执行效率，一方面也能减少特殊词带来的噪声。"
   ]
  },
  {
   "cell_type": "code",
   "execution_count": 8,
   "metadata": {},
   "outputs": [],
   "source": [
    "# 合并pos和neg文本\n",
    "total_text = pos_text + \"\\n\" + neg_text\n",
    "# 统计词汇\n",
    "c = Counter(total_text.split())"
   ]
  },
  {
   "cell_type": "code",
   "execution_count": 9,
   "metadata": {
    "collapsed": true
   },
   "outputs": [
    {
     "data": {
      "text/plain": [
       "[(\"century's\", 1),\n",
       " ('jean-claud', 1),\n",
       " ('segal', 1),\n",
       " ('middle-earth', 1),\n",
       " ('too-tepid', 1),\n",
       " ('showed', 1),\n",
       " ('curls', 1),\n",
       " ('fed', 1),\n",
       " ('ponders', 1),\n",
       " (\"it'\", 1),\n",
       " ('enrapturing', 1),\n",
       " ('tempt', 1),\n",
       " ('inscrutable', 1),\n",
       " ('spiderman', 1),\n",
       " ('latent', 1),\n",
       " ('gangsta', 1),\n",
       " ('shook', 1),\n",
       " ('rattled', 1),\n",
       " ('deceptive', 1),\n",
       " ('grimness', 1),\n",
       " ('fatalist', 1),\n",
       " ('worldview', 1),\n",
       " ('lobbies', 1),\n",
       " ('two-lane', 1),\n",
       " ('roadside', 1),\n",
       " ('cafes', 1),\n",
       " ('permeate', 1),\n",
       " ('bona-fide', 1),\n",
       " ('outings', 1),\n",
       " ('cartoonlike', 1),\n",
       " ('magnet', 1),\n",
       " ('co-star', 1),\n",
       " (\"'compleja\", 1),\n",
       " ('intelectualmente', 1),\n",
       " ('retadora', 1),\n",
       " ('ladrón', 1),\n",
       " ('orquídeas', 1),\n",
       " ('esos', 1),\n",
       " ('filmes', 1),\n",
       " ('precisamente', 1),\n",
       " ('originalidad', 1),\n",
       " ('karmen', 1),\n",
       " ('chanting', 1),\n",
       " ('braided', 1),\n",
       " ('wipe', 1),\n",
       " ('jeweled', 1),\n",
       " ('beads', 1),\n",
       " ('lacerating', 1),\n",
       " (\"'50's\", 1),\n",
       " ('cheesiness', 1),\n",
       " (\"johnson's\", 1),\n",
       " ('orchestrates', 1),\n",
       " ('siberian', 1),\n",
       " ('sheep', 1),\n",
       " ('hosts', 1),\n",
       " ('parka-wrapped', 1),\n",
       " ('everytime', 1),\n",
       " ('singer/composer', 1),\n",
       " ('contributes', 1),\n",
       " ('slew', 1),\n",
       " ('intrusive', 1),\n",
       " ('enlightened', 1),\n",
       " (\"derrida's\", 1),\n",
       " (\"1998's\", 1),\n",
       " ('chiaroscuro', 1),\n",
       " ('uncontrolled', 1),\n",
       " ('farther', 1),\n",
       " ('quietness', 1),\n",
       " ('domineering', 1),\n",
       " (\"mother's\", 1),\n",
       " ('shadings', 1),\n",
       " ('coloring', 1),\n",
       " ('treebeard', 1),\n",
       " (\"'performance'\", 1),\n",
       " ('ingeniously', 1),\n",
       " ('aberration', 1),\n",
       " ('originally', 1),\n",
       " ('comedy/thriller', 1),\n",
       " ('orchestrate', 1),\n",
       " ('overpraised', 1),\n",
       " ('catchy', 1),\n",
       " ('spycraft', 1),\n",
       " (\"damon's\", 1),\n",
       " ('katz', 1),\n",
       " ('lynchings', 1),\n",
       " ('reel-to-reel', 1),\n",
       " ('recordings', 1),\n",
       " ('meeropol', 1),\n",
       " ('anthropologically', 1),\n",
       " (\"early-'80s\", 1),\n",
       " ('suburbia', 1),\n",
       " ('interstitial', 1),\n",
       " ('vertiginous', 1),\n",
       " ('embers', 1),\n",
       " ('dormant', 1),\n",
       " ('calcified', 1),\n",
       " ('chronic', 1),\n",
       " (\"irwin's\", 1),\n",
       " ('hemmingway', 1),\n",
       " ('accelerated', 1),\n",
       " ('lovers-on-the-run', 1),\n",
       " (\"piesiewicz's\", 1),\n",
       " ('veronique', 1),\n",
       " ('again-courage', 1),\n",
       " ('sl2', 1),\n",
       " ('self-contained', 1),\n",
       " ('pabst', 1),\n",
       " ('ribbon', 1),\n",
       " ('du', 1),\n",
       " ('sarcasm', 1),\n",
       " ('quizzical', 1),\n",
       " ('syncopated', 1),\n",
       " ('mimicking', 1),\n",
       " ('memory-as-identity', 1),\n",
       " ('obviation', 1),\n",
       " ('long-held', 1),\n",
       " ('illusions', 1),\n",
       " ('erasing', 1),\n",
       " ('recasts', 1),\n",
       " ('gambol', 1),\n",
       " ('fluidly', 1),\n",
       " ('b-scene', 1),\n",
       " ('digital-video', 1),\n",
       " ('comedians', 1),\n",
       " (\"'truth'\", 1),\n",
       " ('deconstructing', 1),\n",
       " ('blessing', 1),\n",
       " ('thunderous', 1),\n",
       " ('cadences', 1),\n",
       " ('shortage', 1),\n",
       " ('responsive', 1),\n",
       " ('koreans', 1),\n",
       " ('gourmet', 1),\n",
       " ('drive-thru', 1),\n",
       " ('strap', 1),\n",
       " ('frontier', 1),\n",
       " ('logistical', 1),\n",
       " ('milestone', 1),\n",
       " ('[schweiger', 1),\n",
       " ('steak', 1),\n",
       " ('minefield', 1),\n",
       " ('gorefests', 1),\n",
       " ('connoisseur', 1),\n",
       " ('lo-fi', 1),\n",
       " ('15-cent', 1),\n",
       " ('stump', 1),\n",
       " ('hogs', 1),\n",
       " ('conan-esque', 1),\n",
       " ('partially', 1),\n",
       " ('minty', 1),\n",
       " ('prizes', 1),\n",
       " ('rambunctious', 1),\n",
       " ('non-jew', 1),\n",
       " ('happiest', 1),\n",
       " ('[but', 1),\n",
       " (\"it's]\", 1),\n",
       " ('backs', 1),\n",
       " ('commodity', 1),\n",
       " ('homespun', 1),\n",
       " ('mule', 1),\n",
       " ('skinner', 1),\n",
       " ('posse', 1),\n",
       " ('seaworthy', 1),\n",
       " ('sock-you-in-the-eye', 1),\n",
       " ('non-reactionary', 1),\n",
       " ('near-disaster', 1),\n",
       " ('makmalbaf', 1),\n",
       " ('kurdish', 1),\n",
       " ('borderlands', 1),\n",
       " ('chunk', 1),\n",
       " ('pinch', 1),\n",
       " ('tartness', 1),\n",
       " ('tribulations', 1),\n",
       " (\"comedy'\", 1),\n",
       " (\"willams'\", 1),\n",
       " ('ebb', 1),\n",
       " ('deposits', 1),\n",
       " ('[jack', 1),\n",
       " (\"nicholson's]\", 1),\n",
       " ('20-year-old', 1),\n",
       " ('exhilarate', 1),\n",
       " ('beanie', 1),\n",
       " ('ever-escalating', 1),\n",
       " ('latifah', 1),\n",
       " ('flaunting', 1),\n",
       " ('actor/director', 1),\n",
       " ('giles', 1),\n",
       " ('nuttgens', 1),\n",
       " ('contradictions', 1),\n",
       " ('lump-in-the-throat', 1),\n",
       " ('diverted', 1),\n",
       " ('lightens', 1),\n",
       " ('bigger-than-life', 1),\n",
       " ('questing', 1),\n",
       " ('racked', 1),\n",
       " ('genet', 1),\n",
       " ('rechy', 1),\n",
       " ('fassbinder', 1),\n",
       " ('nocturnal', 1),\n",
       " ('goya', 1),\n",
       " ('badge', 1),\n",
       " ('permutations', 1),\n",
       " ('[drumline]', 1),\n",
       " ('headlines', 1),\n",
       " ('1995', 1),\n",
       " ('disapproval', 1),\n",
       " ('tinge', 1),\n",
       " ('crystalline', 1),\n",
       " ('three-year-old', 1),\n",
       " ('fictionalize', 1),\n",
       " ('visits', 1),\n",
       " ('slice-of-depression', 1),\n",
       " ('grasped', 1),\n",
       " ('composing', 1),\n",
       " ('preteens', 1),\n",
       " (\"o's\", 1),\n",
       " ('knock-offs', 1),\n",
       " ('political-action', 1),\n",
       " ('fastidiousness', 1),\n",
       " ('ellefsen', 1),\n",
       " ('frailties', 1),\n",
       " ('magnified', 1),\n",
       " ('vex', 1),\n",
       " (\"petin's\", 1),\n",
       " ('penetrates', 1),\n",
       " ('tantalizing', 1),\n",
       " ('provocatuers', 1),\n",
       " ('aroused', 1),\n",
       " ('mideast', 1),\n",
       " ('perceptively', 1),\n",
       " ('jirí', 1),\n",
       " (\"hubac's\", 1),\n",
       " ('silberstein', 1),\n",
       " ('additional', 1),\n",
       " ('shapelessly', 1),\n",
       " ('gratifying', 1),\n",
       " ('appraisal', 1),\n",
       " ('anti-date', 1),\n",
       " ('intently', 1),\n",
       " ('regimes', 1),\n",
       " ('figurative', 1),\n",
       " ('port-of-call', 1),\n",
       " ('even-handed', 1),\n",
       " ('dock', 1),\n",
       " ('unloading', 1),\n",
       " ('greek-american', 1),\n",
       " ('testify', 1),\n",
       " ('comparative', 1),\n",
       " ('inhabited', 1),\n",
       " ('venomous', 1),\n",
       " ('bigotries', 1),\n",
       " ('theocracy', 1),\n",
       " ('antithesis', 1),\n",
       " ('dazzlingly', 1),\n",
       " (\"münch's\", 1),\n",
       " ('overindulgence', 1),\n",
       " ('deteriorating', 1),\n",
       " ('croc', 1),\n",
       " ('disrupts', 1),\n",
       " ('re-enactments', 1),\n",
       " ('character-based', 1),\n",
       " ('endearingly', 1),\n",
       " ('post-soviet', 1),\n",
       " ('russia', 1),\n",
       " ('bishop', 1),\n",
       " ('standouts', 1),\n",
       " ('bastions', 1),\n",
       " ('ikea', 1),\n",
       " ('blurred', 1),\n",
       " ('razor', 1),\n",
       " ('transferral', 1),\n",
       " ('spy-on-the-run', 1),\n",
       " ('sanded', 1),\n",
       " ('microcosm', 1),\n",
       " ('dabbling', 1),\n",
       " ('authors', 1),\n",
       " ('battista', 1),\n",
       " ('directress', 1),\n",
       " ('breezily', 1),\n",
       " ('apolitical', 1),\n",
       " ('gawk', 1),\n",
       " ('wallpaper', 1),\n",
       " ('hu', 1),\n",
       " ('matter-of-fact', 1),\n",
       " ('glint', 1),\n",
       " ('raja', 1),\n",
       " ('enthuse', 1),\n",
       " (\"andersson's\", 1),\n",
       " ('rigorous', 1),\n",
       " ('distancing', 1),\n",
       " ('real-live', 1),\n",
       " ('movingly', 1),\n",
       " ('179-minute', 1),\n",
       " ('institution--acted', 1),\n",
       " ('weakened', 1),\n",
       " ('supportive', 1),\n",
       " ('40-minute', 1),\n",
       " ('valedictory', 1),\n",
       " ('bargain', 1),\n",
       " ('shards', 1),\n",
       " ('gyro', 1),\n",
       " (\"'bartleby'\", 1),\n",
       " ('farrell', 1),\n",
       " ('foil', 1),\n",
       " (\"willis's\", 1),\n",
       " ('world-weary', 1),\n",
       " ('colonel', 1),\n",
       " ('conditioned', 1),\n",
       " ('saucer-eyed', 1),\n",
       " ('downy-cheeked', 1),\n",
       " ('moppets', 1),\n",
       " ('sugar-free', 1),\n",
       " ('post-breakup', 1),\n",
       " (\"sayles'\", 1),\n",
       " ('wordplay', 1),\n",
       " ('preference', 1),\n",
       " ('indomitable', 1),\n",
       " ('ostentatious', 1),\n",
       " (\"african-american's\", 1),\n",
       " ('randy', 1),\n",
       " ('figuratively', 1),\n",
       " ('[sex', 1),\n",
       " ('lucía]', 1),\n",
       " ('arousing', 1),\n",
       " ('andré', 1),\n",
       " ('turpin', 1),\n",
       " (\"renner's\", 1),\n",
       " ('award-worthy', 1),\n",
       " ('rhythmic', 1),\n",
       " ('adulthood', 1),\n",
       " ('fraught', 1),\n",
       " ('wannabes', 1),\n",
       " ('addessi', 1),\n",
       " ('beatrice', 1),\n",
       " (\"jones'\", 1),\n",
       " ('melding', 1),\n",
       " ('reflecting', 1),\n",
       " ('heartbeat-like', 1),\n",
       " ('whole-heartedly', 1),\n",
       " ('movie--', 1),\n",
       " ('longley', 1),\n",
       " ('horrifically', 1),\n",
       " (\"crowd-pleaser's\", 1),\n",
       " ('gruelling', 1),\n",
       " (\"wollter's\", 1),\n",
       " ('euro-film', 1),\n",
       " ('rockwell', 1),\n",
       " ('vastness', 1),\n",
       " ('green-guts', 1),\n",
       " ('beaut', 1),\n",
       " ('bundy', 1),\n",
       " ('reilly', 1),\n",
       " ('octopus', 1),\n",
       " ('deceivingly', 1),\n",
       " ('retrospect', 1),\n",
       " ('ana', 1),\n",
       " ('[anderson]', 1),\n",
       " ('ho-tep', 1),\n",
       " ('likability', 1),\n",
       " ('increments', 1),\n",
       " ('camouflaged', 1),\n",
       " (\"'brazil\", 1),\n",
       " ('goddammit', 1),\n",
       " ('adoration', 1),\n",
       " ('hogwarts', 1),\n",
       " ('mischief', 1),\n",
       " ('heart-on-its-sleeve', 1),\n",
       " ('redgrave', 1),\n",
       " ('aquatic', 1),\n",
       " ('baja', 1),\n",
       " ('peninsula', 1),\n",
       " ('mexico', 1),\n",
       " ('hyper-time', 1),\n",
       " ('grenier', 1),\n",
       " ('heidegger-', 1),\n",
       " ('nietzsche-referencing', 1),\n",
       " ('patois', 1),\n",
       " ('mullinski', 1),\n",
       " ('compact', 1),\n",
       " ('breezes', 1),\n",
       " ('imagining', 1),\n",
       " ('sardine', 1),\n",
       " (\"'face\", 1),\n",
       " (\"value'\", 1),\n",
       " ('wimp', 1),\n",
       " ('cried', 1),\n",
       " ('heart-affecting', 1),\n",
       " ('displayed', 1),\n",
       " ('33-year-old', 1),\n",
       " ('inexperience', 1),\n",
       " ('division', 1),\n",
       " ('risk-takers', 1),\n",
       " ('sandwiched', 1),\n",
       " ('heart-rending', 1),\n",
       " ('buzz-obsessed', 1),\n",
       " ('descend', 1),\n",
       " ('utah', 1),\n",
       " ('ferret', 1),\n",
       " (\"'tadpole'\", 1),\n",
       " ('declared', 1),\n",
       " (\"elliott's\", 1),\n",
       " ('fashions', 1),\n",
       " ('character-', 1),\n",
       " ('and-', 1),\n",
       " ('connects', 1),\n",
       " ('double-crosses', 1),\n",
       " ('ranging', 1),\n",
       " ('gathers', 1),\n",
       " (\"l'avventura\", 1),\n",
       " ('repulsion', 1),\n",
       " ('congeals', 1),\n",
       " ('tingle', 1),\n",
       " (\"'barbershop'\", 1),\n",
       " ('anytime', 1),\n",
       " ('narcotizing', 1),\n",
       " ('ensnaring', 1),\n",
       " ('[taymor]', 1),\n",
       " ('utilizes', 1),\n",
       " ('catapulting', 1),\n",
       " ('eye-opening', 1),\n",
       " ('oblivion', 1),\n",
       " ('examined', 1),\n",
       " (\"villeneuve's\", 1),\n",
       " ('sugar-coating', 1),\n",
       " ('[villeneuve]', 1),\n",
       " ('intuitively', 1),\n",
       " ('squalor', 1),\n",
       " ('bared', 1),\n",
       " ('confronted', 1),\n",
       " ('code-talk', 1),\n",
       " ('out-stealth', 1),\n",
       " ('precollegiate', 1),\n",
       " ('liberated', 1),\n",
       " (\"hogan's\", 1),\n",
       " (\"reno's\", 1),\n",
       " ('suffused', 1),\n",
       " ('trumpets', 1),\n",
       " ('go-round', 1),\n",
       " ('headlong', 1),\n",
       " ('delinquent', 1),\n",
       " ('peter/spider-man', 1),\n",
       " ('myths', 1),\n",
       " ('afresh', 1),\n",
       " ('arouse', 1),\n",
       " ('unknowing', 1),\n",
       " ('[sinks]', 1),\n",
       " ('resolute', 1),\n",
       " ('nakedness', 1),\n",
       " ('interwoven…', 1),\n",
       " ('positions', 1),\n",
       " ('stimulates', 1),\n",
       " ('unobtrusively', 1),\n",
       " (\"version's\", 1),\n",
       " ('plentiful', 1),\n",
       " ('provide[s]', 1),\n",
       " ('technology-of-the-moment', 1),\n",
       " ('manipulate', 1),\n",
       " ('saturation', 1),\n",
       " (\"glass'\", 1),\n",
       " ('divining', 1),\n",
       " ('confirmation', 1),\n",
       " ('unelected', 1),\n",
       " ('incurious', 1),\n",
       " ('uncharismatic', 1),\n",
       " ('overgrown', 1),\n",
       " ('whiplash', 1),\n",
       " ('time-honored', 1),\n",
       " ('bowel-curdling', 1),\n",
       " ('heart-stopping', 1),\n",
       " ('unmentioned', 1),\n",
       " ('amalgamating', 1),\n",
       " ('not-so-stock', 1),\n",
       " ('super-cool', 1),\n",
       " ('relax', 1),\n",
       " ('undoubted', 1),\n",
       " ('extensions', 1),\n",
       " ('charmers', 1),\n",
       " ('pencil-thin', 1),\n",
       " ('pro-fat', 1),\n",
       " ('sparklingly', 1),\n",
       " ('consciousness-raiser', 1),\n",
       " ('bonehead', 1),\n",
       " ('deciding', 1),\n",
       " ('affirmation', 1),\n",
       " ('good-deed/bad-deed', 1),\n",
       " ('reversals', 1),\n",
       " ('sinner', 1),\n",
       " ('symmetrical', 1),\n",
       " ('cross-shaped', 1),\n",
       " ('unaccustomed', 1),\n",
       " ('contests', 1),\n",
       " (\"griffin's\", 1),\n",
       " ('testimonials', 1),\n",
       " ('arena', 1),\n",
       " ('barrett', 1),\n",
       " ('browning', 1),\n",
       " ('hmm', 1),\n",
       " ('800-page', 1),\n",
       " ('nurturing', 1),\n",
       " ('gauzy', 1),\n",
       " ('dithering', 1),\n",
       " ('zigs', 1),\n",
       " ('zags', 1),\n",
       " ('laser-projected', 1),\n",
       " ('spell-casting', 1),\n",
       " ('dreyfus', 1),\n",
       " ('grader', 1),\n",
       " ('b-minus', 1),\n",
       " ('patterns', 1),\n",
       " ('ideals', 1),\n",
       " ('fatality', 1),\n",
       " ('classism', 1),\n",
       " ('ignorance', 1),\n",
       " ('meat-and-potatoes', 1),\n",
       " ('shticks', 1),\n",
       " ('sympathetically', 1),\n",
       " ('[gai]', 1),\n",
       " ('personifying', 1),\n",
       " ('intimidating', 1),\n",
       " ('horror/thriller', 1),\n",
       " ('well-known', 1),\n",
       " ('blobby', 1),\n",
       " ('superlarge', 1),\n",
       " ('changer', 1),\n",
       " ('self-evaluation', 1),\n",
       " ('guidance', 1),\n",
       " ('invade', 1),\n",
       " ('mindsets', 1),\n",
       " ('fanatically', 1),\n",
       " ('fetishized', 1),\n",
       " ('old-movie', 1),\n",
       " ('idiosyncrasy', 1),\n",
       " ('monastic', 1),\n",
       " ('peter]', 1),\n",
       " ('majesty', 1),\n",
       " ('slipper', 1),\n",
       " ('holidays', 1),\n",
       " ('incarnates', 1),\n",
       " ('prophetic', 1),\n",
       " ('exacting', 1),\n",
       " ('patronized', 1),\n",
       " ('crafts', 1),\n",
       " ('‘what', 1),\n",
       " (\"see'\", 1),\n",
       " ('incandescent', 1),\n",
       " ('stupendous', 1),\n",
       " ('unsettling--but', 1),\n",
       " ('unquestionably', 1),\n",
       " ('13-year-old', 1),\n",
       " ('bedouins', 1),\n",
       " ('wide-ranging', 1),\n",
       " ('non-shakespeare', 1),\n",
       " ('softest', 1),\n",
       " ('revolt', 1),\n",
       " ('off-the-cuff', 1),\n",
       " ('gunning', 1),\n",
       " (\"bow's\", 1),\n",
       " ('preschool', 1),\n",
       " ('good-humored', 1),\n",
       " ('charmingly', 1),\n",
       " ('bola', 1),\n",
       " ('peeved', 1),\n",
       " ('nalin', 1),\n",
       " ('crime-film', 1),\n",
       " ('loosey-goosey', 1),\n",
       " ('is…', 1),\n",
       " ('destinees', 1),\n",
       " ('bedevils', 1),\n",
       " ('77-minute', 1),\n",
       " ('40-year-old', 1),\n",
       " ('soldier', 1),\n",
       " ('45-minute', 1),\n",
       " ('teamwork', 1),\n",
       " ('molony', 1),\n",
       " ('parisian', 1),\n",
       " ('pg-rated', 1),\n",
       " ('ensnared', 1),\n",
       " ('ferocious', 1),\n",
       " ('gosh', 1),\n",
       " ('quests', 1),\n",
       " ('courting', 1),\n",
       " ('preposterousness', 1),\n",
       " ('interference', 1),\n",
       " ('margolo', 1),\n",
       " ('computer-animated', 1),\n",
       " ('self-actualization', 1),\n",
       " ('continental', 1),\n",
       " ('divides', 1),\n",
       " ('profiles', 1),\n",
       " (\"another's\", 1),\n",
       " ('screen-eating', 1),\n",
       " ('dominatrixes', 1),\n",
       " ('tango', 1),\n",
       " ('camera-work', 1),\n",
       " ('characterizing', 1),\n",
       " ('knots', 1),\n",
       " ('mock-tarantino', 1),\n",
       " ('scuzbag', 1),\n",
       " ('delicacy', 1),\n",
       " ('surpassed', 1),\n",
       " ('empress', 1),\n",
       " (\"leoni's\", 1),\n",
       " ('ellie', 1),\n",
       " ('recapturing', 1),\n",
       " ('pauses', 1),\n",
       " ('locked', 1),\n",
       " ('cat-and-cat', 1),\n",
       " (\"herek's\", 1),\n",
       " ('bottles', 1),\n",
       " (\"hornby's\", 1),\n",
       " ('drop-dead', 1),\n",
       " ('idoosyncratic', 1),\n",
       " ('terrain', 1),\n",
       " ('flatula', 1),\n",
       " ('advises', 1),\n",
       " ('denlopp', 1),\n",
       " ('deckhand', 1),\n",
       " ('updatings', 1),\n",
       " (\"silver's\", 1),\n",
       " ('parrot', 1),\n",
       " ('mimics', 1),\n",
       " (\"trio's\", 1),\n",
       " (\"niccol's\", 1),\n",
       " ('anti-hollywood', 1),\n",
       " (\"screenplay's\", 1),\n",
       " ('sappier', 1),\n",
       " (\"hook's\", 1),\n",
       " ('assuredness', 1),\n",
       " ('uninhibited', 1),\n",
       " ('pigeonhole-resisting', 1),\n",
       " ('antidotes', 1),\n",
       " ('11-year-old', 1),\n",
       " ('convert', 1),\n",
       " ('elmer', 1),\n",
       " (\"bernstein's\", 1),\n",
       " ('melodic', 1),\n",
       " ('10-inch', 1),\n",
       " ('edge-of-your-seat', 1),\n",
       " ('shambling', 1),\n",
       " ('custom-made', 1),\n",
       " ('hornby', 1),\n",
       " ('belated', 1),\n",
       " ('all-stars', 1),\n",
       " (\"ride's\", 1),\n",
       " ('lap', 1),\n",
       " ('gotta', 1),\n",
       " (\"carion's\", 1),\n",
       " ('hums', 1),\n",
       " ('buena', 1),\n",
       " ('oportunidad', 1),\n",
       " ('cultura', 1),\n",
       " ('aunque', 1),\n",
       " ('condensada', 1),\n",
       " ('aprovechar', 1),\n",
       " ('dyspeptic', 1),\n",
       " ('visualmente', 1),\n",
       " ('espectacular', 1),\n",
       " ('entretenida', 1),\n",
       " ('te', 1),\n",
       " ('sorprenderá', 1),\n",
       " ('theirs', 1),\n",
       " ('mirth', 1),\n",
       " ('frisky', 1),\n",
       " ('exporing', 1),\n",
       " ('chin', 1),\n",
       " ('marketplace', 1),\n",
       " ('amusingly', 1),\n",
       " (\"anymore'\", 1),\n",
       " ('shading', 1),\n",
       " ('[fessenden]', 1),\n",
       " (\"ross's\", 1),\n",
       " ('specials', 1),\n",
       " ('entrancing', 1),\n",
       " ('darn', 1),\n",
       " ('smarty-pants', 1),\n",
       " ('agreeable', 1),\n",
       " ('time-wasting', 1),\n",
       " (\"pal's\", 1),\n",
       " ('heartbeat', 1),\n",
       " ('inequities', 1),\n",
       " ('immorality', 1),\n",
       " ('administration', 1),\n",
       " ('misperception', 1),\n",
       " ('shinya', 1),\n",
       " (\"tsukamoto's\", 1),\n",
       " ('180', 1),\n",
       " ('fiascoes', 1),\n",
       " ('opera-to-film', 1),\n",
       " ('heaving', 1),\n",
       " ('love-jealousy-', 1),\n",
       " ('murder-suicide', 1),\n",
       " ('fandango', 1),\n",
       " ('abbas', 1),\n",
       " (\"'charly'\", 1),\n",
       " ('befuddlement', 1),\n",
       " ('marvellous', 1),\n",
       " ('mind-blowing', 1),\n",
       " ('breath-taking', 1),\n",
       " ('earthshaking', 1),\n",
       " ('fluctuating', 1),\n",
       " ('humanitarian', 1),\n",
       " (\"'co-stars\", 1),\n",
       " ('unlucky', 1),\n",
       " ('cassette', 1),\n",
       " ('def', 1),\n",
       " (\"leppard's\", 1),\n",
       " ('pyromania', 1),\n",
       " ('fandom', 1),\n",
       " ('combo', 1),\n",
       " ('closeness', 1),\n",
       " ('unreality', 1),\n",
       " ('broken-down', 1),\n",
       " ('andersson', 1),\n",
       " ('hoops', 1),\n",
       " ('plump', 1),\n",
       " ('fulsome', 1),\n",
       " ('reinforced', 1),\n",
       " ('all-ages', 1),\n",
       " ('quantum', 1),\n",
       " ('slash-dash', 1),\n",
       " ('potholes', 1),\n",
       " ('befall', 1),\n",
       " ('brethren', 1),\n",
       " ('turfs', 1),\n",
       " ('self-made', 1),\n",
       " ('low-down', 1),\n",
       " ('reviewing', 1),\n",
       " ('obscurities', 1),\n",
       " ('slam-bam', 1),\n",
       " ('miniscule', 1),\n",
       " ('bleep', 1),\n",
       " ('capturou', 1),\n",
       " ('pomo', 1),\n",
       " ('ouro', 1),\n",
       " ('well-oiled', 1),\n",
       " ('upholstered', 1),\n",
       " ('sickness', 1),\n",
       " ('rara', 1),\n",
       " ('avis', 1),\n",
       " ('articulated', 1),\n",
       " ('flights', 1),\n",
       " ('utmost', 1),\n",
       " ('economy', 1),\n",
       " ('samantha', 1),\n",
       " ('viewfinder', 1),\n",
       " (\"master's\", 1),\n",
       " ('sarcástica', 1),\n",
       " ('demencial', 1),\n",
       " ('predecesora', 1),\n",
       " ('ejemplo', 1),\n",
       " ('entretenimiento', 1),\n",
       " ('puro', 1),\n",
       " ('complejos', 1),\n",
       " (\"obsessive-compulsive's\", 1),\n",
       " ('cadness', 1),\n",
       " ('westfeldt', 1),\n",
       " ('juergensen', 1),\n",
       " ('israeli-occupied', 1),\n",
       " ('territories', 1),\n",
       " ('crit', 1),\n",
       " (\"'types'\", 1),\n",
       " ('elizabethan', 1),\n",
       " ('shagster', 1),\n",
       " ('casey', 1),\n",
       " ('kasem-furnished', 1),\n",
       " ('amongst', 1),\n",
       " ('self-interest', 1),\n",
       " ('representations', 1),\n",
       " ('contacts', 1),\n",
       " (\"'hosts'\", 1),\n",
       " (\"'guests\", 1),\n",
       " ('tastes', 1),\n",
       " ('foreboding', 1),\n",
       " ('jazzes', 1),\n",
       " ('madame', 1),\n",
       " ('refer', 1),\n",
       " (\"'jackie'\", 1),\n",
       " ('spates', 1),\n",
       " ('translates', 1),\n",
       " (\"hors-d'oeuvre\", 1),\n",
       " ('self-dramatizing', 1),\n",
       " ('filmic', 1),\n",
       " ('playboy', 1),\n",
       " ('quintessentially', 1),\n",
       " ('underlay', 1),\n",
       " ('gaiety', 1),\n",
       " ('[broomfield]', 1),\n",
       " ('sizzling', 1),\n",
       " ('sweet-natured', 1),\n",
       " (\"francisco's\", 1),\n",
       " ('fountainheads', 1),\n",
       " ('pawns', 1),\n",
       " ('bishops', 1),\n",
       " ('kings', 1),\n",
       " ('wagers', 1),\n",
       " ('dingy', 1),\n",
       " ('backrooms', 1),\n",
       " ('forests', 1),\n",
       " ('reject', 1),\n",
       " (\"python's\", 1),\n",
       " ('discontented', 1),\n",
       " (\"1983's\", 1),\n",
       " ('koyaanisqatsi', 1),\n",
       " (\"1988's\", 1),\n",
       " ('powaqqatsi', 1),\n",
       " ('naqoyqatsi', 1),\n",
       " ('nations', 1),\n",
       " ('inventively', 1),\n",
       " ('fleet', 1),\n",
       " ('extols', 1),\n",
       " ('comradeship', 1),\n",
       " ('retribution', 1),\n",
       " ('futures', 1),\n",
       " ('children--and', 1),\n",
       " ('policiales', 1),\n",
       " ('últimos', 1),\n",
       " ('tiempos', 1),\n",
       " ('modulated', 1),\n",
       " ('under-12', 1),\n",
       " ('caper-comedy', 1),\n",
       " ('laugh-filled', 1),\n",
       " ('kaputschnik', 1),\n",
       " ('renown', 1),\n",
       " ('dolgin', 1),\n",
       " ('vietnamese-born', 1),\n",
       " ('eagerly', 1),\n",
       " ('all-american', 1),\n",
       " ('infecting', 1),\n",
       " ('pasadena', 1),\n",
       " ('horror-comedy', 1),\n",
       " (\"elvira's\", 1),\n",
       " ('hooters', 1),\n",
       " ('binds', 1),\n",
       " ('grass', 1),\n",
       " ('2--quite', 1),\n",
       " ('south-of-the-border', 1),\n",
       " ('melrose', 1),\n",
       " ('erika', 1),\n",
       " ('mini-mod-madness', 1),\n",
       " ('kickass', 1),\n",
       " ('beau', 1),\n",
       " ('travil', 1),\n",
       " ('nenette', 1),\n",
       " ('boni', 1),\n",
       " ('perverted', 1),\n",
       " ('sex-soaked', 1),\n",
       " ('creator', 1),\n",
       " ('simplest', 1),\n",
       " (\"australia's\", 1),\n",
       " ('flaky', 1),\n",
       " ('bizarrely', 1),\n",
       " ('side-splittingly', 1),\n",
       " ('piper', 1),\n",
       " ('perabo', 1),\n",
       " ('sugar-sweet', 1),\n",
       " ('magnificence', 1),\n",
       " ('chorus', 1),\n",
       " ('damsels', 1),\n",
       " ('premier', 1),\n",
       " ('sarcastic', 1),\n",
       " ('shield', 1),\n",
       " ('middle-fingered', 1),\n",
       " ('outta', 1),\n",
       " ('am-radio', 1),\n",
       " ('tierney', 1),\n",
       " ('engulfing', 1),\n",
       " ('allying', 1),\n",
       " ('defeat', 1),\n",
       " ('resonates', 1),\n",
       " ('renoir', 1),\n",
       " ('non-actors', 1),\n",
       " ('no-budget', 1),\n",
       " ('subtleties', 1),\n",
       " (\"ramsay's\", 1),\n",
       " ('resent', 1),\n",
       " ('professes', 1),\n",
       " ('giddily', 1),\n",
       " ('francophiles', 1),\n",
       " ('snicker', 1),\n",
       " ('knowingly', 1),\n",
       " ('caution', 1),\n",
       " ('hedonist', 1),\n",
       " ('aborbing', 1),\n",
       " ('arguable', 1),\n",
       " ('hallucinations', 1),\n",
       " ('electrocute', 1),\n",
       " ('dismember', 1),\n",
       " ('avert', 1),\n",
       " ('mass-market', 1),\n",
       " ('child-centered', 1),\n",
       " ('toe-tapping', 1),\n",
       " ('long-range', 1),\n",
       " ('1955', 1),\n",
       " ('monkeyfun', 1),\n",
       " ('bounties', 1),\n",
       " ('artifacts', 1),\n",
       " (\"petersburg's\", 1),\n",
       " (\"[hawn's\", 1),\n",
       " ('character]is', 1),\n",
       " ('bluntly', 1),\n",
       " ('new/old', 1),\n",
       " ('exigencies', 1),\n",
       " ('adorned', 1),\n",
       " ('full-on', 1),\n",
       " ('pleasurably', 1),\n",
       " ('jacked-up', 1),\n",
       " ('philibert', 1),\n",
       " ('observes', 1),\n",
       " ('schoolhouse', 1),\n",
       " ('dainty', 1),\n",
       " ('psychopathy', 1),\n",
       " ('ecologically', 1),\n",
       " ('unconventionally', 1),\n",
       " ('half-wit', 1),\n",
       " ('venerable', 1),\n",
       " ('never-ending', 1),\n",
       " ('reheated', 1),\n",
       " ('weeping', 1),\n",
       " (\"more's\", 1),\n",
       " ('relaxing', 1),\n",
       " ('viewings', 1),\n",
       " ('lauren', 1),\n",
       " ('puzzlement', 1),\n",
       " ('symbolizes', 1),\n",
       " (\"alzheimer's\", 1),\n",
       " ('interacting', 1),\n",
       " ('eyeball-to-eyeball', 1),\n",
       " ('toe-to-toe', 1),\n",
       " (\"dragon'\", 1),\n",
       " ('open-endedness', 1),\n",
       " ('11th', 1),\n",
       " ('barbecue', 1),\n",
       " ('single-mindedly', 1),\n",
       " ('presuppose', 1),\n",
       " ('bigotry', 1),\n",
       " ('zealous', 1),\n",
       " ('nuttiness', 1),\n",
       " ('antagonists', 1),\n",
       " ('impartiality', 1),\n",
       " ('armenian-canadian', 1),\n",
       " ('broached', 1),\n",
       " ('nonagenarian', 1),\n",
       " ('boldness', 1),\n",
       " ('pentecostal', 1),\n",
       " ('dallas', 1),\n",
       " ('services', 1),\n",
       " ('warthog', 1),\n",
       " ('hyperbole', 1),\n",
       " ('bravely', 1),\n",
       " ('delve', 1),\n",
       " ('fictions', 1),\n",
       " ('peddled', 1),\n",
       " (\"'have-yourself-a-happy-little-holocaust'\", 1),\n",
       " ('jakob', 1),\n",
       " ('allegorical', 1),\n",
       " ('quench', 1),\n",
       " ('josef', 1),\n",
       " ('bierbichler', 1),\n",
       " ('monica', 1),\n",
       " ('bleibtreu', 1),\n",
       " ('helene', 1),\n",
       " ('weigel', 1),\n",
       " ('richest', 1),\n",
       " (\"[ricci's]\", 1),\n",
       " ('girl-woman', 1),\n",
       " ('thwart', 1),\n",
       " ('crummles', 1),\n",
       " ('[howard]', 1),\n",
       " ('crossing', 1),\n",
       " ('gut-bustingly', 1),\n",
       " ('thinnest', 1),\n",
       " ('sleepy', 1),\n",
       " ('declares', 1),\n",
       " ('yang', 1),\n",
       " ('expressed', 1),\n",
       " ('82', 1),\n",
       " ('bend', 1),\n",
       " ('glories', 1),\n",
       " ('connecting', 1),\n",
       " ('historians', 1),\n",
       " (\"'70's\", 1),\n",
       " ('viciously', 1),\n",
       " ('griping', 1),\n",
       " ('garry', 1),\n",
       " ('shandling', 1),\n",
       " ('[sade]', 1),\n",
       " ('deceitful', 1),\n",
       " ('idealistically', 1),\n",
       " ('selfless', 1),\n",
       " ('coldly', 1),\n",
       " ('self-interested', 1),\n",
       " ('unselfconscious', 1),\n",
       " ('munch', 1),\n",
       " ('invariably', 1),\n",
       " ('cockamamie', 1),\n",
       " ('precipitously', 1),\n",
       " ('catastrophe', 1),\n",
       " ('nerve-wracking', 1),\n",
       " ('screamingly', 1),\n",
       " ('[binoche', 1),\n",
       " ...]"
      ]
     },
     "execution_count": 9,
     "metadata": {},
     "output_type": "execute_result"
    }
   ],
   "source": [
    "# 倒序查看词频\n",
    "sorted(c.most_common(), key=lambda x: x[1])"
   ]
  },
  {
   "cell_type": "code",
   "execution_count": 10,
   "metadata": {},
   "outputs": [],
   "source": [
    "# 初始化两个token：pad和unk\n",
    "vocab = [\"<pad>\", \"<unk>\"]\n",
    "\n",
    "# 去除出现频次为1次的单词\n",
    "for w, f in c.most_common():\n",
    "    if f > 1:\n",
    "        vocab.append(w)"
   ]
  },
  {
   "cell_type": "code",
   "execution_count": 11,
   "metadata": {},
   "outputs": [
    {
     "name": "stdout",
     "output_type": "stream",
     "text": [
      "The total size of our vocabulary is: 10384\n"
     ]
    }
   ],
   "source": [
    "print(\"The total size of our vocabulary is: {}\".format(len(vocab)))"
   ]
  },
  {
   "cell_type": "markdown",
   "metadata": {},
   "source": [
    "### 构造映射"
   ]
  },
  {
   "cell_type": "code",
   "execution_count": 12,
   "metadata": {},
   "outputs": [],
   "source": [
    "# 单词到编码的映射，例如machine -> 10283\n",
    "word_to_token = {word: token for token, word in enumerate(vocab)}\n",
    "# 编码到单词的映射，例如10283 -> machine\n",
    "token_to_word = {token: word for word, token in word_to_token.items()}"
   ]
  },
  {
   "cell_type": "markdown",
   "metadata": {},
   "source": [
    "### 转换文本"
   ]
  },
  {
   "cell_type": "code",
   "execution_count": 17,
   "metadata": {},
   "outputs": [],
   "source": [
    "def convert_text_to_token(sentence, word_to_token_map=word_to_token, limit_size=SENTENCE_LIMIT_SIZE):\n",
    "    \"\"\"\n",
    "    根据单词-编码映射表将单个句子转化为token\n",
    "    \n",
    "    @param sentence: 句子，str类型\n",
    "    @param word_to_token_map: 单词到编码的映射\n",
    "    @param limit_size: 句子最大长度。超过该长度的句子进行截断，不足的句子进行pad补全\n",
    "    \n",
    "    return: 句子转换为token后的列表\n",
    "    \"\"\"\n",
    "    # 获取unknown单词和pad的token\n",
    "    unk_id = word_to_token_map[\"<unk>\"]\n",
    "    pad_id = word_to_token_map[\"<pad>\"]\n",
    "    \n",
    "    # 对句子进行token转换，对于未在词典中出现过的词用unk的token填充\n",
    "    tokens = [word_to_token_map.get(word, unk_id) for word in sentence.lower().split()]\n",
    "    \n",
    "    # Pad\n",
    "    if len(tokens) < limit_size:\n",
    "        tokens.extend([0] * (limit_size - len(tokens)))\n",
    "    # Trunc\n",
    "    else:\n",
    "        tokens = tokens[:limit_size]\n",
    "    \n",
    "    return tokens"
   ]
  },
  {
   "cell_type": "code",
   "execution_count": 74,
   "metadata": {},
   "outputs": [
    {
     "data": {
      "text/plain": [
       "(5331,)"
      ]
     },
     "execution_count": 74,
     "metadata": {},
     "output_type": "execute_result"
    }
   ],
   "source": [
    "np.array(pos_sentences).shape"
   ]
  },
  {
   "cell_type": "code",
   "execution_count": 20,
   "metadata": {},
   "outputs": [
    {
     "name": "stderr",
     "output_type": "stream",
     "text": [
      "100%|██████████| 5331/5331 [00:00<00:00, 101240.31it/s]\n"
     ]
    }
   ],
   "source": [
    "# 对pos文本处理\n",
    "pos_tokens = []\n",
    "\n",
    "for sentence in tqdm.tqdm(pos_sentences):\n",
    "    tokens = convert_text_to_token(sentence)\n",
    "    pos_tokens.append(tokens)"
   ]
  },
  {
   "cell_type": "code",
   "execution_count": 23,
   "metadata": {},
   "outputs": [
    {
     "name": "stderr",
     "output_type": "stream",
     "text": [
      "100%|██████████| 5331/5331 [00:00<00:00, 97350.00it/s]\n"
     ]
    }
   ],
   "source": [
    "# 对neg文本处理\n",
    "neg_tokens = []\n",
    "\n",
    "for sentence in tqdm.tqdm(neg_sentences):\n",
    "    tokens = convert_text_to_token(sentence)\n",
    "    neg_tokens.append(tokens)"
   ]
  },
  {
   "cell_type": "code",
   "execution_count": 24,
   "metadata": {},
   "outputs": [],
   "source": [
    "# 转化为numpy格式，方便处理\n",
    "pos_tokens = np.array(pos_tokens)\n",
    "neg_tokens = np.array(neg_tokens)"
   ]
  },
  {
   "cell_type": "code",
   "execution_count": 25,
   "metadata": {},
   "outputs": [],
   "source": [
    "# 合并所有语料\n",
    "total_tokens = np.concatenate((pos_tokens, neg_tokens), axis=0)"
   ]
  },
  {
   "cell_type": "code",
   "execution_count": 75,
   "metadata": {},
   "outputs": [
    {
     "data": {
      "text/plain": [
       "array([[   3,  647,    9, ...,    8,   70,    5],\n",
       "       [   3, 3230, 2070, ...,    5, 7144,    7],\n",
       "       [ 680,   14,    1, ...,    0,    0,    0],\n",
       "       ...,\n",
       "       [  13,   12, 1356, ...,    4,   80, 2891],\n",
       "       [   3,  172,  420, ...,    0,    0,    0],\n",
       "       [3198,    9, 1438, ...,    0,    0,    0]])"
      ]
     },
     "execution_count": 75,
     "metadata": {},
     "output_type": "execute_result"
    }
   ],
   "source": [
    "total_tokens"
   ]
  },
  {
   "cell_type": "code",
   "execution_count": 27,
   "metadata": {},
   "outputs": [
    {
     "name": "stdout",
     "output_type": "stream",
     "text": [
      "The shape of all tokens in our corpus: (10662, 20)\n"
     ]
    }
   ],
   "source": [
    "print(\"The shape of all tokens in our corpus: ({}, {})\".format(*total_tokens.shape))"
   ]
  },
  {
   "cell_type": "code",
   "execution_count": 36,
   "metadata": {},
   "outputs": [],
   "source": [
    "# 转化为numpy格式，方便处理\n",
    "pos_targets = np.ones((pos_tokens.shape[0]))\n",
    "neg_targets = np.zeros((neg_tokens.shape[0]))"
   ]
  },
  {
   "cell_type": "code",
   "execution_count": 76,
   "metadata": {},
   "outputs": [
    {
     "data": {
      "text/plain": [
       "array([1., 1., 1., ..., 1., 1., 1.])"
      ]
     },
     "execution_count": 76,
     "metadata": {},
     "output_type": "execute_result"
    }
   ],
   "source": [
    "pos_targets"
   ]
  },
  {
   "cell_type": "code",
   "execution_count": 38,
   "metadata": {},
   "outputs": [],
   "source": [
    "# 合并所有target\n",
    "total_targets = np.concatenate((pos_targets, neg_targets), axis=0).reshape(-1, 1)"
   ]
  },
  {
   "cell_type": "code",
   "execution_count": 39,
   "metadata": {},
   "outputs": [
    {
     "name": "stdout",
     "output_type": "stream",
     "text": [
      "The shape of all targets in our corpus: (10662, 1)\n"
     ]
    }
   ],
   "source": [
    "print(\"The shape of all targets in our corpus: ({}, {})\".format(*total_targets.shape))"
   ]
  },
  {
   "cell_type": "markdown",
   "metadata": {},
   "source": [
    "## 构造词向量\n",
    "\n",
    "我们使用glove预训练好的词向量来做embedding:\n",
    "\n",
    "- 如果当前词没有对应词向量，则用随机数产生的向量替代\n",
    "- 如果当前词为< PAD >，则用0向量代替"
   ]
  },
  {
   "cell_type": "markdown",
   "metadata": {},
   "source": [
    "### 加载glove预训练词向量"
   ]
  },
  {
   "cell_type": "code",
   "execution_count": 43,
   "metadata": {},
   "outputs": [
    {
     "name": "stdout",
     "output_type": "stream",
     "text": [
      "10384\n"
     ]
    }
   ],
   "source": [
    "print(len(vocab))"
   ]
  },
  {
   "cell_type": "code",
   "execution_count": 44,
   "metadata": {},
   "outputs": [],
   "source": [
    "# 加载预训练好的glove词向量\n",
    "with open(\"/Users/james/Downloads/glove.6B/glove.6B.300d.txt\", 'r') as f:\n",
    "    words = set()\n",
    "    word_to_vec = {}\n",
    "    for line in f:\n",
    "        line = line.strip().split()\n",
    "        # 当前单词\n",
    "        curr_word = line[0]\n",
    "        words.add(curr_word)\n",
    "        # 当前词向量\n",
    "        word_to_vec[curr_word] = np.array(line[1:], dtype=np.float32)"
   ]
  },
  {
   "cell_type": "code",
   "execution_count": 45,
   "metadata": {},
   "outputs": [
    {
     "name": "stdout",
     "output_type": "stream",
     "text": [
      "The number of words which have pretrained-vectors in vocab is: 9801\n",
      "\n",
      "The number of words which do not have pretrained-vectors in vocab is : 583\n"
     ]
    }
   ],
   "source": [
    "print(\"The number of words which have pretrained-vectors in vocab is: {}\".format(len(set(vocab)&set(words))))\n",
    "print()\n",
    "print(\"The number of words which do not have pretrained-vectors in vocab is : {}\".format(len(set(vocab))-\n",
    "                                                                                         len(set(vocab)&set(words))))"
   ]
  },
  {
   "cell_type": "markdown",
   "metadata": {},
   "source": [
    "### 构造词向量矩阵"
   ]
  },
  {
   "cell_type": "code",
   "execution_count": 46,
   "metadata": {},
   "outputs": [],
   "source": [
    "VOCAB_SIZE = len(vocab)  # 10384\n",
    "EMBEDDING_SIZE = 300"
   ]
  },
  {
   "cell_type": "code",
   "execution_count": 47,
   "metadata": {},
   "outputs": [
    {
     "name": "stderr",
     "output_type": "stream",
     "text": [
      "100%|██████████| 10384/10384 [00:00<00:00, 38015.98it/s]\n"
     ]
    }
   ],
   "source": [
    "# 初始化词向量矩阵（这里命名为static是因为这个词向量矩阵用预训练好的填充，无需重新训练）\n",
    "static_embeddings = np.zeros([VOCAB_SIZE, EMBEDDING_SIZE])\n",
    "\n",
    "for word, token in tqdm.tqdm(word_to_token.items()):\n",
    "    # 用glove词向量填充，如果没有对应的词向量，则用随机数填充\n",
    "    word_vector = word_to_vec.get(word, 0.2 * np.random.random(EMBEDDING_SIZE) - 0.1)\n",
    "    static_embeddings[token, :] = word_vector\n",
    "\n",
    "# 重置PAD为0向量\n",
    "pad_id = word_to_token[\"<pad>\"]\n",
    "static_embeddings[pad_id, :] = np.zeros(EMBEDDING_SIZE)"
   ]
  },
  {
   "cell_type": "code",
   "execution_count": 48,
   "metadata": {},
   "outputs": [],
   "source": [
    "static_embeddings = static_embeddings.astype(np.float32)"
   ]
  },
  {
   "cell_type": "code",
   "execution_count": 50,
   "metadata": {
    "scrolled": true
   },
   "outputs": [
    {
     "data": {
      "text/plain": [
       "(10384, 300)"
      ]
     },
     "execution_count": 50,
     "metadata": {},
     "output_type": "execute_result"
    }
   ],
   "source": [
    "static_embeddings.shape"
   ]
  },
  {
   "cell_type": "markdown",
   "metadata": {},
   "source": [
    "## 辅助函数"
   ]
  },
  {
   "cell_type": "markdown",
   "metadata": {},
   "source": [
    "### 分割train和test"
   ]
  },
  {
   "cell_type": "code",
   "execution_count": 51,
   "metadata": {},
   "outputs": [
    {
     "data": {
      "text/plain": [
       "((10662, 20), (10662, 1))"
      ]
     },
     "execution_count": 51,
     "metadata": {},
     "output_type": "execute_result"
    }
   ],
   "source": [
    "total_tokens.shape, total_targets.shape"
   ]
  },
  {
   "cell_type": "code",
   "execution_count": 52,
   "metadata": {
    "scrolled": true
   },
   "outputs": [],
   "source": [
    "def split_train_test(x, y, train_ratio=0.8, shuffle=True):\n",
    "    \"\"\"\n",
    "    分割train和test\n",
    "    \n",
    "    @param x: 输入特征\n",
    "    @param y: 目标\n",
    "    @param train_ratio: 训练样本比例\n",
    "    @param shuffle: 是否shuffle\n",
    "    \"\"\"\n",
    "    assert x.shape[0] == y.shape[0],  print(\"error shape!\")\n",
    "    \n",
    "    if shuffle:\n",
    "        # shuffle\n",
    "        shuffled_index = np.random.permutation(range(x.shape[0]))\n",
    "        x = x[shuffled_index]\n",
    "        y = y[shuffled_index]\n",
    "    \n",
    "    # 分离train和test\n",
    "    train_size = int(x.shape[0] * train_ratio)\n",
    "    x_train = x[:train_size]\n",
    "    x_test = x[train_size:]\n",
    "    y_train = y[:train_size]\n",
    "    y_test = y[train_size:]\n",
    "    \n",
    "    return x_train, x_test, y_train, y_test"
   ]
  },
  {
   "cell_type": "code",
   "execution_count": 53,
   "metadata": {},
   "outputs": [],
   "source": [
    "# 划分train和test\n",
    "x_train, x_test, y_train, y_test = split_train_test(total_tokens, total_targets)"
   ]
  },
  {
   "cell_type": "markdown",
   "metadata": {},
   "source": [
    "### get_batch函数"
   ]
  },
  {
   "cell_type": "code",
   "execution_count": 59,
   "metadata": {},
   "outputs": [],
   "source": [
    "def get_batch(x, y, batch_size=BATCH_SIZE, shuffle=True):\n",
    "    assert x.shape[0] == y.shape[0], print(\"error shape!\")\n",
    "    # shuffle\n",
    "    if shuffle:\n",
    "        shuffled_index = np.random.permutation(range(x.shape[0]))\n",
    "\n",
    "        x = x[shuffled_index]\n",
    "        y = y[shuffled_index]\n",
    "    \n",
    "    # 统计共几个完整的batch\n",
    "    n_batches = int(x.shape[0] / batch_size)\n",
    "    \n",
    "    for i in range(n_batches - 1):\n",
    "        x_batch = x[i*batch_size: (i+1)*batch_size]\n",
    "        y_batch = y[i*batch_size: (i+1)*batch_size]\n",
    "    \n",
    "        yield x_batch, y_batch"
   ]
  },
  {
   "cell_type": "markdown",
   "metadata": {},
   "source": [
    "# DNN模型"
   ]
  },
  {
   "cell_type": "markdown",
   "metadata": {},
   "source": [
    "## 构建模型图\n",
    "\n",
    "<img src=\"images/dnn.png\" style=\"width:500;height:500px;\">"
   ]
  },
  {
   "cell_type": "code",
   "execution_count": 57,
   "metadata": {},
   "outputs": [],
   "source": [
    "# 清空图\n",
    "tf.reset_default_graph()"
   ]
  },
  {
   "cell_type": "code",
   "execution_count": 58,
   "metadata": {},
   "outputs": [],
   "source": [
    "# 定义神经网络超参数\n",
    "HIDDEN_SIZE = 512\n",
    "LEARNING_RATE = 0.001\n",
    "EPOCHES = 50\n",
    "BATCH_SIZE = 256"
   ]
  },
  {
   "cell_type": "code",
   "execution_count": 60,
   "metadata": {},
   "outputs": [],
   "source": [
    "with tf.name_scope(\"dnn\"):\n",
    "    # 输入及输出tensor\n",
    "    with tf.name_scope(\"placeholders\"):\n",
    "        inputs = tf.placeholder(dtype=tf.int32, shape=(None, SENTENCE_LIMIT_SIZE), name=\"inputs\")\n",
    "        targets = tf.placeholder(dtype=tf.float32, shape=(None, 1), name=\"targets\")\n",
    "    \n",
    "    # embeddings\n",
    "    with tf.name_scope(\"embeddings\"):\n",
    "        # 用pre-trained词向量来作为embedding层\n",
    "        embedding_matrix = tf.Variable(initial_value=static_embeddings, trainable=False, name=\"embedding_matrix\")\n",
    "        embed = tf.nn.embedding_lookup(embedding_matrix, inputs, name=\"embed\")\n",
    "        # 相加词向量得到句子向量\n",
    "        sum_embed = tf.reduce_sum(embed, axis=1, name=\"sum_embed\")\n",
    "        \n",
    "    # model\n",
    "    with tf.name_scope(\"model\"):\n",
    "        # 隐层权重\n",
    "        W1 = tf.Variable(tf.random_normal(shape=(EMBEDDING_SIZE, HIDDEN_SIZE), stddev=0.1), name=\"W1\")\n",
    "        b1 = tf.Variable(tf.zeros(shape=(HIDDEN_SIZE), name=\"b1\"))\n",
    "        \n",
    "        # 输出层权重\n",
    "        W2 = tf.Variable(tf.random_normal(shape=(HIDDEN_SIZE, 1), stddev=0.1), name=\"W2\")\n",
    "        b2 = tf.Variable(tf.zeros(shape=(1), name=\"b2\"))\n",
    "        \n",
    "        # 结果\n",
    "        z1 = tf.add(tf.matmul(sum_embed, W1), b1)\n",
    "        a1 = tf.nn.relu(z1)\n",
    "        \n",
    "        logits = tf.add(tf.matmul(a1, W2), b2)\n",
    "        outputs = tf.nn.sigmoid(logits, name=\"outputs\")\n",
    "    \n",
    "    # loss\n",
    "    with tf.name_scope(\"loss\"):\n",
    "        loss = tf.reduce_mean(tf.nn.sigmoid_cross_entropy_with_logits(labels=targets, logits=logits))\n",
    "    \n",
    "    # optimizer\n",
    "    with tf.name_scope(\"optimizer\"):\n",
    "        optimizer = tf.train.AdamOptimizer(LEARNING_RATE).minimize(loss)\n",
    "        \n",
    "    # evaluation\n",
    "    with tf.name_scope(\"evaluation\"):\n",
    "        correct_preds = tf.equal(tf.cast(tf.greater(outputs, 0.5), tf.float32), targets)\n",
    "        accuracy = tf.reduce_sum(tf.reduce_sum(tf.cast(correct_preds, tf.float32), axis=1))"
   ]
  },
  {
   "cell_type": "markdown",
   "metadata": {},
   "source": [
    "## 训练模型"
   ]
  },
  {
   "cell_type": "code",
   "execution_count": 61,
   "metadata": {},
   "outputs": [],
   "source": [
    "# 存储准确率\n",
    "dnn_train_accuracy = []\n",
    "dnn_test_accuracy = []"
   ]
  },
  {
   "cell_type": "code",
   "execution_count": 62,
   "metadata": {},
   "outputs": [],
   "source": [
    "saver = tf.train.Saver()"
   ]
  },
  {
   "cell_type": "code",
   "execution_count": 63,
   "metadata": {
    "scrolled": true
   },
   "outputs": [
    {
     "name": "stdout",
     "output_type": "stream",
     "text": [
      "Epoch: 1, Train loss: 1.2717, Train accuracy: 0.7020, Test accuracy: 0.6943\n",
      "Epoch: 2, Train loss: 0.6432, Train accuracy: 0.7283, Test accuracy: 0.6976\n",
      "Epoch: 3, Train loss: 0.5543, Train accuracy: 0.7504, Test accuracy: 0.6976\n",
      "Epoch: 4, Train loss: 0.5057, Train accuracy: 0.7589, Test accuracy: 0.7154\n",
      "Epoch: 5, Train loss: 0.4763, Train accuracy: 0.7884, Test accuracy: 0.7178\n",
      "Epoch: 6, Train loss: 0.4571, Train accuracy: 0.7982, Test accuracy: 0.7182\n",
      "Epoch: 7, Train loss: 0.4285, Train accuracy: 0.7807, Test accuracy: 0.6901\n",
      "Epoch: 8, Train loss: 0.4246, Train accuracy: 0.7934, Test accuracy: 0.7187\n",
      "Epoch: 9, Train loss: 0.3872, Train accuracy: 0.8446, Test accuracy: 0.7281\n",
      "Epoch: 10, Train loss: 0.3620, Train accuracy: 0.8479, Test accuracy: 0.7239\n",
      "Epoch: 11, Train loss: 0.3393, Train accuracy: 0.8363, Test accuracy: 0.7276\n",
      "Epoch: 12, Train loss: 0.3146, Train accuracy: 0.8890, Test accuracy: 0.7182\n",
      "Epoch: 13, Train loss: 0.2913, Train accuracy: 0.8958, Test accuracy: 0.7196\n",
      "Epoch: 14, Train loss: 0.2801, Train accuracy: 0.8778, Test accuracy: 0.7023\n",
      "Epoch: 15, Train loss: 0.2722, Train accuracy: 0.9170, Test accuracy: 0.7201\n",
      "Epoch: 16, Train loss: 0.2645, Train accuracy: 0.8333, Test accuracy: 0.6920\n",
      "Epoch: 17, Train loss: 0.2398, Train accuracy: 0.8979, Test accuracy: 0.7154\n",
      "Epoch: 18, Train loss: 0.2209, Train accuracy: 0.9179, Test accuracy: 0.7206\n",
      "Epoch: 19, Train loss: 0.2432, Train accuracy: 0.9550, Test accuracy: 0.7220\n",
      "Epoch: 20, Train loss: 0.2155, Train accuracy: 0.9517, Test accuracy: 0.7248\n",
      "Epoch: 21, Train loss: 0.1623, Train accuracy: 0.9554, Test accuracy: 0.7220\n",
      "Epoch: 22, Train loss: 0.1608, Train accuracy: 0.9652, Test accuracy: 0.7178\n",
      "Epoch: 23, Train loss: 0.1333, Train accuracy: 0.9726, Test accuracy: 0.7229\n",
      "Epoch: 24, Train loss: 0.1266, Train accuracy: 0.9842, Test accuracy: 0.7248\n",
      "Epoch: 25, Train loss: 0.1200, Train accuracy: 0.9836, Test accuracy: 0.7178\n",
      "Epoch: 26, Train loss: 0.1021, Train accuracy: 0.9906, Test accuracy: 0.7271\n",
      "Epoch: 27, Train loss: 0.0923, Train accuracy: 0.9927, Test accuracy: 0.7267\n",
      "Epoch: 28, Train loss: 0.0855, Train accuracy: 0.9938, Test accuracy: 0.7295\n",
      "Epoch: 29, Train loss: 0.0830, Train accuracy: 0.9948, Test accuracy: 0.7253\n",
      "Epoch: 30, Train loss: 0.0738, Train accuracy: 0.9958, Test accuracy: 0.7239\n",
      "Epoch: 31, Train loss: 0.0651, Train accuracy: 0.9967, Test accuracy: 0.7309\n",
      "Epoch: 32, Train loss: 0.0609, Train accuracy: 0.9971, Test accuracy: 0.7262\n",
      "Epoch: 33, Train loss: 0.0577, Train accuracy: 0.9974, Test accuracy: 0.7215\n",
      "Epoch: 34, Train loss: 0.0543, Train accuracy: 0.9981, Test accuracy: 0.7243\n",
      "Epoch: 35, Train loss: 0.0475, Train accuracy: 0.9948, Test accuracy: 0.7145\n",
      "Epoch: 36, Train loss: 0.0474, Train accuracy: 0.9984, Test accuracy: 0.7295\n",
      "Epoch: 37, Train loss: 0.0418, Train accuracy: 0.9992, Test accuracy: 0.7309\n",
      "Epoch: 38, Train loss: 0.0370, Train accuracy: 0.9994, Test accuracy: 0.7286\n",
      "Epoch: 39, Train loss: 0.0347, Train accuracy: 0.9994, Test accuracy: 0.7196\n",
      "Epoch: 40, Train loss: 0.0321, Train accuracy: 0.9994, Test accuracy: 0.7243\n",
      "Epoch: 41, Train loss: 0.0290, Train accuracy: 0.9998, Test accuracy: 0.7262\n",
      "Epoch: 42, Train loss: 0.0270, Train accuracy: 0.9998, Test accuracy: 0.7271\n",
      "Epoch: 43, Train loss: 0.0256, Train accuracy: 0.9999, Test accuracy: 0.7276\n",
      "Epoch: 44, Train loss: 0.0232, Train accuracy: 0.9999, Test accuracy: 0.7281\n",
      "Epoch: 45, Train loss: 0.0218, Train accuracy: 0.9999, Test accuracy: 0.7243\n",
      "Epoch: 46, Train loss: 0.0206, Train accuracy: 1.0000, Test accuracy: 0.7286\n",
      "Epoch: 47, Train loss: 0.0188, Train accuracy: 1.0000, Test accuracy: 0.7286\n",
      "Epoch: 48, Train loss: 0.0184, Train accuracy: 1.0000, Test accuracy: 0.7239\n",
      "Epoch: 49, Train loss: 0.0182, Train accuracy: 1.0000, Test accuracy: 0.7276\n",
      "Epoch: 50, Train loss: 0.0161, Train accuracy: 1.0000, Test accuracy: 0.7295\n"
     ]
    }
   ],
   "source": [
    "with tf.Session() as sess:\n",
    "    sess.run(tf.global_variables_initializer())\n",
    "    \n",
    "    writer = tf.summary.FileWriter(\"./graphs/dnn\", tf.get_default_graph())\n",
    "    \n",
    "    n_batches = int(x_train.shape[0] / BATCH_SIZE)\n",
    "    \n",
    "    for epoch in range(EPOCHES):\n",
    "        total_loss = 0\n",
    "        \n",
    "        for x_batch, y_batch in get_batch(x_train, y_train):\n",
    "            _, batch_loss = sess.run([optimizer, loss],\n",
    "                                     feed_dict={inputs: x_batch, targets: y_batch})\n",
    "            \n",
    "            total_loss += batch_loss\n",
    "        \n",
    "        # 在train上准确率\n",
    "        train_corrects = sess.run(accuracy, feed_dict={inputs: x_train, targets: y_train})\n",
    "        train_acc = train_corrects / x_train.shape[0]\n",
    "        dnn_train_accuracy.append(train_acc)\n",
    "        \n",
    "        # 在test上准确率\n",
    "        test_corrects = sess.run(accuracy, feed_dict={inputs: x_test, targets: y_test})\n",
    "        test_acc = test_corrects / x_test.shape[0]\n",
    "        dnn_test_accuracy.append(test_acc)\n",
    "        \n",
    "        print(\"Epoch: {}, Train loss: {:.4f}, Train accuracy: {:.4f}, Test accuracy: {:.4f}\".format(epoch + 1, \n",
    "                                                                                                    total_loss/n_batches,\n",
    "                                                                                                    train_acc,\n",
    "                                                                                                    test_acc))\n",
    "    # 存储模型\n",
    "    saver.save(sess, \"./checkpoints/dnn\")\n",
    "    writer.close()"
   ]
  },
  {
   "cell_type": "code",
   "execution_count": 64,
   "metadata": {},
   "outputs": [
    {
     "data": {
      "text/plain": [
       "<matplotlib.legend.Legend at 0x1825666b00>"
      ]
     },
     "execution_count": 64,
     "metadata": {},
     "output_type": "execute_result"
    },
    {
     "data": {
      "image/png": "[encoded data removed]",
      "text/plain": [
       "<matplotlib.figure.Figure at 0x10b239e10>"
      ]
     },
     "metadata": {},
     "output_type": "display_data"
    }
   ],
   "source": [
    "plt.plot(dnn_train_accuracy)\n",
    "plt.plot(dnn_test_accuracy)\n",
    "plt.ylim(ymin=0.5, ymax=1.01)\n",
    "plt.title(\"The accuracy of DNN model\")\n",
    "plt.legend([\"train\", \"test\"])"
   ]
  },
  {
   "cell_type": "markdown",
   "metadata": {},
   "source": [
    "## 预测模型"
   ]
  },
  {
   "cell_type": "code",
   "execution_count": 65,
   "metadata": {},
   "outputs": [
    {
     "name": "stdout",
     "output_type": "stream",
     "text": [
      "INFO:tensorflow:Restoring parameters from checkpoints/dnn\n",
      "The DNN model accuracy on test set: 72.95%\n"
     ]
    }
   ],
   "source": [
    "# 在test上的准确率\n",
    "with tf.Session() as sess:\n",
    "    saver.restore(sess, \"checkpoints/dnn\")\n",
    "    \n",
    "    total_correct = 0\n",
    "    acc = sess.run(accuracy,\n",
    "                    feed_dict={inputs: x_test, \n",
    "                                targets: y_test})\n",
    "    total_correct += acc\n",
    "    print(\"The DNN model accuracy on test set: {:.2f}%\".format(100* total_correct / x_test.shape[0]))"
   ]
  },
  {
   "cell_type": "markdown",
   "metadata": {},
   "source": [
    "在命令行执行tensorboard --logdir=\"./graphs/dnn\" --port 6006可以看到模型的tensorboard\n",
    "\n",
    "<img src=\"images/dnn-tensorboard.png\" style=\"width:500;height:500px;\">"
   ]
  },
  {
   "cell_type": "markdown",
   "metadata": {},
   "source": [
    "# RNN模型"
   ]
  },
  {
   "cell_type": "markdown",
   "metadata": {},
   "source": [
    "## 构建模型图"
   ]
  },
  {
   "cell_type": "code",
   "execution_count": 66,
   "metadata": {},
   "outputs": [],
   "source": [
    "# 清空图\n",
    "tf.reset_default_graph()"
   ]
  },
  {
   "cell_type": "code",
   "execution_count": 67,
   "metadata": {},
   "outputs": [],
   "source": [
    "# 定义网络超参数\n",
    "HIDDEN_SIZE = 512\n",
    "LEARNING_RATE = 0.001\n",
    "KEEP_PROB = 0.5\n",
    "EPOCHES = 50\n",
    "BATCH_SIZE = 256"
   ]
  },
  {
   "cell_type": "code",
   "execution_count": 61,
   "metadata": {
    "collapsed": true
   },
   "outputs": [],
   "source": [
    "with tf.name_scope(\"rnn\"):\n",
    "    # placeholders\n",
    "    with tf.name_scope(\"placeholders\"):\n",
    "        inputs = tf.placeholder(dtype=tf.int32, shape=(None, 20), name=\"inputs\")\n",
    "        targets = tf.placeholder(dtype=tf.float32, shape=(None, 1), name=\"targets\")\n",
    "    \n",
    "    # embeddings\n",
    "    with tf.name_scope(\"embeddings\"):\n",
    "        embedding_matrix = tf.Variable(initial_value=static_embeddings, trainable=False, name=\"embedding_matrix\")\n",
    "        embed = tf.nn.embedding_lookup(embedding_matrix, inputs, name=\"embed\")\n",
    "    \n",
    "    # model\n",
    "    with tf.name_scope(\"model\"):\n",
    "        # 构造lstm单元\n",
    "        lstm = tf.contrib.rnn.LSTMCell(HIDDEN_SIZE, initializer=tf.random_uniform_initializer(-0.1, 0.1, seed=123))\n",
    "        # 添加dropout\n",
    "        drop_lstm = tf.contrib.rnn.DropoutWrapper(lstm, output_keep_prob=KEEP_PROB)\n",
    "        _, lstm_state = tf.nn.dynamic_rnn(drop_lstm, embed, dtype=tf.float32)\n",
    "        \n",
    "        # 输出层权重\n",
    "        W = tf.Variable(tf.truncated_normal((HIDDEN_SIZE, 1), mean=0.0, stddev=0.1), name=\"W\")\n",
    "        b = tf.Variable(tf.zeros(1), name=\"b\")\n",
    "        \n",
    "        logits = tf.add(tf.matmul(lstm_state.h, W), b)\n",
    "        outputs = tf.nn.sigmoid(logits, name=\"outputs\")\n",
    "        \n",
    "        loss = tf.reduce_mean(tf.nn.sigmoid_cross_entropy_with_logits(labels=targets, logits=logits))\n",
    "    \n",
    "    # optimizer\n",
    "    with tf.name_scope(\"optimizer\"):\n",
    "        optimizer = tf.train.AdamOptimizer(LEARNING_RATE).minimize(loss)\n",
    "    \n",
    "    # evaluation\n",
    "    with tf.name_scope(\"evaluation\"):\n",
    "        correct_preds = tf.equal(tf.cast(tf.greater(outputs, 0.5), tf.float32), targets)\n",
    "        accuracy = tf.reduce_sum(tf.reduce_sum(tf.cast(correct_preds, tf.float32), axis=1))"
   ]
  },
  {
   "cell_type": "markdown",
   "metadata": {},
   "source": [
    "## 训练模型"
   ]
  },
  {
   "cell_type": "code",
   "execution_count": 62,
   "metadata": {
    "collapsed": true
   },
   "outputs": [],
   "source": [
    "# 存储准确率\n",
    "rnn_train_accuracy = []\n",
    "rnn_test_accuracy = []"
   ]
  },
  {
   "cell_type": "code",
   "execution_count": 63,
   "metadata": {
    "collapsed": true
   },
   "outputs": [],
   "source": [
    "saver = tf.train.Saver()"
   ]
  },
  {
   "cell_type": "code",
   "execution_count": 64,
   "metadata": {
    "scrolled": true
   },
   "outputs": [
    {
     "name": "stdout",
     "output_type": "stream",
     "text": [
      "Training epoch: 1, Train loss: 1.2306, Train accuracy: 0.7559, Test accuracy: 0.7318\n",
      "Training epoch: 2, Train loss: 0.9780, Train accuracy: 0.7838, Test accuracy: 0.7309\n",
      "Training epoch: 3, Train loss: 0.9003, Train accuracy: 0.8061, Test accuracy: 0.7314\n",
      "Training epoch: 4, Train loss: 0.8172, Train accuracy: 0.8483, Test accuracy: 0.7417\n",
      "Training epoch: 5, Train loss: 0.7124, Train accuracy: 0.8801, Test accuracy: 0.7407\n",
      "Training epoch: 6, Train loss: 0.5750, Train accuracy: 0.8792, Test accuracy: 0.7159\n",
      "Training epoch: 7, Train loss: 0.5087, Train accuracy: 0.9417, Test accuracy: 0.7290\n",
      "Training epoch: 8, Train loss: 0.3743, Train accuracy: 0.9546, Test accuracy: 0.7267\n",
      "Training epoch: 9, Train loss: 0.2559, Train accuracy: 0.9730, Test accuracy: 0.7346\n",
      "Training epoch: 10, Train loss: 0.1711, Train accuracy: 0.9757, Test accuracy: 0.7239\n",
      "Training epoch: 11, Train loss: 0.1832, Train accuracy: 0.9811, Test accuracy: 0.7243\n",
      "Training epoch: 12, Train loss: 0.1170, Train accuracy: 0.9852, Test accuracy: 0.7426\n",
      "Training epoch: 13, Train loss: 0.1123, Train accuracy: 0.9842, Test accuracy: 0.7135\n",
      "Training epoch: 14, Train loss: 0.0771, Train accuracy: 0.9906, Test accuracy: 0.7328\n",
      "Training epoch: 15, Train loss: 0.0751, Train accuracy: 0.9960, Test accuracy: 0.7337\n",
      "Training epoch: 16, Train loss: 0.0340, Train accuracy: 0.9982, Test accuracy: 0.7257\n",
      "Training epoch: 17, Train loss: 0.0345, Train accuracy: 0.9964, Test accuracy: 0.7135\n",
      "Training epoch: 18, Train loss: 0.0471, Train accuracy: 0.9964, Test accuracy: 0.7314\n",
      "Training epoch: 19, Train loss: 0.0430, Train accuracy: 0.9966, Test accuracy: 0.7337\n",
      "Training epoch: 20, Train loss: 0.0559, Train accuracy: 0.9970, Test accuracy: 0.7271\n",
      "Training epoch: 21, Train loss: 0.0476, Train accuracy: 0.9921, Test accuracy: 0.7239\n",
      "Training epoch: 22, Train loss: 0.0535, Train accuracy: 0.9937, Test accuracy: 0.7356\n",
      "Training epoch: 23, Train loss: 0.0551, Train accuracy: 0.9965, Test accuracy: 0.7271\n",
      "Training epoch: 24, Train loss: 0.0316, Train accuracy: 0.9950, Test accuracy: 0.7281\n",
      "Training epoch: 25, Train loss: 0.0343, Train accuracy: 0.9984, Test accuracy: 0.7389\n",
      "Training epoch: 26, Train loss: 0.0303, Train accuracy: 0.9972, Test accuracy: 0.7337\n",
      "Training epoch: 27, Train loss: 0.0344, Train accuracy: 0.9978, Test accuracy: 0.7318\n",
      "Training epoch: 28, Train loss: 0.0239, Train accuracy: 0.9992, Test accuracy: 0.7398\n",
      "Training epoch: 29, Train loss: 0.0132, Train accuracy: 0.9992, Test accuracy: 0.7276\n",
      "Training epoch: 30, Train loss: 0.0097, Train accuracy: 0.9995, Test accuracy: 0.7379\n",
      "Training epoch: 31, Train loss: 0.0216, Train accuracy: 0.9948, Test accuracy: 0.7393\n",
      "Training epoch: 32, Train loss: 0.0242, Train accuracy: 0.9968, Test accuracy: 0.7300\n",
      "Training epoch: 33, Train loss: 0.0374, Train accuracy: 0.9960, Test accuracy: 0.7332\n",
      "Training epoch: 34, Train loss: 0.0301, Train accuracy: 0.9968, Test accuracy: 0.7379\n",
      "Training epoch: 35, Train loss: 0.0320, Train accuracy: 0.9984, Test accuracy: 0.7318\n",
      "Training epoch: 36, Train loss: 0.0186, Train accuracy: 0.9994, Test accuracy: 0.7450\n",
      "Training epoch: 37, Train loss: 0.0033, Train accuracy: 1.0000, Test accuracy: 0.7356\n",
      "Training epoch: 38, Train loss: 0.0014, Train accuracy: 1.0000, Test accuracy: 0.7389\n",
      "Training epoch: 39, Train loss: 0.0004, Train accuracy: 1.0000, Test accuracy: 0.7361\n",
      "Training epoch: 40, Train loss: 0.0002, Train accuracy: 1.0000, Test accuracy: 0.7370\n",
      "Training epoch: 41, Train loss: 0.0002, Train accuracy: 1.0000, Test accuracy: 0.7346\n",
      "Training epoch: 42, Train loss: 0.0001, Train accuracy: 1.0000, Test accuracy: 0.7346\n",
      "Training epoch: 43, Train loss: 0.0001, Train accuracy: 1.0000, Test accuracy: 0.7351\n",
      "Training epoch: 44, Train loss: 0.0001, Train accuracy: 1.0000, Test accuracy: 0.7346\n",
      "Training epoch: 45, Train loss: 0.0001, Train accuracy: 1.0000, Test accuracy: 0.7346\n",
      "Training epoch: 46, Train loss: 0.0001, Train accuracy: 1.0000, Test accuracy: 0.7351\n",
      "Training epoch: 47, Train loss: 0.0001, Train accuracy: 1.0000, Test accuracy: 0.7351\n",
      "Training epoch: 48, Train loss: 0.0001, Train accuracy: 1.0000, Test accuracy: 0.7346\n",
      "Training epoch: 49, Train loss: 0.0001, Train accuracy: 1.0000, Test accuracy: 0.7342\n",
      "Training epoch: 50, Train loss: 0.0001, Train accuracy: 1.0000, Test accuracy: 0.7337\n"
     ]
    }
   ],
   "source": [
    "with tf.Session() as sess:\n",
    "    sess.run(tf.global_variables_initializer())\n",
    "    \n",
    "    writer = tf.summary.FileWriter(\"./graphs/rnn\", tf.get_default_graph())\n",
    "    n_batches = int(x_train.shape[0] / BATCH_SIZE)\n",
    "    \n",
    "    for epoch in range(EPOCHES):\n",
    "        total_loss = 0\n",
    "        for x_batch, y_batch in get_batch(x_train, y_train):\n",
    "            _, l = sess.run([optimizer, loss],\n",
    "                            feed_dict={inputs: x_batch, \n",
    "                                       targets: y_batch})\n",
    "            total_loss += l\n",
    "        \n",
    "        train_corrects = sess.run(accuracy, feed_dict={inputs: x_train, targets: y_train})\n",
    "        train_acc = train_corrects / x_train.shape[0]\n",
    "        rnn_train_accuracy.append(train_acc)\n",
    "\n",
    "        test_corrects = sess.run(accuracy, feed_dict={inputs: x_test, targets: y_test})\n",
    "        test_acc = test_corrects / x_test.shape[0]\n",
    "        rnn_test_accuracy.append(test_acc)\n",
    "\n",
    "        \n",
    "        print(\"Training epoch: {}, Train loss: {:.4f}, Train accuracy: {:.4f}, Test accuracy: {:.4f}\".format(epoch + 1, \n",
    "                                                                                                             total_loss / n_batches,\n",
    "                                                                                                             train_acc,\n",
    "                                                                                                             test_acc))\n",
    "    \n",
    "    saver.save(sess, \"checkpoints/rnn\")\n",
    "    writer.close()"
   ]
  },
  {
   "cell_type": "code",
   "execution_count": 66,
   "metadata": {},
   "outputs": [
    {
     "data": {
      "text/plain": [
       "<matplotlib.legend.Legend at 0x1820f5a6d8>"
      ]
     },
     "execution_count": 66,
     "metadata": {},
     "output_type": "execute_result"
    },
    {
     "data": {
      "image/png": "[encoded data removed]",
      "text/plain": [
       "<matplotlib.figure.Figure at 0x1828d18fd0>"
      ]
     },
     "metadata": {},
     "output_type": "display_data"
    }
   ],
   "source": [
    "plt.plot(rnn_train_accuracy)\n",
    "plt.plot(rnn_test_accuracy)\n",
    "plt.ylim(ymin=0.5, ymax=1.01)\n",
    "plt.title(\"The accuracy of LSTM model\")\n",
    "plt.legend([\"train\", \"test\"])"
   ]
  },
  {
   "cell_type": "markdown",
   "metadata": {},
   "source": [
    "## 预测模型"
   ]
  },
  {
   "cell_type": "code",
   "execution_count": 67,
   "metadata": {},
   "outputs": [
    {
     "name": "stdout",
     "output_type": "stream",
     "text": [
      "INFO:tensorflow:Restoring parameters from checkpoints/rnn\n",
      "The LSTM model accuracy on test set: 73.37%\n"
     ]
    }
   ],
   "source": [
    "# 在test上的准确率\n",
    "with tf.Session() as sess:\n",
    "    saver.restore(sess, \"checkpoints/rnn\")\n",
    "    \n",
    "    total_correct = sess.run(accuracy,\n",
    "                             feed_dict={inputs: x_test, targets: y_test})\n",
    "\n",
    "    print(\"The LSTM model accuracy on test set: {:.2f}%\".format(100* total_correct / x_test.shape[0]))"
   ]
  },
  {
   "cell_type": "markdown",
   "metadata": {},
   "source": [
    "在命令行执行tensorboard --logdir=\"./graphs/rnn\" --port 6006可以看到模型的tensorboard\n",
    "\n",
    "<img src=\"images/lstm-tensorboard.png\" style=\"width:500;height:500px;\">"
   ]
  },
  {
   "cell_type": "markdown",
   "metadata": {},
   "source": [
    "# CNN模型"
   ]
  },
  {
   "cell_type": "code",
   "execution_count": 69,
   "metadata": {
    "collapsed": true
   },
   "outputs": [],
   "source": [
    "# 清空图\n",
    "tf.reset_default_graph()"
   ]
  },
  {
   "cell_type": "code",
   "execution_count": 70,
   "metadata": {
    "collapsed": true
   },
   "outputs": [],
   "source": [
    "# 我在这里定义了5种filter，每种100个\n",
    "filters_size = [2, 3, 4, 5, 6]\n",
    "num_filters = 100\n",
    "# 超参数\n",
    "BATCH_SIZE = 256\n",
    "EPOCHES = 50\n",
    "LEARNING_RATE = 0.001\n",
    "L2_LAMBDA = 10\n",
    "KEEP_PROB = 0.8"
   ]
  },
  {
   "cell_type": "markdown",
   "metadata": {},
   "source": [
    "## 构建模型图"
   ]
  },
  {
   "cell_type": "code",
   "execution_count": 71,
   "metadata": {
    "collapsed": true
   },
   "outputs": [],
   "source": [
    "with tf.name_scope(\"cnn\"):\n",
    "    with tf.name_scope(\"placeholders\"):\n",
    "        inputs = tf.placeholder(dtype=tf.int32, shape=(None, 20), name=\"inputs\")\n",
    "        targets = tf.placeholder(dtype=tf.float32, shape=(None, 1), name=\"targets\")\n",
    "    \n",
    "    # embeddings\n",
    "    with tf.name_scope(\"embeddings\"):\n",
    "        embedding_matrix = tf.Variable(initial_value=static_embeddings, trainable=False, name=\"embedding_matrix\")\n",
    "        embed = tf.nn.embedding_lookup(embedding_matrix, inputs, name=\"embed\")\n",
    "        # 添加channel维度\n",
    "        embed_expanded = tf.expand_dims(embed, -1, name=\"embed_expand\")\n",
    "    \n",
    "    # 用来存储max-pooling的结果\n",
    "    pooled_outputs = []\n",
    "\n",
    "    # 迭代多个filter\n",
    "    for i, filter_size in enumerate(filters_size):\n",
    "        with tf.name_scope(\"conv_maxpool_%s\" % filter_size):\n",
    "            filter_shape = [filter_size, EMBEDDING_SIZE, 1, num_filters]\n",
    "            W = tf.Variable(tf.truncated_normal(filter_shape, mean=0.0, stddev=0.1), name=\"W\")\n",
    "            b = tf.Variable(tf.zeros(num_filters), name=\"b\")\n",
    "\n",
    "            conv = tf.nn.conv2d(input=embed_expanded, \n",
    "                                 filter=W, \n",
    "                                 strides=[1, 1, 1, 1], \n",
    "                                 padding=\"VALID\",\n",
    "                                 name=\"conv\")\n",
    "\n",
    "            # 激活\n",
    "            a = tf.nn.relu(tf.nn.bias_add(conv, b), name=\"activations\")\n",
    "            # 池化\n",
    "            max_pooling = tf.nn.max_pool(value=a, \n",
    "                                    ksize=[1, SENTENCE_LIMIT_SIZE - filter_size + 1, 1, 1],\n",
    "                                    strides=[1, 1, 1, 1],\n",
    "                                    padding=\"VALID\",\n",
    "                                    name=\"max_pooling\")\n",
    "            pooled_outputs.append(max_pooling)\n",
    "    \n",
    "    # 统计所有的filter\n",
    "    total_filters = num_filters * len(filters_size)\n",
    "    total_pool = tf.concat(pooled_outputs, 3)\n",
    "    flattend_pool = tf.reshape(total_pool, (-1, total_filters))\n",
    "    \n",
    "    # dropout\n",
    "    with tf.name_scope(\"dropout\"):\n",
    "        dropout = tf.nn.dropout(flattend_pool, KEEP_PROB)\n",
    "    \n",
    "    # output\n",
    "    with tf.name_scope(\"output\"):\n",
    "        W = tf.get_variable(\"W\", shape=(total_filters, 1), initializer=tf.contrib.layers.xavier_initializer())\n",
    "        b = tf.Variable(tf.zeros(1), name=\"b\")\n",
    "        \n",
    "        logits = tf.add(tf.matmul(dropout, W), b)\n",
    "        predictions = tf.nn.sigmoid(logits, name=\"predictions\")\n",
    "    \n",
    "    # loss\n",
    "    with tf.name_scope(\"loss\"):\n",
    "        loss = tf.reduce_mean(tf.nn.sigmoid_cross_entropy_with_logits(labels=targets, logits=logits))\n",
    "        loss = loss + L2_LAMBDA * tf.nn.l2_loss(W)\n",
    "        optimizer = tf.train.AdamOptimizer(LEARNING_RATE).minimize(loss)\n",
    "    \n",
    "    # evaluation\n",
    "    with tf.name_scope(\"evaluation\"):\n",
    "        correct_preds = tf.equal(tf.cast(tf.greater(predictions, 0.5), tf.float32), targets)\n",
    "        accuracy = tf.reduce_sum(tf.reduce_sum(tf.cast(correct_preds, tf.float32), axis=1))"
   ]
  },
  {
   "cell_type": "markdown",
   "metadata": {},
   "source": [
    "## 训练模型"
   ]
  },
  {
   "cell_type": "code",
   "execution_count": 72,
   "metadata": {
    "collapsed": true
   },
   "outputs": [],
   "source": [
    "# 存储准确率\n",
    "cnn_train_accuracy = []\n",
    "cnn_test_accuracy = []"
   ]
  },
  {
   "cell_type": "code",
   "execution_count": 73,
   "metadata": {
    "collapsed": true
   },
   "outputs": [],
   "source": [
    "saver = tf.train.Saver()"
   ]
  },
  {
   "cell_type": "code",
   "execution_count": 74,
   "metadata": {},
   "outputs": [
    {
     "name": "stdout",
     "output_type": "stream",
     "text": [
      "Training epoch: 1, Training loss: 9.8113, Train accuracy: 0.7357, Test accuracy: 0.6714\n",
      "Training epoch: 2, Training loss: 2.0410, Train accuracy: 0.7422, Test accuracy: 0.6934\n",
      "Training epoch: 3, Training loss: 1.3115, Train accuracy: 0.7473, Test accuracy: 0.7145\n",
      "Training epoch: 4, Training loss: 1.2251, Train accuracy: 0.7541, Test accuracy: 0.7267\n",
      "Training epoch: 5, Training loss: 1.1713, Train accuracy: 0.7769, Test accuracy: 0.7365\n",
      "Training epoch: 6, Training loss: 1.1336, Train accuracy: 0.7769, Test accuracy: 0.7304\n",
      "Training epoch: 7, Training loss: 1.0963, Train accuracy: 0.7822, Test accuracy: 0.7375\n",
      "Training epoch: 8, Training loss: 1.0792, Train accuracy: 0.7958, Test accuracy: 0.7346\n",
      "Training epoch: 9, Training loss: 1.0572, Train accuracy: 0.7959, Test accuracy: 0.7393\n",
      "Training epoch: 10, Training loss: 1.0346, Train accuracy: 0.8023, Test accuracy: 0.7412\n",
      "Training epoch: 11, Training loss: 1.0174, Train accuracy: 0.8105, Test accuracy: 0.7403\n",
      "Training epoch: 12, Training loss: 1.0075, Train accuracy: 0.8152, Test accuracy: 0.7454\n",
      "Training epoch: 13, Training loss: 0.9843, Train accuracy: 0.8207, Test accuracy: 0.7450\n",
      "Training epoch: 14, Training loss: 0.9795, Train accuracy: 0.8244, Test accuracy: 0.7403\n",
      "Training epoch: 15, Training loss: 0.9687, Train accuracy: 0.8299, Test accuracy: 0.7436\n",
      "Training epoch: 16, Training loss: 0.9538, Train accuracy: 0.8268, Test accuracy: 0.7450\n",
      "Training epoch: 17, Training loss: 0.9350, Train accuracy: 0.8336, Test accuracy: 0.7426\n",
      "Training epoch: 18, Training loss: 0.9231, Train accuracy: 0.8478, Test accuracy: 0.7539\n",
      "Training epoch: 19, Training loss: 0.9122, Train accuracy: 0.8378, Test accuracy: 0.7506\n",
      "Training epoch: 20, Training loss: 0.8911, Train accuracy: 0.8571, Test accuracy: 0.7501\n",
      "Training epoch: 21, Training loss: 0.8844, Train accuracy: 0.8560, Test accuracy: 0.7431\n",
      "Training epoch: 22, Training loss: 0.8751, Train accuracy: 0.8615, Test accuracy: 0.7473\n",
      "Training epoch: 23, Training loss: 0.8638, Train accuracy: 0.8747, Test accuracy: 0.7506\n",
      "Training epoch: 24, Training loss: 0.8531, Train accuracy: 0.8763, Test accuracy: 0.7496\n",
      "Training epoch: 25, Training loss: 0.8400, Train accuracy: 0.8812, Test accuracy: 0.7557\n",
      "Training epoch: 26, Training loss: 0.8325, Train accuracy: 0.8661, Test accuracy: 0.7459\n",
      "Training epoch: 27, Training loss: 0.8292, Train accuracy: 0.8904, Test accuracy: 0.7586\n",
      "Training epoch: 28, Training loss: 0.8086, Train accuracy: 0.8934, Test accuracy: 0.7557\n",
      "Training epoch: 29, Training loss: 0.8017, Train accuracy: 0.8940, Test accuracy: 0.7529\n",
      "Training epoch: 30, Training loss: 0.7952, Train accuracy: 0.8967, Test accuracy: 0.7478\n",
      "Training epoch: 31, Training loss: 0.7855, Train accuracy: 0.9036, Test accuracy: 0.7557\n",
      "Training epoch: 32, Training loss: 0.7715, Train accuracy: 0.9121, Test accuracy: 0.7567\n",
      "Training epoch: 33, Training loss: 0.7681, Train accuracy: 0.9150, Test accuracy: 0.7562\n",
      "Training epoch: 34, Training loss: 0.7597, Train accuracy: 0.9186, Test accuracy: 0.7567\n",
      "Training epoch: 35, Training loss: 0.7450, Train accuracy: 0.9176, Test accuracy: 0.7567\n",
      "Training epoch: 36, Training loss: 0.7394, Train accuracy: 0.8947, Test accuracy: 0.7407\n",
      "Training epoch: 37, Training loss: 0.7420, Train accuracy: 0.9238, Test accuracy: 0.7492\n",
      "Training epoch: 38, Training loss: 0.7263, Train accuracy: 0.9261, Test accuracy: 0.7506\n",
      "Training epoch: 39, Training loss: 0.7179, Train accuracy: 0.9311, Test accuracy: 0.7590\n",
      "Training epoch: 40, Training loss: 0.7036, Train accuracy: 0.9326, Test accuracy: 0.7567\n",
      "Training epoch: 41, Training loss: 0.6992, Train accuracy: 0.9309, Test accuracy: 0.7482\n",
      "Training epoch: 42, Training loss: 0.6908, Train accuracy: 0.9408, Test accuracy: 0.7553\n",
      "Training epoch: 43, Training loss: 0.6830, Train accuracy: 0.9434, Test accuracy: 0.7529\n",
      "Training epoch: 44, Training loss: 0.6694, Train accuracy: 0.9420, Test accuracy: 0.7539\n",
      "Training epoch: 45, Training loss: 0.6746, Train accuracy: 0.9489, Test accuracy: 0.7529\n",
      "Training epoch: 46, Training loss: 0.6562, Train accuracy: 0.9472, Test accuracy: 0.7586\n",
      "Training epoch: 47, Training loss: 0.6485, Train accuracy: 0.9538, Test accuracy: 0.7647\n",
      "Training epoch: 48, Training loss: 0.6464, Train accuracy: 0.9566, Test accuracy: 0.7586\n",
      "Training epoch: 49, Training loss: 0.6325, Train accuracy: 0.9567, Test accuracy: 0.7478\n",
      "Training epoch: 50, Training loss: 0.6259, Train accuracy: 0.9601, Test accuracy: 0.7604\n"
     ]
    }
   ],
   "source": [
    "with tf.Session() as sess:\n",
    "    sess.run(tf.global_variables_initializer())\n",
    "    \n",
    "    writer = tf.summary.FileWriter(\"./graphs/cnn\", tf.get_default_graph())\n",
    "    n_batches = int(x_train.shape[0] / BATCH_SIZE)\n",
    "    \n",
    "    for epoch in range(EPOCHES):\n",
    "        total_loss = 0\n",
    "        for x_batch, y_batch in get_batch(x_train, y_train):\n",
    "            _, l = sess.run([optimizer, loss],\n",
    "                            feed_dict={inputs: x_batch, \n",
    "                                       targets: y_batch})\n",
    "            total_loss += l\n",
    "        \n",
    "        train_corrects = sess.run(accuracy, feed_dict={inputs: x_train, targets: y_train})\n",
    "        train_acc = train_corrects / x_train.shape[0]\n",
    "        cnn_train_accuracy.append(train_acc)\n",
    "        \n",
    "        test_corrects = sess.run(accuracy, feed_dict={inputs: x_test, targets: y_test})\n",
    "        test_acc = test_corrects / x_test.shape[0]\n",
    "        cnn_test_accuracy.append(test_acc)\n",
    "        \n",
    "        print(\"Training epoch: {}, Training loss: {:.4f}, Train accuracy: {:.4f}, Test accuracy: {:.4f}\".format(epoch + 1, \n",
    "                                                                                                                total_loss / n_batches,\n",
    "                                                                                                                train_acc,\n",
    "                                                                                                               test_acc))\n",
    "    \n",
    "    saver.save(sess, \"checkpoints/cnn\")\n",
    "    writer.close()"
   ]
  },
  {
   "cell_type": "code",
   "execution_count": 76,
   "metadata": {},
   "outputs": [
    {
     "data": {
      "text/plain": [
       "<matplotlib.legend.Legend at 0x1830c56f60>"
      ]
     },
     "execution_count": 76,
     "metadata": {},
     "output_type": "execute_result"
    },
    {
     "data": {
      "image/png": "[encoded data removed]",
      "text/plain": [
       "<matplotlib.figure.Figure at 0x182bbf2f60>"
      ]
     },
     "metadata": {},
     "output_type": "display_data"
    }
   ],
   "source": [
    "plt.plot(cnn_train_accuracy)\n",
    "plt.plot(cnn_test_accuracy)\n",
    "plt.ylim(ymin=0.5, ymax=1.01)\n",
    "plt.title(\"The accuracy of CNN model\")\n",
    "plt.legend([\"train\", \"test\"])"
   ]
  },
  {
   "cell_type": "markdown",
   "metadata": {},
   "source": [
    "## 预测模型"
   ]
  },
  {
   "cell_type": "code",
   "execution_count": 75,
   "metadata": {},
   "outputs": [
    {
     "name": "stdout",
     "output_type": "stream",
     "text": [
      "INFO:tensorflow:Restoring parameters from checkpoints/cnn\n",
      "The LSTM model accuracy on test set: 75.25%\n"
     ]
    }
   ],
   "source": [
    "# 在test上的准确率\n",
    "with tf.Session() as sess:\n",
    "    saver.restore(sess, \"checkpoints/cnn\")\n",
    "    \n",
    "    total_correct = sess.run(accuracy,\n",
    "                             feed_dict={inputs: x_test, targets: y_test})\n",
    "\n",
    "    print(\"The LSTM model accuracy on test set: {:.2f}%\".format(100 * total_correct / x_test.shape[0]))"
   ]
  },
  {
   "cell_type": "markdown",
   "metadata": {},
   "source": [
    "在命令行执行tensorboard --logdir=\"./graphs/rnn\" --port 6006可以看到模型的tensorboard\n",
    "\n",
    "<img src=\"images/cnn-tensorboard.png\" style=\"width:500;height:500px;\">"
   ]
  },
  {
   "cell_type": "markdown",
   "metadata": {
    "collapsed": true
   },
   "source": [
    "# CNN multi-channel"
   ]
  },
  {
   "cell_type": "markdown",
   "metadata": {},
   "source": [
    "## 构建模型图"
   ]
  },
  {
   "cell_type": "code",
   "execution_count": 123,
   "metadata": {
    "collapsed": true
   },
   "outputs": [],
   "source": [
    "# 清空图\n",
    "tf.reset_default_graph()"
   ]
  },
  {
   "cell_type": "code",
   "execution_count": 124,
   "metadata": {
    "collapsed": true
   },
   "outputs": [],
   "source": [
    "# 我在这里定义了5种filter，每种100个\n",
    "filters_size = [2, 3, 4, 5, 6]\n",
    "num_filters = 100\n",
    "# 超参数\n",
    "BATCH_SIZE = 256\n",
    "EPOCHES = 8\n",
    "LEARNING_RATE = 0.001\n",
    "L2_LAMBDA = 10\n",
    "KEEP_PROB = 0.8"
   ]
  },
  {
   "cell_type": "code",
   "execution_count": 125,
   "metadata": {},
   "outputs": [],
   "source": [
    "with tf.name_scope(\"cnn_multichannels\"):\n",
    "    with tf.name_scope(\"placeholders\"):\n",
    "        inputs = tf.placeholder(dtype=tf.int32, shape=(None, 20), name=\"inputs\")\n",
    "        targets = tf.placeholder(dtype=tf.float32, shape=(None, 1), name=\"targets\")\n",
    "    # embeddings\n",
    "    with tf.name_scope(\"embeddings\"):\n",
    "        # static embeddings\n",
    "        static_embedding_matrix = tf.Variable(initial_value=static_embeddings, \n",
    "                                              trainable=False, \n",
    "                                              name=\"static_embedding_matrix\")\n",
    "        static_embed = tf.nn.embedding_lookup(static_embedding_matrix, inputs, name=\"static_embed\")\n",
    "        static_embed_expanded = tf.expand_dims(static_embed, -1, name=\"static_embed_expand\")\n",
    "        \n",
    "        # non-static embeddings\n",
    "        dynamic_embedding_matrix = tf.Variable(tf.random_normal(shape=(VOCAB_SIZE, EMBEDDING_SIZE), stddev=0.1), \n",
    "                                               trainable=True, \n",
    "                                               name=\"dynamic_embedding_matrix\")\n",
    "        dynamic_embed = tf.nn.embedding_lookup(dynamic_embedding_matrix, inputs, name=\"dynamic_embed\")\n",
    "        dynamic_embed_expanded = tf.expand_dims(dynamic_embed, -1, name=\"dynamic_embed_expand\")\n",
    "        \n",
    "        # stack\n",
    "        embed_expanded = tf.concat((static_embed_expanded, dynamic_embed_expanded), axis=-1, name=\"embed_expanded\")\n",
    "    \n",
    "    pooled_outputs = []\n",
    "\n",
    "    # 迭代多个filter\n",
    "    for i, filter_size in enumerate(filters_size):\n",
    "        with tf.name_scope(\"conv_maxpool_%s\" % filter_size):\n",
    "            # 注意这里filter的channel要指定为2\n",
    "            filter_shape = [filter_size, EMBEDDING_SIZE, 2, num_filters]\n",
    "            W = tf.Variable(tf.truncated_normal(filter_shape, mean=0.0, stddev=0.1), name=\"W\")\n",
    "            b = tf.Variable(tf.zeros(num_filters), name=\"b\")\n",
    "\n",
    "            conv = tf.nn.conv2d(input=embed_expanded, \n",
    "                                 filter=W, \n",
    "                                 strides=[1, 1, 1, 1], \n",
    "                                 padding=\"VALID\",\n",
    "                                 name=\"conv\")\n",
    "\n",
    "            # 激活\n",
    "            a = tf.nn.relu(tf.nn.bias_add(conv, b), name=\"activations\")\n",
    "            # 池化\n",
    "            max_pooling = tf.nn.max_pool(value=a, \n",
    "                                    ksize=[1, SENTENCE_LIMIT_SIZE - filter_size + 1, 1, 1],\n",
    "                                    strides=[1, 1, 1, 1],\n",
    "                                   padding=\"VALID\",\n",
    "                                   name=\"max_pooling\")\n",
    "            pooled_outputs.append(max_pooling)\n",
    "        \n",
    "    total_filters = num_filters * len(filters_size)\n",
    "    total_pool = tf.concat(pooled_outputs, 3)\n",
    "    flattend_pool = tf.reshape(total_pool, (-1, total_filters))\n",
    "    \n",
    "    with tf.name_scope(\"dropout\"):\n",
    "        dropout = tf.nn.dropout(flattend_pool, KEEP_PROB)\n",
    "    \n",
    "    with tf.name_scope(\"output\"):\n",
    "        W = tf.get_variable(\"W\", shape=(total_filters, 1), initializer=tf.contrib.layers.xavier_initializer())\n",
    "        b = tf.Variable(tf.zeros(1), name=\"b\")\n",
    "        \n",
    "        logits = tf.add(tf.matmul(dropout, W), b)\n",
    "        predictions = tf.nn.sigmoid(logits, name=\"predictions\")\n",
    "    \n",
    "    with tf.name_scope(\"loss\"):\n",
    "        loss = tf.reduce_mean(tf.nn.sigmoid_cross_entropy_with_logits(labels=targets, logits=logits))\n",
    "        loss = loss + L2_LAMBDA * tf.nn.l2_loss(W)\n",
    "        optimizer = tf.train.AdamOptimizer(LEARNING_RATE).minimize(loss)\n",
    "    \n",
    "    with tf.name_scope(\"evaluation\"):\n",
    "        correct_preds = tf.equal(tf.cast(tf.greater(predictions, 0.5), tf.float32), targets)\n",
    "        accuracy = tf.reduce_sum(tf.reduce_sum(tf.cast(correct_preds, tf.float32), axis=1))"
   ]
  },
  {
   "cell_type": "markdown",
   "metadata": {},
   "source": [
    "## 训练模型"
   ]
  },
  {
   "cell_type": "code",
   "execution_count": 126,
   "metadata": {
    "collapsed": true
   },
   "outputs": [],
   "source": [
    "multi_cnn_train_accuracy = []\n",
    "multi_cnn_test_accuracy = []"
   ]
  },
  {
   "cell_type": "code",
   "execution_count": 127,
   "metadata": {},
   "outputs": [],
   "source": [
    "saver = tf.train.Saver()"
   ]
  },
  {
   "cell_type": "code",
   "execution_count": 128,
   "metadata": {},
   "outputs": [
    {
     "name": "stdout",
     "output_type": "stream",
     "text": [
      "Training epoch: 1, Training loss: 11.0021, Train accuracy: 0.7970, Test accuracy: 0.6948\n",
      "Training epoch: 2, Training loss: 2.1337, Train accuracy: 0.8079, Test accuracy: 0.6943\n",
      "Training epoch: 3, Training loss: 1.2810, Train accuracy: 0.8131, Test accuracy: 0.7304\n",
      "Training epoch: 4, Training loss: 1.1661, Train accuracy: 0.8056, Test accuracy: 0.7271\n",
      "Training epoch: 5, Training loss: 1.0673, Train accuracy: 0.8533, Test accuracy: 0.7548\n",
      "Training epoch: 6, Training loss: 0.9538, Train accuracy: 0.8877, Test accuracy: 0.7628\n",
      "Training epoch: 7, Training loss: 0.8294, Train accuracy: 0.9218, Test accuracy: 0.7703\n",
      "Training epoch: 8, Training loss: 0.7052, Train accuracy: 0.9447, Test accuracy: 0.7703\n"
     ]
    }
   ],
   "source": [
    "with tf.Session() as sess:\n",
    "    sess.run(tf.global_variables_initializer())\n",
    "    \n",
    "    writer = tf.summary.FileWriter(\"./graphs/multi_cnn\", tf.get_default_graph())\n",
    "    n_batches = int(x_train.shape[0] / BATCH_SIZE)\n",
    "    \n",
    "    for epoch in range(EPOCHES):\n",
    "        total_loss = 0\n",
    "        for x_batch, y_batch in get_batch(x_train, y_train):\n",
    "            _, l = sess.run([optimizer, loss],\n",
    "                            feed_dict={inputs: x_batch, \n",
    "                                       targets: y_batch})\n",
    "            total_loss += l\n",
    "        \n",
    "        train_corrects = sess.run(accuracy, feed_dict={inputs: x_train, targets: y_train})\n",
    "        train_acc = train_corrects / x_train.shape[0]\n",
    "        multi_cnn_train_accuracy.append(train_acc)\n",
    "        \n",
    "        test_corrects = sess.run(accuracy, feed_dict={inputs: x_test, targets: y_test})\n",
    "        test_acc = test_corrects / x_test.shape[0]\n",
    "        multi_cnn_test_accuracy.append(test_acc)\n",
    "        \n",
    "        print(\"Training epoch: {}, Training loss: {:.4f}, Train accuracy: {:.4f}, Test accuracy: {:.4f}\".format(epoch + 1, \n",
    "                                                                                                                total_loss / n_batches,\n",
    "                                                                                                                train_acc,\n",
    "                                                                                                                test_acc))\n",
    "    \n",
    "    saver.save(sess, \"checkpoints/multi_cnn\")\n",
    "    writer.close()"
   ]
  },
  {
   "cell_type": "code",
   "execution_count": 131,
   "metadata": {},
   "outputs": [
    {
     "data": {
      "text/plain": [
       "<matplotlib.legend.Legend at 0x182933f438>"
      ]
     },
     "execution_count": 131,
     "metadata": {},
     "output_type": "execute_result"
    },
    {
     "data": {
      "image/png": "[encoded data removed]",
      "text/plain": [
       "<matplotlib.figure.Figure at 0x183600ff98>"
      ]
     },
     "metadata": {},
     "output_type": "display_data"
    }
   ],
   "source": [
    "plt.plot(multi_cnn_train_accuracy)\n",
    "plt.plot(multi_cnn_test_accuracy)\n",
    "plt.ylim(ymin=0.5, ymax=1.01)\n",
    "plt.title(\"The accuracy of multi-channel CNN model\")\n",
    "plt.legend([\"train\", \"test\"])"
   ]
  },
  {
   "cell_type": "markdown",
   "metadata": {},
   "source": [
    "## 预测模型"
   ]
  },
  {
   "cell_type": "code",
   "execution_count": 132,
   "metadata": {},
   "outputs": [
    {
     "name": "stdout",
     "output_type": "stream",
     "text": [
      "INFO:tensorflow:Restoring parameters from checkpoints/multi_cnn\n",
      "The LSTM model accuracy on test set: 76.93%\n"
     ]
    }
   ],
   "source": [
    "# 在test上的准确率\n",
    "with tf.Session() as sess:\n",
    "    saver.restore(sess, \"checkpoints/multi_cnn\")\n",
    "    \n",
    "    total_correct = sess.run(accuracy,\n",
    "                             feed_dict={inputs: x_test, targets: y_test})\n",
    "\n",
    "    print(\"The LSTM model accuracy on test set: {:.2f}%\".format(100 * total_correct / x_test.shape[0]))"
   ]
  },
  {
   "cell_type": "code",
   "execution_count": null,
   "metadata": {
    "collapsed": true
   },
   "outputs": [],
   "source": []
  }
 ],
 "metadata": {
  "kernelspec": {
   "display_name": "Python 3",
   "language": "python",
   "name": "python3"
  },
  "language_info": {
   "codemirror_mode": {
    "name": "ipython",
    "version": 3
   },
   "file_extension": ".py",
   "mimetype": "text/x-python",
   "name": "python",
   "nbconvert_exporter": "python",
   "pygments_lexer": "ipython3",
   "version": "3.6.4"
  },
  "toc": {
   "base_numbering": 1,
   "nav_menu": {},
   "number_sections": true,
   "sideBar": true,
   "skip_h1_title": false,
   "title_cell": "Table of Contents",
   "title_sidebar": "Contents",
   "toc_cell": false,
   "toc_position": {
    "height": "calc(100% - 180px)",
    "left": "10px",
    "top": "150px",
    "width": "290px"
   },
   "toc_section_display": true,
   "toc_window_display": true
  }
 },
 "nbformat": 4,
 "nbformat_minor": 2
}
