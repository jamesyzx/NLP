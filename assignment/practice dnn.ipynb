{
 "cells": [
  {
   "cell_type": "code",
   "execution_count": 1,
   "metadata": {},
   "outputs": [
    {
     "name": "stderr",
     "output_type": "stream",
     "text": [
      "/Users/james/anaconda3/lib/python3.6/importlib/_bootstrap.py:219: RuntimeWarning: numpy.dtype size changed, may indicate binary incompatibility. Expected 96, got 88\n",
      "  return f(*args, **kwds)\n",
      "/Users/james/anaconda3/lib/python3.6/site-packages/h5py/__init__.py:36: FutureWarning: Conversion of the second argument of issubdtype from `float` to `np.floating` is deprecated. In future, it will be treated as `np.float64 == np.dtype(float).type`.\n",
      "  from ._conv import register_converters as _register_converters\n",
      "/Users/james/anaconda3/lib/python3.6/site-packages/requests/__init__.py:80: RequestsDependencyWarning: urllib3 (1.24.1) or chardet (3.0.4) doesn't match a supported version!\n",
      "  RequestsDependencyWarning)\n",
      "/Users/james/anaconda3/lib/python3.6/importlib/_bootstrap.py:219: RuntimeWarning: numpy.dtype size changed, may indicate binary incompatibility. Expected 96, got 88\n",
      "  return f(*args, **kwds)\n",
      "/Users/james/anaconda3/lib/python3.6/importlib/_bootstrap.py:219: RuntimeWarning: numpy.dtype size changed, may indicate binary incompatibility. Expected 96, got 88\n",
      "  return f(*args, **kwds)\n"
     ]
    },
    {
     "name": "stdout",
     "output_type": "stream",
     "text": [
      "Using matplotlib backend: MacOSX\n"
     ]
    }
   ],
   "source": [
    "import tensorflow as tf\n",
    "import numpy as np\n",
    "import matplotlib.pyplot as plt\n",
    "%matplotlib "
   ]
  },
  {
   "cell_type": "code",
   "execution_count": 11,
   "metadata": {},
   "outputs": [],
   "source": [
    "#load data\n",
    "x_data = np.linspace(-1,1,300)[:,np.newaxis]\n",
    "noice = np.random.normal(0,0.05,x_data.shape)  #np.random.normal(正态分布的均值，正态分布的方差，【shape】）\n",
    "y_data = np.square(x_data)-0.5+noice #y=x^2-0.5+noice\n",
    "#define placeholder\n",
    "xs= tf.placeholder(tf.float32,[None,1]) #placeholder(dtype,shape,name)\n",
    "ys = tf.placeholder(tf.float32,[None,1])\n"
   ]
  },
  {
   "cell_type": "code",
   "execution_count": 22,
   "metadata": {},
   "outputs": [],
   "source": [
    "#define the layer\n",
    "def add_layer(inputs,input_size,output_size,activation_function):\n",
    "    Weights = tf.Variable(tf.random_normal([input_size,output_size]))\n",
    "    bias = tf.Variable(tf.zeros([1,output_size])+0.1)\n",
    "    Wx_plus = (tf.matmul(inputs,Weights)+bias)\n",
    "    \n",
    "    if activation_function == None:\n",
    "        outputs = Wx_plus\n",
    "    else:\n",
    "        outputs = activation_function(Wx_plus)\n",
    "    \n",
    "    \n",
    "    \n",
    "    return outputs\n",
    "\n",
    "\n",
    "\n",
    "\n"
   ]
  },
  {
   "cell_type": "code",
   "execution_count": 26,
   "metadata": {},
   "outputs": [],
   "source": [
    "\n",
    "#input - > hidden layer\n",
    "\n",
    "input_layer = add_layer(xs, 1 , 100 , activation_function = tf.nn.relu)\n",
    "\n",
    "\n",
    "\n",
    "\n",
    "\n",
    "\n",
    "# output layer\n",
    "#prediction\n",
    "prediction = add_layer(input_layer, 100, 1, activation_function = None)\n",
    "\n",
    "\n",
    "\n",
    "\n"
   ]
  },
  {
   "cell_type": "code",
   "execution_count": 36,
   "metadata": {},
   "outputs": [],
   "source": [
    "\n",
    "\n",
    "#cost mse\n",
    "\n",
    "cost = tf.reduce_mean(tf.reduce_sum(tf.square(prediction-ys),reduction_indices=[1]))\n",
    "\n",
    "#training \n",
    "\n",
    "training_op = tf.train.AdamOptimizer(0.01).minimize(cost)\n",
    "\n",
    "#cost_correct\n",
    "cost_correct = tf.equal(tf.argmax(prediction,1),tf.argmax(ys,1))\n",
    "#accuracy\n",
    "accuracy = tf.reduce_mean(tf.cast(cost_correct, tf.float32))\n"
   ]
  },
  {
   "cell_type": "code",
   "execution_count": 46,
   "metadata": {
    "scrolled": true
   },
   "outputs": [
    {
     "data": {
      "image/png": "[encoded data removed]",
      "text/plain": [
       "<matplotlib.figure.Figure at 0x1c32a25ef0>"
      ]
     },
     "metadata": {},
     "output_type": "display_data"
    },
    {
     "name": "stdout",
     "output_type": "stream",
     "text": [
      "5.341306\n",
      "1.0\n",
      "(300, 1)\n",
      "0.021616276\n",
      "1.0\n",
      "(300, 1)\n",
      "0.005814421\n",
      "1.0\n",
      "(300, 1)\n",
      "0.0039313934\n",
      "1.0\n",
      "(300, 1)\n",
      "0.0032773442\n",
      "1.0\n",
      "(300, 1)\n",
      "0.0030252996\n",
      "1.0\n",
      "(300, 1)\n",
      "0.0028668086\n",
      "1.0\n",
      "(300, 1)\n",
      "0.0027413294\n",
      "1.0\n",
      "(300, 1)\n",
      "0.0026717158\n",
      "1.0\n",
      "(300, 1)\n",
      "0.0026251883\n",
      "1.0\n",
      "(300, 1)\n",
      "0.0025900842\n",
      "1.0\n",
      "(300, 1)\n",
      "0.0025611366\n",
      "1.0\n",
      "(300, 1)\n",
      "0.002531497\n",
      "1.0\n",
      "(300, 1)\n",
      "0.002499829\n",
      "1.0\n",
      "(300, 1)\n",
      "0.0024807572\n",
      "1.0\n",
      "(300, 1)\n",
      "0.002468347\n",
      "1.0\n",
      "(300, 1)\n",
      "0.0024599403\n",
      "1.0\n",
      "(300, 1)\n",
      "0.0024536932\n",
      "1.0\n",
      "(300, 1)\n",
      "0.0024481686\n",
      "1.0\n",
      "(300, 1)\n",
      "0.0024418675\n",
      "1.0\n",
      "(300, 1)\n"
     ]
    }
   ],
   "source": [
    "# seesion.run\n",
    "init = tf.global_variables_initializer()\n",
    "with tf.Session() as sess:\n",
    "    sess.run(init)\n",
    "    fig = plt.figure()\n",
    "    ax = fig.add_subplot(1,1,1)\n",
    "    ax.scatter(x_data,y_data)\n",
    "    plt.ion()\n",
    "    plt.show()\n",
    "    for i in range(1000):\n",
    "        sess.run(training_op ,feed_dict={xs:x_data,ys:y_data})\n",
    "        if i % 50 ==0:\n",
    "            print(sess.run(cost,feed_dict={xs:x_data,ys:y_data}))\n",
    "            print(sess.run(accuracy,feed_dict={xs:x_data,ys:y_data}))\n",
    "            prediction_value = sess.run(prediction, feed_dict={xs: x_data})\n",
    "            prediction_value.shape\n",
    "            print( prediction_value.shape)\n",
    "            try:\n",
    "                ax.lines.remove(lines[0])\n",
    "            except Exception:\n",
    "                pass\n",
    "            prediction_value = sess.run(prediction, feed_dict={xs: x_data})\n",
    "            lines = ax.plot(x_data, prediction_value, 'r-', lw=5)\n",
    "            plt.pause(0.1)"
   ]
  },
  {
   "cell_type": "code",
   "execution_count": null,
   "metadata": {},
   "outputs": [],
   "source": []
  }
 ],
 "metadata": {
  "kernelspec": {
   "display_name": "Python 3",
   "language": "python",
   "name": "python3"
  },
  "language_info": {
   "codemirror_mode": {
    "name": "ipython",
    "version": 3
   },
   "file_extension": ".py",
   "mimetype": "text/x-python",
   "name": "python",
   "nbconvert_exporter": "python",
   "pygments_lexer": "ipython3",
   "version": "3.6.4"
  }
 },
 "nbformat": 4,
 "nbformat_minor": 2
}
